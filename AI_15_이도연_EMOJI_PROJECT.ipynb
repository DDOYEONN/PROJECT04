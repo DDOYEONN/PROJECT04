{
  "cells": [
    {
      "cell_type": "code",
      "execution_count": null,
      "metadata": {
        "id": "DFKm48W7VDgu",
        "colab": {
          "base_uri": "https://localhost:8080/"
        },
        "outputId": "54a3b8b1-1546-4d7b-b6c0-a76b814db20b"
      },
      "outputs": [
        {
          "output_type": "stream",
          "name": "stdout",
          "text": [
            "Looking in indexes: https://pypi.org/simple, https://us-python.pkg.dev/colab-wheels/public/simple/\n",
            "Collecting transformers\n",
            "  Downloading transformers-4.25.1-py3-none-any.whl (5.8 MB)\n",
            "\u001b[K     |████████████████████████████████| 5.8 MB 5.0 MB/s \n",
            "\u001b[?25hRequirement already satisfied: numpy>=1.17 in /usr/local/lib/python3.8/dist-packages (from transformers) (1.21.6)\n",
            "Requirement already satisfied: tqdm>=4.27 in /usr/local/lib/python3.8/dist-packages (from transformers) (4.64.1)\n",
            "Requirement already satisfied: requests in /usr/local/lib/python3.8/dist-packages (from transformers) (2.23.0)\n",
            "Requirement already satisfied: pyyaml>=5.1 in /usr/local/lib/python3.8/dist-packages (from transformers) (6.0)\n",
            "Collecting huggingface-hub<1.0,>=0.10.0\n",
            "  Downloading huggingface_hub-0.11.1-py3-none-any.whl (182 kB)\n",
            "\u001b[K     |████████████████████████████████| 182 kB 69.2 MB/s \n",
            "\u001b[?25hCollecting tokenizers!=0.11.3,<0.14,>=0.11.1\n",
            "  Downloading tokenizers-0.13.2-cp38-cp38-manylinux_2_17_x86_64.manylinux2014_x86_64.whl (7.6 MB)\n",
            "\u001b[K     |████████████████████████████████| 7.6 MB 44.9 MB/s \n",
            "\u001b[?25hRequirement already satisfied: packaging>=20.0 in /usr/local/lib/python3.8/dist-packages (from transformers) (21.3)\n",
            "Requirement already satisfied: filelock in /usr/local/lib/python3.8/dist-packages (from transformers) (3.8.0)\n",
            "Requirement already satisfied: regex!=2019.12.17 in /usr/local/lib/python3.8/dist-packages (from transformers) (2022.6.2)\n",
            "Requirement already satisfied: typing-extensions>=3.7.4.3 in /usr/local/lib/python3.8/dist-packages (from huggingface-hub<1.0,>=0.10.0->transformers) (4.4.0)\n",
            "Requirement already satisfied: pyparsing!=3.0.5,>=2.0.2 in /usr/local/lib/python3.8/dist-packages (from packaging>=20.0->transformers) (3.0.9)\n",
            "Requirement already satisfied: urllib3!=1.25.0,!=1.25.1,<1.26,>=1.21.1 in /usr/local/lib/python3.8/dist-packages (from requests->transformers) (1.24.3)\n",
            "Requirement already satisfied: chardet<4,>=3.0.2 in /usr/local/lib/python3.8/dist-packages (from requests->transformers) (3.0.4)\n",
            "Requirement already satisfied: certifi>=2017.4.17 in /usr/local/lib/python3.8/dist-packages (from requests->transformers) (2022.9.24)\n",
            "Requirement already satisfied: idna<3,>=2.5 in /usr/local/lib/python3.8/dist-packages (from requests->transformers) (2.10)\n",
            "Installing collected packages: tokenizers, huggingface-hub, transformers\n",
            "Successfully installed huggingface-hub-0.11.1 tokenizers-0.13.2 transformers-4.25.1\n"
          ]
        }
      ],
      "source": [
        "pip install transformers"
      ]
    },
    {
      "cell_type": "code",
      "execution_count": null,
      "metadata": {
        "id": "PT6DETXfVTaM",
        "colab": {
          "base_uri": "https://localhost:8080/"
        },
        "outputId": "f295b6bd-8d63-461c-b6af-1591a5de003f"
      },
      "outputs": [
        {
          "output_type": "stream",
          "name": "stdout",
          "text": [
            "Looking in indexes: https://pypi.org/simple, https://us-python.pkg.dev/colab-wheels/public/simple/\n",
            "Collecting keras-bert\n",
            "  Downloading keras-bert-0.89.0.tar.gz (25 kB)\n",
            "Requirement already satisfied: numpy in /usr/local/lib/python3.8/dist-packages (from keras-bert) (1.21.6)\n",
            "Collecting keras-transformer==0.40.0\n",
            "  Downloading keras-transformer-0.40.0.tar.gz (9.7 kB)\n",
            "Collecting keras-pos-embd==0.13.0\n",
            "  Downloading keras-pos-embd-0.13.0.tar.gz (5.6 kB)\n",
            "Collecting keras-multi-head==0.29.0\n",
            "  Downloading keras-multi-head-0.29.0.tar.gz (13 kB)\n",
            "Collecting keras-layer-normalization==0.16.0\n",
            "  Downloading keras-layer-normalization-0.16.0.tar.gz (3.9 kB)\n",
            "Collecting keras-position-wise-feed-forward==0.8.0\n",
            "  Downloading keras-position-wise-feed-forward-0.8.0.tar.gz (4.1 kB)\n",
            "Collecting keras-embed-sim==0.10.0\n",
            "  Downloading keras-embed-sim-0.10.0.tar.gz (3.6 kB)\n",
            "Collecting keras-self-attention==0.51.0\n",
            "  Downloading keras-self-attention-0.51.0.tar.gz (11 kB)\n",
            "Building wheels for collected packages: keras-bert, keras-transformer, keras-embed-sim, keras-layer-normalization, keras-multi-head, keras-pos-embd, keras-position-wise-feed-forward, keras-self-attention\n",
            "  Building wheel for keras-bert (setup.py) ... \u001b[?25l\u001b[?25hdone\n",
            "  Created wheel for keras-bert: filename=keras_bert-0.89.0-py3-none-any.whl size=33516 sha256=129badaa4f5bec01bf6652f98ccbca1d51a0020cfc5a4c2874e6c94c9a8cbeaa\n",
            "  Stored in directory: /root/.cache/pip/wheels/a1/34/ed/6bbd71716d7bcea30d75e8bc5aeb94f4cb52636295c8343534\n",
            "  Building wheel for keras-transformer (setup.py) ... \u001b[?25l\u001b[?25hdone\n",
            "  Created wheel for keras-transformer: filename=keras_transformer-0.40.0-py3-none-any.whl size=12304 sha256=6660fc48618dce56d962e0d6c53e8f5a3feac0fa17fa65543283ca472f5a9e9d\n",
            "  Stored in directory: /root/.cache/pip/wheels/07/cd/a7/a8fa93f7e177eee0101fed63179f7a2fa3b53671ffaad82bfd\n",
            "  Building wheel for keras-embed-sim (setup.py) ... \u001b[?25l\u001b[?25hdone\n",
            "  Created wheel for keras-embed-sim: filename=keras_embed_sim-0.10.0-py3-none-any.whl size=3959 sha256=e551aa169b97501e16442173df9c705781c0accb3b373ad9dd6751ecc448a4ef\n",
            "  Stored in directory: /root/.cache/pip/wheels/59/bd/9a/ec6e575aaa50687d7af968bde7ce710b542eeaa9ee7978d4ba\n",
            "  Building wheel for keras-layer-normalization (setup.py) ... \u001b[?25l\u001b[?25hdone\n",
            "  Created wheel for keras-layer-normalization: filename=keras_layer_normalization-0.16.0-py3-none-any.whl size=4668 sha256=7daec2c60ec0fe038878af566ea34060b53250bf22f504e7e1401a4f743d6812\n",
            "  Stored in directory: /root/.cache/pip/wheels/d7/2b/f4/28f4bab995fa99c26b761bc7f9aeb5bf6c81e9be6ccd0b853b\n",
            "  Building wheel for keras-multi-head (setup.py) ... \u001b[?25l\u001b[?25hdone\n",
            "  Created wheel for keras-multi-head: filename=keras_multi_head-0.29.0-py3-none-any.whl size=14993 sha256=1153a3f1276deaa70d4f83f70352a646f34bb9f08d217ef53e1289b46f5dc047\n",
            "  Stored in directory: /root/.cache/pip/wheels/91/eb/bc/ce4bb467f5a7db6727f148f70bb0e52a62ef7edd41a19c8bdd\n",
            "  Building wheel for keras-pos-embd (setup.py) ... \u001b[?25l\u001b[?25hdone\n",
            "  Created wheel for keras-pos-embd: filename=keras_pos_embd-0.13.0-py3-none-any.whl size=6961 sha256=290af2b788bcbdfa55211a04adbd576a8473bae61397f4ff6ad8772ea1d0cffe\n",
            "  Stored in directory: /root/.cache/pip/wheels/91/c4/ff/7e13e4f102c3b7d73ff075a50fe3266f3ec2de898d5493a8a2\n",
            "  Building wheel for keras-position-wise-feed-forward (setup.py) ... \u001b[?25l\u001b[?25hdone\n",
            "  Created wheel for keras-position-wise-feed-forward: filename=keras_position_wise_feed_forward-0.8.0-py3-none-any.whl size=4983 sha256=c9add8acbc9468c7e9ab2bd3b9d1845fb10a3abd4f31729971ad95156716f667\n",
            "  Stored in directory: /root/.cache/pip/wheels/f2/15/39/59861ed531ef6c7c75810500eb22c68a425f82dde31d68630a\n",
            "  Building wheel for keras-self-attention (setup.py) ... \u001b[?25l\u001b[?25hdone\n",
            "  Created wheel for keras-self-attention: filename=keras_self_attention-0.51.0-py3-none-any.whl size=18913 sha256=fc8e97d80ee1455f836d3275df9626216687ee47a57a36125433fdbc441ecdbe\n",
            "  Stored in directory: /root/.cache/pip/wheels/ac/13/2d/3de7c76f618a8d162884ac5b726a8c2242ad88afa370f1e62f\n",
            "Successfully built keras-bert keras-transformer keras-embed-sim keras-layer-normalization keras-multi-head keras-pos-embd keras-position-wise-feed-forward keras-self-attention\n",
            "Installing collected packages: keras-self-attention, keras-position-wise-feed-forward, keras-pos-embd, keras-multi-head, keras-layer-normalization, keras-embed-sim, keras-transformer, keras-bert\n",
            "Successfully installed keras-bert-0.89.0 keras-embed-sim-0.10.0 keras-layer-normalization-0.16.0 keras-multi-head-0.29.0 keras-pos-embd-0.13.0 keras-position-wise-feed-forward-0.8.0 keras-self-attention-0.51.0 keras-transformer-0.40.0\n",
            "Looking in indexes: https://pypi.org/simple, https://us-python.pkg.dev/colab-wheels/public/simple/\n",
            "Collecting keras-radam\n",
            "  Downloading keras-radam-0.15.0.tar.gz (11 kB)\n",
            "Requirement already satisfied: numpy in /usr/local/lib/python3.8/dist-packages (from keras-radam) (1.21.6)\n",
            "Requirement already satisfied: Keras in /usr/local/lib/python3.8/dist-packages (from keras-radam) (2.9.0)\n",
            "Building wheels for collected packages: keras-radam\n",
            "  Building wheel for keras-radam (setup.py) ... \u001b[?25l\u001b[?25hdone\n",
            "  Created wheel for keras-radam: filename=keras_radam-0.15.0-py3-none-any.whl size=14685 sha256=122347457777146d42c63a6b8d6ea1648902b5085a45a68ae87cb0c47f53bdf7\n",
            "  Stored in directory: /root/.cache/pip/wheels/f6/98/3f/5124b0dad7a7a9e7186ee91bbc9b1a5d66cbbed02c306dacfc\n",
            "Successfully built keras-radam\n",
            "Installing collected packages: keras-radam\n",
            "Successfully installed keras-radam-0.15.0\n"
          ]
        }
      ],
      "source": [
        "!pip install keras-bert\n",
        "!pip install keras-radam"
      ]
    },
    {
      "cell_type": "code",
      "execution_count": null,
      "metadata": {
        "colab": {
          "base_uri": "https://localhost:8080/"
        },
        "id": "I3sKLsUL_1o6",
        "outputId": "f6a84ddb-636d-4d9e-fb4a-538a6dc3f331"
      },
      "outputs": [
        {
          "output_type": "stream",
          "name": "stdout",
          "text": [
            "Looking in indexes: https://pypi.org/simple, https://us-python.pkg.dev/colab-wheels/public/simple/\n",
            "Collecting emoji\n",
            "  Downloading emoji-2.2.0.tar.gz (240 kB)\n",
            "\u001b[K     |████████████████████████████████| 240 kB 5.0 MB/s \n",
            "\u001b[?25hBuilding wheels for collected packages: emoji\n",
            "  Building wheel for emoji (setup.py) ... \u001b[?25l\u001b[?25hdone\n",
            "  Created wheel for emoji: filename=emoji-2.2.0-py3-none-any.whl size=234926 sha256=cf84039a376129a8ba88129a5ad4b09bef2a8fbf642655b397e2118fa54f627e\n",
            "  Stored in directory: /root/.cache/pip/wheels/86/62/9e/a6b27a681abcde69970dbc0326ff51955f3beac72f15696984\n",
            "Successfully built emoji\n",
            "Installing collected packages: emoji\n",
            "Successfully installed emoji-2.2.0\n"
          ]
        }
      ],
      "source": [
        "pip install emoji"
      ]
    },
    {
      "cell_type": "code",
      "execution_count": null,
      "metadata": {
        "id": "Eiuhw2VTUk1r"
      },
      "outputs": [],
      "source": [
        "import tensorflow.keras as tf\n",
        "import pandas as pd\n",
        "import numpy as np  \n",
        "import re\n",
        "import pickle\n",
        "import tensorflow.keras as keras\n",
        "from tensorflow.keras.models import load_model\n",
        "from tensorflow.keras import backend as K\n",
        "from tensorflow.keras import Input, Model\n",
        "from tensorflow.keras import optimizers\n",
        "\n",
        "import codecs\n",
        "from tqdm import tqdm\n",
        "import shutil"
      ]
    },
    {
      "cell_type": "code",
      "execution_count": null,
      "metadata": {
        "id": "zcoz5CPNUtYM"
      },
      "outputs": [],
      "source": [
        "from sklearn.metrics import f1_score\n",
        "from sklearn.preprocessing import LabelEncoder\n",
        "import random\n",
        "import os\n",
        "import torch\n",
        "from torch import nn\n",
        "import torch.nn.functional as F\n",
        "from torch.utils.data import DataLoader, Dataset\n",
        "from tqdm.notebook import tqdm\n",
        "from transformers import BertTokenizer\n",
        "from transformers import BertModel\n",
        "from torch.optim import Adam\n",
        "import matplotlib as mpl\n",
        "import matplotlib.pyplot as plt\n",
        "\n",
        "import warnings\n",
        "warnings.filterwarnings(action='ignore')"
      ]
    },
    {
      "cell_type": "code",
      "execution_count": null,
      "metadata": {
        "id": "LiSvx0uSU5C4"
      },
      "outputs": [],
      "source": [
        "# 다운 bert 모형 불러옴\n",
        "from keras_bert import load_trained_model_from_checkpoint, load_vocabulary\n",
        "from keras_bert import Tokenizer\n",
        "from keras_bert import AdamWarmup, calc_train_steps\n",
        "\n",
        "from keras_radam import RAdam\n",
        "import emoji"
      ]
    },
    {
      "cell_type": "markdown",
      "metadata": {
        "id": "UWxK1xfnAcxU"
      },
      "source": [
        "input : df['Utterance'] 문장이 들어감\n",
        "\n",
        "output : 감정종류가 나옴"
      ]
    },
    {
      "cell_type": "code",
      "execution_count": null,
      "metadata": {
        "colab": {
          "base_uri": "https://localhost:8080/"
        },
        "id": "vSVBosFeVPxI",
        "outputId": "d0e58a3a-2ce1-4726-f84c-0a8a819fe6f2"
      },
      "outputs": [
        {
          "output_type": "execute_result",
          "data": {
            "text/plain": [
              "['vocab.txt',\n",
              " 'bert_config.json',\n",
              " 'bert_model.ckpt.data-00000-of-00001',\n",
              " 'bert_model.ckpt.meta',\n",
              " 'bert_model.ckpt.index',\n",
              " 'bert1.h5']"
            ]
          },
          "metadata": {},
          "execution_count": 43
        }
      ],
      "source": [
        "# bert 이미 학습된 모델임\n",
        "os.listdir('/content/drive/MyDrive/bert')"
      ]
    },
    {
      "cell_type": "code",
      "execution_count": null,
      "metadata": {
        "id": "QJ3nsNd6CBhS"
      },
      "outputs": [],
      "source": [
        "# bert 경로지정해줌\n",
        "path = \"/content/drive/MyDrive/bert\""
      ]
    },
    {
      "cell_type": "code",
      "execution_count": null,
      "metadata": {
        "colab": {
          "base_uri": "https://localhost:8080/"
        },
        "id": "kYXwr8IKYmt8",
        "outputId": "f1d4fc19-6e56-46d5-b4f2-e2858ed85632"
      },
      "outputs": [
        {
          "output_type": "stream",
          "name": "stdout",
          "text": [
            "Drive already mounted at /content/drive; to attempt to forcibly remount, call drive.mount(\"/content/drive\", force_remount=True).\n"
          ]
        }
      ],
      "source": [
        "from google.colab import drive\n",
        "drive.mount('/content/drive')"
      ]
    },
    {
      "cell_type": "code",
      "execution_count": null,
      "metadata": {
        "id": "KzkfipvjVf1r"
      },
      "outputs": [],
      "source": [
        "# 폴더를 복사하는 함수를 정의 Bert 모델은 GDrive 에 존재\n",
        "# Colab 클라우드 컴퓨터 안에 Bert 모형을 직접 저장하면, GDRIVE 경유 하는 것보다 사전 학습된 모델을 로드하는 시간이 단축\n",
        "def copytree(src, dst, symlinks = False, ignore = None):\n",
        "    for item in os.listdir(src):\n",
        "        s = os.path.join(src, item)\n",
        "        d = os.path.join(dst, item)\n",
        "        if os.path.isdir(s):\n",
        "            shutil.copytree(s, d, symlinks, ignore)\n",
        "        else:\n",
        "            shutil.copy2(s, d)"
      ]
    },
    {
      "cell_type": "code",
      "execution_count": null,
      "metadata": {
        "id": "vLwxtdhcDKIU"
      },
      "outputs": [],
      "source": [
        "# Colab 클라우드 서버에 bert라는 폴더를 생성함\n",
        "os.makedirs(\"bert\")"
      ]
    },
    {
      "cell_type": "code",
      "execution_count": null,
      "metadata": {
        "id": "9yHDMJSTVhmV"
      },
      "outputs": [],
      "source": [
        "df = pd.read_csv('/content/drive/MyDrive/open/train.csv')"
      ]
    },
    {
      "cell_type": "code",
      "execution_count": null,
      "metadata": {
        "id": "Y64P6yQLZKDk"
      },
      "outputs": [],
      "source": [
        "x_train = df[['Utterance']]\n",
        "# y_train = df['Target']인 경우에 시리즈로 나오기 때문에 df[[Target]]으로 하여 df 형태로 바꿔줌\n",
        "y_train = df.iloc[:,-1]"
      ]
    },
    {
      "cell_type": "code",
      "execution_count": null,
      "metadata": {
        "id": "Fd83j22pVyL5"
      },
      "outputs": [],
      "source": [
        "# SEQ_LEN : 문장의 최대 길이, 문장보다 길이가 작아지면 0이 채워지고, 문장이 길다면  초과하는 부분은 잘라냄\n",
        "# BATCH_SIZE : 메모리 초과 같은 문제를 방지하기 위함 \n",
        "# EPOCHS총 훈련 에포크 수 \n",
        "# LR 학습률\n",
        "# 하이퍼파라미터\n",
        "\n",
        "# bert 모형의 사전모델\n",
        "SEQ_LEN = 128 #한국어는 60 정도 들어감\n",
        "BATCH_SIZE = 16 # 16보다 크면 메모리 오류가 일어나서 학습이 힘들다\n",
        "EPOCHS = 4\n",
        "LR = 1e-5"
      ]
    },
    {
      "cell_type": "code",
      "execution_count": null,
      "metadata": {
        "id": "6O3eT784V5Oc"
      },
      "outputs": [],
      "source": [
        "path = ('/content/drive/MyDrive/bert')\n",
        "\n",
        "pretrained_path = path\n",
        "config_path = os.path.join(pretrained_path, 'bert_config.json')\n",
        "checkpoint_path = os.path.join(pretrained_path, 'bert_model.ckpt')\n",
        "vocab_path = os.path.join(pretrained_path, 'vocab.txt')\n",
        "\n",
        "DATA_COLUMN = \"Utterance\"\n",
        "LABEL_COLUMN = \"Target\""
      ]
    },
    {
      "cell_type": "code",
      "execution_count": null,
      "metadata": {
        "id": "gQF2UVQNWGIU"
      },
      "outputs": [],
      "source": [
        "# 몇 번째에 단어가 위치하는지 인덱싱을 구현함\n",
        "# vocab.txt에 있는 단어에 인덱스를 추가해주는 token_dict 라는 딕셔너리 생성함\n",
        "# 분석할 문장이 토큰화됨\n",
        "# 그 다음 인덱스(숫자)로 변경되어서 버트 신경망에 인풋으로 들어감\n",
        "\n",
        "#vocab.txt는 단어들에다가 인덱싱을 부여서 위치를 알 수 있게해줌\n",
        "token_dict = {}\n",
        "with codecs.open(vocab_path, 'r', 'utf8') as reader:\n",
        "    for line in reader:\n",
        "        token = line.strip()\n",
        "        if \"_\" in token:\n",
        "          token = token.replace(\"_\",\"\")\n",
        "          token = \"##\" + token\n",
        "        token_dict[token] = len(token_dict)"
      ]
    },
    {
      "cell_type": "code",
      "execution_count": null,
      "metadata": {
        "id": "BcA-NaowWPqR"
      },
      "outputs": [],
      "source": [
        "# 문장을 tokenize\n",
        "# 전처리 \n",
        "class inherit_Tokenizer(Tokenizer):\n",
        "  def _tokenize(self, text):\n",
        "        if not self._cased:\n",
        "            text = text\n",
        "            \n",
        "            text = text.lower()\n",
        "        spaced = ''\n",
        "        for ch in text:\n",
        "            if self._is_punctuation(ch) or self._is_cjk_character(ch):\n",
        "                spaced += ' ' + ch + ' '\n",
        "            elif self._is_space(ch):\n",
        "                spaced += ' '\n",
        "            elif ord(ch) == 0 or ord(ch) == 0xfffd or self._is_control(ch):\n",
        "                continue\n",
        "            else:\n",
        "                spaced += ch\n",
        "        tokens = []\n",
        "        for word in spaced.strip().split():\n",
        "            tokens += self._word_piece_tokenize(word)\n",
        "        return tokens"
      ]
    },
    {
      "cell_type": "code",
      "source": [
        "tokenizer = inherit_Tokenizer(token_dict)"
      ],
      "metadata": {
        "id": "jwpDcf0Jhz7H"
      },
      "execution_count": null,
      "outputs": []
    },
    {
      "cell_type": "code",
      "execution_count": null,
      "metadata": {
        "id": "TyEAZahRWS22"
      },
      "outputs": [],
      "source": [
        "# 데이터를 버트 모형의 입력에 맞게 변형을 해줘야 함\n",
        "# convert_data 함수 정의해줌\n",
        "# pandas 데이터를 input 으로 받았음\n",
        "def convert_data(data_df):\n",
        "    global tokenizer\n",
        "    indices, targets = [], []\n",
        "    for i in tqdm(range(len(data_df))):\n",
        "        ids, segments = tokenizer .encode(data_df[DATA_COLUMN][i], max_len = SEQ_LEN)\n",
        "        indices.append(ids)\n",
        "        targets.append(data_df[LABEL_COLUMN][i])\n",
        "    items = list(zip(indices, targets))\n",
        "    \n",
        "    indices, targets = zip(*items)\n",
        "    indices = np.array(indices)\n",
        "    return [indices, np.zeros_like(indices)], np.array(targets)\n",
        "\n",
        "def load_data(pandas_dataframe):\n",
        "    data_df = pandas_dataframe\n",
        "    data_df[DATA_COLUMN] = data_df[DATA_COLUMN].astype(str)\n",
        "    data_x, data_y = convert_data(data_df)\n",
        "    \n",
        "    return data_x, data_y"
      ]
    },
    {
      "cell_type": "code",
      "execution_count": null,
      "metadata": {
        "colab": {
          "base_uri": "https://localhost:8080/",
          "height": 49,
          "referenced_widgets": [
            "3a2ccbc491ae47a28229372f3296d433",
            "c855b0e6abd0404e8907948c8f602da8",
            "d9af82a3d0ee420db30251cab631848d",
            "53d1bc77975c48b19d335f147b9b7ea1",
            "414b5f95dbe34bf18d09d2ff7f1199c6",
            "a469ca21f4b64eaf8c1cb3ed7d006ae3",
            "e98755c202814d87a3e162ff067b4ed3",
            "f3841caaddfe4e0db6ea6af40f9259b9",
            "1a95fe4e75fb4f4dadc61c9c76cf192b",
            "922c7ebed3e94c92a15d1d2622a77016",
            "5115d9deae9c49fa87f0037ea8562182"
          ]
        },
        "id": "uJY5jCTxWUr9",
        "outputId": "482ec971-744e-4edf-c3f2-5236db3cc901"
      },
      "outputs": [
        {
          "output_type": "display_data",
          "data": {
            "text/plain": [
              "  0%|          | 0/9989 [00:00<?, ?it/s]"
            ],
            "application/vnd.jupyter.widget-view+json": {
              "version_major": 2,
              "version_minor": 0,
              "model_id": "3a2ccbc491ae47a28229372f3296d433"
            }
          },
          "metadata": {}
        }
      ],
      "source": [
        "x_train, y_train =load_data(df)"
      ]
    },
    {
      "cell_type": "code",
      "execution_count": null,
      "metadata": {
        "colab": {
          "base_uri": "https://localhost:8080/"
        },
        "id": "5E9R6_jDTi4J",
        "outputId": "cc921ffc-5274-4c83-f231-b72e6afcd968"
      },
      "outputs": [
        {
          "output_type": "execute_result",
          "data": {
            "text/plain": [
              "array([4, 4, 4, ..., 6, 4, 3])"
            ]
          },
          "metadata": {},
          "execution_count": 61
        }
      ],
      "source": [
        "# LABEL ENCODING\n",
        "from sklearn.preprocessing import LabelEncoder\n",
        "model = LabelEncoder()\n",
        "model.fit(y_train)\n",
        "y_train = model.transform(y_train)\n",
        "y_train"
      ]
    },
    {
      "cell_type": "code",
      "execution_count": null,
      "metadata": {
        "id": "R5mofGjVl_eu",
        "colab": {
          "base_uri": "https://localhost:8080/"
        },
        "outputId": "839b0c82-d62c-452d-edda-229d14b01dd4"
      },
      "outputs": [
        {
          "output_type": "execute_result",
          "data": {
            "text/plain": [
              "array(['anger', 'disgust', 'fear', 'joy', 'neutral', 'sadness',\n",
              "       'surprise'], dtype='<U8')"
            ]
          },
          "metadata": {},
          "execution_count": 62
        }
      ],
      "source": [
        "# 라벨인코딩된 순서 \n",
        "model.classes_"
      ]
    },
    {
      "cell_type": "code",
      "execution_count": null,
      "metadata": {
        "id": "bCHLHPeojIpp"
      },
      "outputs": [],
      "source": [
        "# 9989 문장개수\n",
        "np.array(x_train).shape"
      ]
    },
    {
      "cell_type": "code",
      "execution_count": null,
      "metadata": {
        "colab": {
          "base_uri": "https://localhost:8080/"
        },
        "id": "OrYas4f3PNkH",
        "outputId": "e73c3be3-375c-496f-ead6-80df5953bdd0"
      },
      "outputs": [
        {
          "output_type": "execute_result",
          "data": {
            "text/plain": [
              "array([[0, 0, 0, ..., 0, 0, 0],\n",
              "       [0, 0, 0, ..., 0, 0, 0],\n",
              "       [0, 0, 0, ..., 0, 0, 0],\n",
              "       ...,\n",
              "       [0, 0, 0, ..., 0, 0, 0],\n",
              "       [0, 0, 0, ..., 0, 0, 0],\n",
              "       [0, 0, 0, ..., 0, 0, 0]])"
            ]
          },
          "metadata": {},
          "execution_count": 23
        }
      ],
      "source": [
        "x_train1 = np.array(x_train)\n",
        "x_train1[0] \n",
        "x_train1[1]\n",
        "# x_train1 = x_train1.reshape(2,9989,128)"
      ]
    },
    {
      "cell_type": "code",
      "execution_count": null,
      "metadata": {
        "id": "WWsXwIfmPAIU"
      },
      "outputs": [],
      "source": [
        "y_train.shape"
      ]
    },
    {
      "cell_type": "code",
      "execution_count": null,
      "metadata": {
        "id": "yjTt1sX_hdj2"
      },
      "outputs": [],
      "source": [
        "# x_train = df[['Utterance']]\n",
        "# y_train = df.iloc[:,-1]\n",
        "from sklearn.model_selection import train_test_split"
      ]
    },
    {
      "cell_type": "code",
      "execution_count": null,
      "metadata": {
        "id": "O4Kuopw2bnxT"
      },
      "outputs": [],
      "source": [
        "# 사실상 y_train은 한 번만 나눈 것임\n",
        "X_train_token, X_test_token, Y_train, Y_test = train_test_split(x_train1[0], y_train, random_state = 42, test_size = 0.2)\n",
        "# y_train을 나누지만 따로 변수를 설정하지는 않음\n",
        "X_train_seg, X_test_seg, _, _ = train_test_split(x_train1[1], y_train, random_state = 42, test_size = 0.2)\n",
        "# X_train_seg, X_test_seg, Y_train, Y_test = train_test_split(x_train1[1], y_train, random_state = 42, test_size = 0.2)\n",
        "X_train = np.array([X_train_token, X_train_seg]) #8000\n",
        "X_test = np.array([X_test_token, X_test_seg]) # 2000"
      ]
    },
    {
      "cell_type": "code",
      "execution_count": null,
      "metadata": {
        "id": "CLcOsvHWflIU"
      },
      "outputs": [],
      "source": [
        "print(X_train[0].shape)\n",
        "print(X_train[1].shape)"
      ]
    },
    {
      "cell_type": "code",
      "execution_count": null,
      "metadata": {
        "id": "OpDHixVFkz0n"
      },
      "outputs": [],
      "source": [
        "# ERROR Found input variables with inconsistent numbers of samples: [7991, 6392] 변수명\n",
        "Y_train0 = Y_train"
      ]
    },
    {
      "cell_type": "code",
      "execution_count": null,
      "metadata": {
        "id": "2NiN3mnVcWXF"
      },
      "outputs": [],
      "source": [
        "# Y_train[6392] , Y_train [7991]\n",
        "# Y_train[] , Y_train[6392]\n",
        "X_train_token, X_val_token, Y_train, Y_val = train_test_split(X_train[0], Y_train0, random_state = 42, test_size = 0.2)\n",
        "X_train_seg, X_val_seg, Y_train, Y_val = train_test_split(X_train[1], Y_train0, random_state = 42, test_size = 0.2)\n",
        "\n",
        "X_train = np.array([X_train_token, X_train_seg ])\n",
        "X_val = np.array([X_val_token, X_val_seg])"
      ]
    },
    {
      "cell_type": "code",
      "execution_count": null,
      "metadata": {
        "id": "S2OSXZPEUe8p"
      },
      "outputs": [],
      "source": [
        "X_train = list(X_train)\n",
        "X_val = list(X_val)\n",
        "X_test = list(X_test)"
      ]
    },
    {
      "cell_type": "code",
      "execution_count": null,
      "metadata": {
        "id": "ZlKc1wL-mb7a"
      },
      "outputs": [],
      "source": [
        "model.classes_"
      ]
    },
    {
      "cell_type": "code",
      "execution_count": null,
      "metadata": {
        "id": "5QISqVnT2f6w"
      },
      "outputs": [],
      "source": [
        "import emoji\n",
        "emoji_map = {\n",
        "     4 : (\"\\U0001F611\", \"\\U0001F610\",\"\\U0001F636\",\"\\U0001F644\"),\n",
        "     6 : (\"\\U0001F632\", \"\\U0001F633\",\"\\U0001F440\", \"\\U0001F648 \"),\n",
        "      2 : (\"\\U0001F631\", \"\\U0001F628\",\"\\U0001F627\", \"\\U0001F92F\"),\n",
        "      5 : (\"\\U0001F622\", \"\\U0001F62D\", \"\\U0001F63F\", '\\U0001F625'),\n",
        "      3 : (\"\\U0001F601\", \"\\U0001F970\", \"\\U0001F603\", \"\\U0001F606\"),\n",
        "      1 : (\"\\U0001F922\", \"\\U0001F635\", \"\\U0001F623\",\"\\U0001F635\"),\n",
        "      0 : (\"\\U0001F621\", \"\\U0001F47F\", \"\\U0001F624\",\"\\U0001F620\")\n",
        "}\n",
        "def label_to_emoji(label):\n",
        "    return print(emoji_map[label])"
      ]
    },
    {
      "cell_type": "code",
      "source": [
        "print(emoji_map[0])\n",
        "print(emoji_map[1])\n",
        "print(emoji_map[2])\n",
        "print(emoji_map[3])\n",
        "print(emoji_map[4])\n",
        "print(emoji_map[5])\n",
        "print(emoji_map[6])"
      ],
      "metadata": {
        "colab": {
          "base_uri": "https://localhost:8080/"
        },
        "id": "sv20lzrTgVKx",
        "outputId": "07d06c2b-f25c-427c-8e47-e477574f5bee"
      },
      "execution_count": null,
      "outputs": [
        {
          "output_type": "stream",
          "name": "stdout",
          "text": [
            "('😡', '👿', '😤', '😠')\n",
            "('🤢', '😵', '😣', '😵')\n",
            "('😱', '😨', '😧', '🤯')\n",
            "('😁', '🥰', '😃', '😆')\n",
            "('😑', '😐', '😶', '🙄')\n",
            "('😢', '😭', '😿', '😥')\n",
            "('😲', '😳', '👀', '🙈 ')\n"
          ]
        }
      ]
    },
    {
      "cell_type": "code",
      "execution_count": null,
      "metadata": {
        "id": "s2zXVv9gWW84"
      },
      "outputs": [],
      "source": [
        "# 바로 문장을 받아서 토큰화 해주고 토큰에 인덱스도 해주고 세그먼트도 해줌\n",
        "def sentence_convert_data(data):\n",
        "    global tokenizer\n",
        "    indices = []\n",
        "    for i in tqdm(range(len(data))):\n",
        "        print(tokenizer.tokenize(data[i]))\n",
        "        ids, segments = tokenizer.encode(data[i], max_len = SEQ_LEN)\n",
        "        indices.append(ids)\n",
        "        \n",
        "    items = indices\n",
        "    indices = np.array(indices)\n",
        "    return [indices, np.zeros_like(indices)]\n",
        "\n",
        "# sentence는 List로 받는다\n",
        "def sentence_load_data(sentences):\n",
        "    data_x = sentence_convert_data(sentences)\n",
        "    return data_x"
      ]
    },
    {
      "cell_type": "code",
      "execution_count": null,
      "metadata": {
        "id": "-g94FcB_WZfc"
      },
      "outputs": [],
      "source": [
        "# 사전학습된 모델,  bert 모델을 불러옴\n",
        "layer_num = 12\n",
        "model = load_trained_model_from_checkpoint(\n",
        "    config_path,\n",
        "    checkpoint_path,\n",
        "    training = True,\n",
        "    trainable = True,\n",
        "    seq_len = SEQ_LEN,\n",
        ")"
      ]
    },
    {
      "cell_type": "code",
      "execution_count": null,
      "metadata": {
        "id": "OZfAchDsWbhz"
      },
      "outputs": [],
      "source": [
        "model.summary()"
      ]
    },
    {
      "cell_type": "code",
      "execution_count": null,
      "metadata": {
        "id": "wDrPoQD6XAoG"
      },
      "outputs": [],
      "source": [
        "def get_bert_finetuning_model(model):\n",
        "    inputs = model.inputs[:2]\n",
        "    dense = model.layers[-3].output\n",
        "    outputs = keras.layers.Dense(7, activation ='softmax', kernel_initializer = keras.initializers.TruncatedNormal(stddev=0.02))(dense)\n",
        "    bert_model = keras.models.Model(inputs, outputs)\n",
        "    bert_model.compile(\n",
        "        optimizer = tfa.optimizers.RectifiedAdam(learning_rate = 0.00001, weight_decay = 0.0025),\n",
        "        loss = 'sparse_categorical_crossentropy', metrics = ['accuracy']\n",
        "    )\n",
        "    return bert_model"
      ]
    },
    {
      "cell_type": "code",
      "execution_count": null,
      "metadata": {
        "colab": {
          "base_uri": "https://localhost:8080/"
        },
        "id": "rb12xRDFXNW4",
        "outputId": "a0f4472e-210c-4e0c-8fac-b470b09bf5ee"
      },
      "outputs": [
        {
          "output_type": "stream",
          "name": "stdout",
          "text": [
            "Looking in indexes: https://pypi.org/simple, https://us-python.pkg.dev/colab-wheels/public/simple/\n",
            "Collecting tensorflow_addons\n",
            "  Downloading tensorflow_addons-0.18.0-cp38-cp38-manylinux_2_17_x86_64.manylinux2014_x86_64.whl (1.1 MB)\n",
            "\u001b[K     |████████████████████████████████| 1.1 MB 17.6 MB/s \n",
            "\u001b[?25hRequirement already satisfied: typeguard>=2.7 in /usr/local/lib/python3.8/dist-packages (from tensorflow_addons) (2.7.1)\n",
            "Requirement already satisfied: packaging in /usr/local/lib/python3.8/dist-packages (from tensorflow_addons) (21.3)\n",
            "Requirement already satisfied: pyparsing!=3.0.5,>=2.0.2 in /usr/local/lib/python3.8/dist-packages (from packaging->tensorflow_addons) (3.0.9)\n",
            "Installing collected packages: tensorflow-addons\n",
            "Successfully installed tensorflow-addons-0.18.0\n"
          ]
        }
      ],
      "source": [
        "pip install tensorflow_addons"
      ]
    },
    {
      "cell_type": "code",
      "execution_count": null,
      "metadata": {
        "colab": {
          "base_uri": "https://localhost:8080/"
        },
        "id": "LT9ctqwwXKzs",
        "outputId": "0a4b0259-74bb-4d1f-abf1-67aff0165e25"
      },
      "outputs": [
        {
          "output_type": "execute_result",
          "data": {
            "text/plain": [
              "<tensorflow_addons.optimizers.rectified_adam.RectifiedAdam at 0x7f81a807b160>"
            ]
          },
          "metadata": {},
          "execution_count": 33
        }
      ],
      "source": [
        "import tensorflow_addons as tfa\n",
        "tfa.optimizers.RectifiedAdam()"
      ]
    },
    {
      "cell_type": "code",
      "execution_count": null,
      "metadata": {
        "id": "7BZh-ThKXEPe",
        "colab": {
          "base_uri": "https://localhost:8080/",
          "height": 1000
        },
        "outputId": "3fdfd013-6ba1-40ea-a925-abfe1c249003"
      },
      "outputs": [
        {
          "output_type": "execute_result",
          "data": {
            "text/plain": [
              "<IPython.core.display.SVG object>"
            ],
            "image/svg+xml": "<svg xmlns=\"http://www.w3.org/2000/svg\" xmlns:xlink=\"http://www.w3.org/1999/xlink\" width=\"519pt\" height=\"6895pt\" viewBox=\"0.00 0.00 574.50 7637.00\">\n<g id=\"graph0\" class=\"graph\" transform=\"scale(.9028 .9028) rotate(0) translate(4 7633)\">\n<title>G</title>\n<polygon fill=\"#ffffff\" stroke=\"transparent\" points=\"-4,4 -4,-7633 570.5,-7633 570.5,4 -4,4\"/>\n<!-- 140196180105584 -->\n<g id=\"node1\" class=\"node\">\n<title>140196180105584</title>\n<polygon fill=\"none\" stroke=\"#000000\" points=\"117.5,-7592.5 117.5,-7628.5 286.5,-7628.5 286.5,-7592.5 117.5,-7592.5\"/>\n<text text-anchor=\"middle\" x=\"162\" y=\"-7606.8\" font-family=\"Times,serif\" font-size=\"14.00\" fill=\"#000000\">Input-Token</text>\n<polyline fill=\"none\" stroke=\"#000000\" points=\"206.5,-7592.5 206.5,-7628.5 \"/>\n<text text-anchor=\"middle\" x=\"246.5\" y=\"-7606.8\" font-family=\"Times,serif\" font-size=\"14.00\" fill=\"#000000\">InputLayer</text>\n</g>\n<!-- 140196180105728 -->\n<g id=\"node3\" class=\"node\">\n<title>140196180105728</title>\n<polygon fill=\"none\" stroke=\"#000000\" points=\"79,-7519.5 79,-7555.5 325,-7555.5 325,-7519.5 79,-7519.5\"/>\n<text text-anchor=\"middle\" x=\"141.5\" y=\"-7533.8\" font-family=\"Times,serif\" font-size=\"14.00\" fill=\"#000000\">Embedding-Token</text>\n<polyline fill=\"none\" stroke=\"#000000\" points=\"204,-7519.5 204,-7555.5 \"/>\n<text text-anchor=\"middle\" x=\"264.5\" y=\"-7533.8\" font-family=\"Times,serif\" font-size=\"14.00\" fill=\"#000000\">TokenEmbedding</text>\n</g>\n<!-- 140196180105584&#45;&gt;140196180105728 -->\n<g id=\"edge1\" class=\"edge\">\n<title>140196180105584-&gt;140196180105728</title>\n<path fill=\"none\" stroke=\"#000000\" d=\"M202,-7592.4551C202,-7584.3828 202,-7574.6764 202,-7565.6817\"/>\n<polygon fill=\"#000000\" stroke=\"#000000\" points=\"205.5001,-7565.5903 202,-7555.5904 198.5001,-7565.5904 205.5001,-7565.5903\"/>\n</g>\n<!-- 140196189722320 -->\n<g id=\"node2\" class=\"node\">\n<title>140196189722320</title>\n<polygon fill=\"none\" stroke=\"#000000\" points=\"364,-7592.5 364,-7628.5 546,-7628.5 546,-7592.5 364,-7592.5\"/>\n<text text-anchor=\"middle\" x=\"415\" y=\"-7606.8\" font-family=\"Times,serif\" font-size=\"14.00\" fill=\"#000000\">Input-Segment</text>\n<polyline fill=\"none\" stroke=\"#000000\" points=\"466,-7592.5 466,-7628.5 \"/>\n<text text-anchor=\"middle\" x=\"506\" y=\"-7606.8\" font-family=\"Times,serif\" font-size=\"14.00\" fill=\"#000000\">InputLayer</text>\n</g>\n<!-- 140196180076624 -->\n<g id=\"node4\" class=\"node\">\n<title>140196180076624</title>\n<polygon fill=\"none\" stroke=\"#000000\" points=\"343.5,-7519.5 343.5,-7555.5 566.5,-7555.5 566.5,-7519.5 343.5,-7519.5\"/>\n<text text-anchor=\"middle\" x=\"413\" y=\"-7533.8\" font-family=\"Times,serif\" font-size=\"14.00\" fill=\"#000000\">Embedding-Segment</text>\n<polyline fill=\"none\" stroke=\"#000000\" points=\"482.5,-7519.5 482.5,-7555.5 \"/>\n<text text-anchor=\"middle\" x=\"524.5\" y=\"-7533.8\" font-family=\"Times,serif\" font-size=\"14.00\" fill=\"#000000\">Embedding</text>\n</g>\n<!-- 140196189722320&#45;&gt;140196180076624 -->\n<g id=\"edge2\" class=\"edge\">\n<title>140196189722320-&gt;140196180076624</title>\n<path fill=\"none\" stroke=\"#000000\" d=\"M455,-7592.4551C455,-7584.3828 455,-7574.6764 455,-7565.6817\"/>\n<polygon fill=\"#000000\" stroke=\"#000000\" points=\"458.5001,-7565.5903 455,-7555.5904 451.5001,-7565.5904 458.5001,-7565.5903\"/>\n</g>\n<!-- 140196180743936 -->\n<g id=\"node5\" class=\"node\">\n<title>140196180743936</title>\n<polygon fill=\"none\" stroke=\"#000000\" points=\"217,-7446.5 217,-7482.5 439,-7482.5 439,-7446.5 217,-7446.5\"/>\n<text text-anchor=\"middle\" x=\"307\" y=\"-7460.8\" font-family=\"Times,serif\" font-size=\"14.00\" fill=\"#000000\">Embedding-Token-Segment</text>\n<polyline fill=\"none\" stroke=\"#000000\" points=\"397,-7446.5 397,-7482.5 \"/>\n<text text-anchor=\"middle\" x=\"418\" y=\"-7460.8\" font-family=\"Times,serif\" font-size=\"14.00\" fill=\"#000000\">Add</text>\n</g>\n<!-- 140196180105728&#45;&gt;140196180743936 -->\n<g id=\"edge3\" class=\"edge\">\n<title>140196180105728-&gt;140196180743936</title>\n<path fill=\"none\" stroke=\"#000000\" d=\"M233.1461,-7519.4551C249.6535,-7509.8912 270.1204,-7498.0334 287.8124,-7487.7833\"/>\n<polygon fill=\"#000000\" stroke=\"#000000\" points=\"289.8774,-7490.6319 296.7755,-7482.5904 286.3682,-7484.575 289.8774,-7490.6319\"/>\n</g>\n<!-- 140196180076624&#45;&gt;140196180743936 -->\n<g id=\"edge4\" class=\"edge\">\n<title>140196180076624-&gt;140196180743936</title>\n<path fill=\"none\" stroke=\"#000000\" d=\"M423.6067,-7519.4551C406.9683,-7509.8912 386.3389,-7498.0334 368.5066,-7487.7833\"/>\n<polygon fill=\"#000000\" stroke=\"#000000\" points=\"369.8863,-7484.5394 359.4723,-7482.5904 366.3979,-7490.6083 369.8863,-7484.5394\"/>\n</g>\n<!-- 140196181227600 -->\n<g id=\"node6\" class=\"node\">\n<title>140196181227600</title>\n<polygon fill=\"none\" stroke=\"#000000\" points=\"194.5,-7373.5 194.5,-7409.5 461.5,-7409.5 461.5,-7373.5 194.5,-7373.5\"/>\n<text text-anchor=\"middle\" x=\"262.5\" y=\"-7387.8\" font-family=\"Times,serif\" font-size=\"14.00\" fill=\"#000000\">Embedding-Position</text>\n<polyline fill=\"none\" stroke=\"#000000\" points=\"330.5,-7373.5 330.5,-7409.5 \"/>\n<text text-anchor=\"middle\" x=\"396\" y=\"-7387.8\" font-family=\"Times,serif\" font-size=\"14.00\" fill=\"#000000\">PositionEmbedding</text>\n</g>\n<!-- 140196180743936&#45;&gt;140196181227600 -->\n<g id=\"edge5\" class=\"edge\">\n<title>140196180743936-&gt;140196181227600</title>\n<path fill=\"none\" stroke=\"#000000\" d=\"M328,-7446.4551C328,-7438.3828 328,-7428.6764 328,-7419.6817\"/>\n<polygon fill=\"#000000\" stroke=\"#000000\" points=\"331.5001,-7419.5903 328,-7409.5904 324.5001,-7419.5904 331.5001,-7419.5903\"/>\n</g>\n<!-- 140196180744512 -->\n<g id=\"node7\" class=\"node\">\n<title>140196180744512</title>\n<polygon fill=\"none\" stroke=\"#000000\" points=\"227,-7300.5 227,-7336.5 429,-7336.5 429,-7300.5 227,-7300.5\"/>\n<text text-anchor=\"middle\" x=\"295.5\" y=\"-7314.8\" font-family=\"Times,serif\" font-size=\"14.00\" fill=\"#000000\">Embedding-Dropout</text>\n<polyline fill=\"none\" stroke=\"#000000\" points=\"364,-7300.5 364,-7336.5 \"/>\n<text text-anchor=\"middle\" x=\"396.5\" y=\"-7314.8\" font-family=\"Times,serif\" font-size=\"14.00\" fill=\"#000000\">Dropout</text>\n</g>\n<!-- 140196181227600&#45;&gt;140196180744512 -->\n<g id=\"edge6\" class=\"edge\">\n<title>140196181227600-&gt;140196180744512</title>\n<path fill=\"none\" stroke=\"#000000\" d=\"M328,-7373.4551C328,-7365.3828 328,-7355.6764 328,-7346.6817\"/>\n<polygon fill=\"#000000\" stroke=\"#000000\" points=\"331.5001,-7346.5903 328,-7336.5904 324.5001,-7346.5904 331.5001,-7346.5903\"/>\n</g>\n<!-- 140194468482880 -->\n<g id=\"node8\" class=\"node\">\n<title>140194468482880</title>\n<polygon fill=\"none\" stroke=\"#000000\" points=\"201.5,-7227.5 201.5,-7263.5 454.5,-7263.5 454.5,-7227.5 201.5,-7227.5\"/>\n<text text-anchor=\"middle\" x=\"262.5\" y=\"-7241.8\" font-family=\"Times,serif\" font-size=\"14.00\" fill=\"#000000\">Embedding-Norm</text>\n<polyline fill=\"none\" stroke=\"#000000\" points=\"323.5,-7227.5 323.5,-7263.5 \"/>\n<text text-anchor=\"middle\" x=\"389\" y=\"-7241.8\" font-family=\"Times,serif\" font-size=\"14.00\" fill=\"#000000\">LayerNormalization</text>\n</g>\n<!-- 140196180744512&#45;&gt;140194468482880 -->\n<g id=\"edge7\" class=\"edge\">\n<title>140196180744512-&gt;140194468482880</title>\n<path fill=\"none\" stroke=\"#000000\" d=\"M328,-7300.4551C328,-7292.3828 328,-7282.6764 328,-7273.6817\"/>\n<polygon fill=\"#000000\" stroke=\"#000000\" points=\"331.5001,-7273.5903 328,-7263.5904 324.5001,-7273.5904 331.5001,-7273.5903\"/>\n</g>\n<!-- 140194468005392 -->\n<g id=\"node9\" class=\"node\">\n<title>140194468005392</title>\n<polygon fill=\"none\" stroke=\"#000000\" points=\"50.5,-7154.5 50.5,-7190.5 401.5,-7190.5 401.5,-7154.5 50.5,-7154.5\"/>\n<text text-anchor=\"middle\" x=\"160\" y=\"-7168.8\" font-family=\"Times,serif\" font-size=\"14.00\" fill=\"#000000\">Encoder-1-MultiHeadSelfAttention</text>\n<polyline fill=\"none\" stroke=\"#000000\" points=\"269.5,-7154.5 269.5,-7190.5 \"/>\n<text text-anchor=\"middle\" x=\"335.5\" y=\"-7168.8\" font-family=\"Times,serif\" font-size=\"14.00\" fill=\"#000000\">MultiHeadAttention</text>\n</g>\n<!-- 140194468482880&#45;&gt;140194468005392 -->\n<g id=\"edge8\" class=\"edge\">\n<title>140194468482880-&gt;140194468005392</title>\n<path fill=\"none\" stroke=\"#000000\" d=\"M302.7865,-7227.4551C289.7912,-7218.1545 273.7645,-7206.6844 259.7204,-7196.6332\"/>\n<polygon fill=\"#000000\" stroke=\"#000000\" points=\"261.4459,-7193.5641 251.2769,-7190.5904 257.3719,-7199.2565 261.4459,-7193.5641\"/>\n</g>\n<!-- 140194466897680 -->\n<g id=\"node11\" class=\"node\">\n<title>140194466897680</title>\n<polygon fill=\"none\" stroke=\"#000000\" points=\"182.5,-7008.5 182.5,-7044.5 473.5,-7044.5 473.5,-7008.5 182.5,-7008.5\"/>\n<text text-anchor=\"middle\" x=\"307\" y=\"-7022.8\" font-family=\"Times,serif\" font-size=\"14.00\" fill=\"#000000\">Encoder-1-MultiHeadSelfAttention-Add</text>\n<polyline fill=\"none\" stroke=\"#000000\" points=\"431.5,-7008.5 431.5,-7044.5 \"/>\n<text text-anchor=\"middle\" x=\"452.5\" y=\"-7022.8\" font-family=\"Times,serif\" font-size=\"14.00\" fill=\"#000000\">Add</text>\n</g>\n<!-- 140194468482880&#45;&gt;140194466897680 -->\n<g id=\"edge10\" class=\"edge\">\n<title>140194468482880-&gt;140194466897680</title>\n<path fill=\"none\" stroke=\"#000000\" d=\"M372.0299,-7227.3618C387.1906,-7218.7299 402.4854,-7206.7771 411,-7191 418.7883,-7176.5687 418.7039,-7100.2752 408,-7081 401.0407,-7068.468 389.8377,-7058.2368 377.9915,-7050.1643\"/>\n<polygon fill=\"#000000\" stroke=\"#000000\" points=\"379.6251,-7047.0561 369.3034,-7044.6658 375.8816,-7052.9711 379.6251,-7047.0561\"/>\n</g>\n<!-- 140194468006736 -->\n<g id=\"node10\" class=\"node\">\n<title>140194468006736</title>\n<polygon fill=\"none\" stroke=\"#000000\" points=\"61.5,-7081.5 61.5,-7117.5 398.5,-7117.5 398.5,-7081.5 61.5,-7081.5\"/>\n<text text-anchor=\"middle\" x=\"197.5\" y=\"-7095.8\" font-family=\"Times,serif\" font-size=\"14.00\" fill=\"#000000\">Encoder-1-MultiHeadSelfAttention-Dropout</text>\n<polyline fill=\"none\" stroke=\"#000000\" points=\"333.5,-7081.5 333.5,-7117.5 \"/>\n<text text-anchor=\"middle\" x=\"366\" y=\"-7095.8\" font-family=\"Times,serif\" font-size=\"14.00\" fill=\"#000000\">Dropout</text>\n</g>\n<!-- 140194468005392&#45;&gt;140194468006736 -->\n<g id=\"edge9\" class=\"edge\">\n<title>140194468005392-&gt;140194468006736</title>\n<path fill=\"none\" stroke=\"#000000\" d=\"M226.9888,-7154.4551C227.4311,-7146.3828 227.9629,-7136.6764 228.4558,-7127.6817\"/>\n<polygon fill=\"#000000\" stroke=\"#000000\" points=\"231.9563,-7127.7669 229.0087,-7117.5904 224.9668,-7127.3839 231.9563,-7127.7669\"/>\n</g>\n<!-- 140194468006736&#45;&gt;140194466897680 -->\n<g id=\"edge11\" class=\"edge\">\n<title>140194468006736-&gt;140194466897680</title>\n<path fill=\"none\" stroke=\"#000000\" d=\"M254.2247,-7081.4551C266.7105,-7072.1545 282.1086,-7060.6844 295.602,-7050.6332\"/>\n<polygon fill=\"#000000\" stroke=\"#000000\" points=\"297.7855,-7053.371 303.7143,-7044.5904 293.6039,-7047.7573 297.7855,-7053.371\"/>\n</g>\n<!-- 140194466894512 -->\n<g id=\"node12\" class=\"node\">\n<title>140194466894512</title>\n<polygon fill=\"none\" stroke=\"#000000\" points=\"134,-6935.5 134,-6971.5 522,-6971.5 522,-6935.5 134,-6935.5\"/>\n<text text-anchor=\"middle\" x=\"262.5\" y=\"-6949.8\" font-family=\"Times,serif\" font-size=\"14.00\" fill=\"#000000\">Encoder-1-MultiHeadSelfAttention-Norm</text>\n<polyline fill=\"none\" stroke=\"#000000\" points=\"391,-6935.5 391,-6971.5 \"/>\n<text text-anchor=\"middle\" x=\"456.5\" y=\"-6949.8\" font-family=\"Times,serif\" font-size=\"14.00\" fill=\"#000000\">LayerNormalization</text>\n</g>\n<!-- 140194466897680&#45;&gt;140194466894512 -->\n<g id=\"edge12\" class=\"edge\">\n<title>140194466897680-&gt;140194466894512</title>\n<path fill=\"none\" stroke=\"#000000\" d=\"M328,-7008.4551C328,-7000.3828 328,-6990.6764 328,-6981.6817\"/>\n<polygon fill=\"#000000\" stroke=\"#000000\" points=\"331.5001,-6981.5903 328,-6971.5904 324.5001,-6981.5904 331.5001,-6981.5903\"/>\n</g>\n<!-- 140194466453296 -->\n<g id=\"node13\" class=\"node\">\n<title>140194466453296</title>\n<polygon fill=\"none\" stroke=\"#000000\" points=\"125.5,-6862.5 125.5,-6898.5 376.5,-6898.5 376.5,-6862.5 125.5,-6862.5\"/>\n<text text-anchor=\"middle\" x=\"204.5\" y=\"-6876.8\" font-family=\"Times,serif\" font-size=\"14.00\" fill=\"#000000\">Encoder-1-FeedForward</text>\n<polyline fill=\"none\" stroke=\"#000000\" points=\"283.5,-6862.5 283.5,-6898.5 \"/>\n<text text-anchor=\"middle\" x=\"330\" y=\"-6876.8\" font-family=\"Times,serif\" font-size=\"14.00\" fill=\"#000000\">FeedForward</text>\n</g>\n<!-- 140194466894512&#45;&gt;140194466453296 -->\n<g id=\"edge13\" class=\"edge\">\n<title>140194466894512-&gt;140194466453296</title>\n<path fill=\"none\" stroke=\"#000000\" d=\"M308.9663,-6935.4551C299.4337,-6926.4177 287.7405,-6915.3319 277.3592,-6905.4899\"/>\n<polygon fill=\"#000000\" stroke=\"#000000\" points=\"279.7467,-6902.9305 270.0816,-6898.5904 274.9307,-6908.0104 279.7467,-6902.9305\"/>\n</g>\n<!-- 140194468200512 -->\n<g id=\"node15\" class=\"node\">\n<title>140194468200512</title>\n<polygon fill=\"none\" stroke=\"#000000\" points=\"213,-6716.5 213,-6752.5 443,-6752.5 443,-6716.5 213,-6716.5\"/>\n<text text-anchor=\"middle\" x=\"307\" y=\"-6730.8\" font-family=\"Times,serif\" font-size=\"14.00\" fill=\"#000000\">Encoder-1-FeedForward-Add</text>\n<polyline fill=\"none\" stroke=\"#000000\" points=\"401,-6716.5 401,-6752.5 \"/>\n<text text-anchor=\"middle\" x=\"422\" y=\"-6730.8\" font-family=\"Times,serif\" font-size=\"14.00\" fill=\"#000000\">Add</text>\n</g>\n<!-- 140194466894512&#45;&gt;140194468200512 -->\n<g id=\"edge15\" class=\"edge\">\n<title>140194466894512-&gt;140194468200512</title>\n<path fill=\"none\" stroke=\"#000000\" d=\"M353.9805,-6935.4928C365.5008,-6926.0346 378.0077,-6913.4122 385,-6899 406.3833,-6854.9255 412.5416,-6833.473 392,-6789 386.5436,-6777.1867 377.1242,-6766.9911 367.1643,-6758.7193\"/>\n<polygon fill=\"#000000\" stroke=\"#000000\" points=\"369.178,-6755.8521 359.1262,-6752.5038 364.896,-6761.3897 369.178,-6755.8521\"/>\n</g>\n<!-- 140194468281312 -->\n<g id=\"node14\" class=\"node\">\n<title>140194468281312</title>\n<polygon fill=\"none\" stroke=\"#000000\" points=\"107,-6789.5 107,-6825.5 383,-6825.5 383,-6789.5 107,-6789.5\"/>\n<text text-anchor=\"middle\" x=\"212.5\" y=\"-6803.8\" font-family=\"Times,serif\" font-size=\"14.00\" fill=\"#000000\">Encoder-1-FeedForward-Dropout</text>\n<polyline fill=\"none\" stroke=\"#000000\" points=\"318,-6789.5 318,-6825.5 \"/>\n<text text-anchor=\"middle\" x=\"350.5\" y=\"-6803.8\" font-family=\"Times,serif\" font-size=\"14.00\" fill=\"#000000\">Dropout</text>\n</g>\n<!-- 140194466453296&#45;&gt;140194468281312 -->\n<g id=\"edge14\" class=\"edge\">\n<title>140194466453296-&gt;140194468281312</title>\n<path fill=\"none\" stroke=\"#000000\" d=\"M249.5169,-6862.4551C248.8534,-6854.3828 248.0556,-6844.6764 247.3163,-6835.6817\"/>\n<polygon fill=\"#000000\" stroke=\"#000000\" points=\"250.7944,-6835.27 246.4869,-6825.5904 243.8179,-6835.8435 250.7944,-6835.27\"/>\n</g>\n<!-- 140194468281312&#45;&gt;140194468200512 -->\n<g id=\"edge16\" class=\"edge\">\n<title>140194468281312-&gt;140194468200512</title>\n<path fill=\"none\" stroke=\"#000000\" d=\"M265.5169,-6789.4551C275.892,-6780.3299 288.6416,-6769.1165 299.9123,-6759.2036\"/>\n<polygon fill=\"#000000\" stroke=\"#000000\" points=\"302.2341,-6761.8228 307.4315,-6752.5904 297.6111,-6756.5665 302.2341,-6761.8228\"/>\n</g>\n<!-- 140194466418944 -->\n<g id=\"node16\" class=\"node\">\n<title>140194466418944</title>\n<polygon fill=\"none\" stroke=\"#000000\" points=\"164.5,-6643.5 164.5,-6679.5 491.5,-6679.5 491.5,-6643.5 164.5,-6643.5\"/>\n<text text-anchor=\"middle\" x=\"262.5\" y=\"-6657.8\" font-family=\"Times,serif\" font-size=\"14.00\" fill=\"#000000\">Encoder-1-FeedForward-Norm</text>\n<polyline fill=\"none\" stroke=\"#000000\" points=\"360.5,-6643.5 360.5,-6679.5 \"/>\n<text text-anchor=\"middle\" x=\"426\" y=\"-6657.8\" font-family=\"Times,serif\" font-size=\"14.00\" fill=\"#000000\">LayerNormalization</text>\n</g>\n<!-- 140194468200512&#45;&gt;140194466418944 -->\n<g id=\"edge17\" class=\"edge\">\n<title>140194468200512-&gt;140194466418944</title>\n<path fill=\"none\" stroke=\"#000000\" d=\"M328,-6716.4551C328,-6708.3828 328,-6698.6764 328,-6689.6817\"/>\n<polygon fill=\"#000000\" stroke=\"#000000\" points=\"331.5001,-6689.5903 328,-6679.5904 324.5001,-6689.5904 331.5001,-6689.5903\"/>\n</g>\n<!-- 140194467982688 -->\n<g id=\"node17\" class=\"node\">\n<title>140194467982688</title>\n<polygon fill=\"none\" stroke=\"#000000\" points=\"50.5,-6570.5 50.5,-6606.5 401.5,-6606.5 401.5,-6570.5 50.5,-6570.5\"/>\n<text text-anchor=\"middle\" x=\"160\" y=\"-6584.8\" font-family=\"Times,serif\" font-size=\"14.00\" fill=\"#000000\">Encoder-2-MultiHeadSelfAttention</text>\n<polyline fill=\"none\" stroke=\"#000000\" points=\"269.5,-6570.5 269.5,-6606.5 \"/>\n<text text-anchor=\"middle\" x=\"335.5\" y=\"-6584.8\" font-family=\"Times,serif\" font-size=\"14.00\" fill=\"#000000\">MultiHeadAttention</text>\n</g>\n<!-- 140194466418944&#45;&gt;140194467982688 -->\n<g id=\"edge18\" class=\"edge\">\n<title>140194466418944-&gt;140194467982688</title>\n<path fill=\"none\" stroke=\"#000000\" d=\"M302.7865,-6643.4551C289.7912,-6634.1545 273.7645,-6622.6844 259.7204,-6612.6332\"/>\n<polygon fill=\"#000000\" stroke=\"#000000\" points=\"261.4459,-6609.5641 251.2769,-6606.5904 257.3719,-6615.2565 261.4459,-6609.5641\"/>\n</g>\n<!-- 140194466945392 -->\n<g id=\"node19\" class=\"node\">\n<title>140194466945392</title>\n<polygon fill=\"none\" stroke=\"#000000\" points=\"183.5,-6424.5 183.5,-6460.5 474.5,-6460.5 474.5,-6424.5 183.5,-6424.5\"/>\n<text text-anchor=\"middle\" x=\"308\" y=\"-6438.8\" font-family=\"Times,serif\" font-size=\"14.00\" fill=\"#000000\">Encoder-2-MultiHeadSelfAttention-Add</text>\n<polyline fill=\"none\" stroke=\"#000000\" points=\"432.5,-6424.5 432.5,-6460.5 \"/>\n<text text-anchor=\"middle\" x=\"453.5\" y=\"-6438.8\" font-family=\"Times,serif\" font-size=\"14.00\" fill=\"#000000\">Add</text>\n</g>\n<!-- 140194466418944&#45;&gt;140194466945392 -->\n<g id=\"edge20\" class=\"edge\">\n<title>140194466418944-&gt;140194466945392</title>\n<path fill=\"none\" stroke=\"#000000\" d=\"M372.0299,-6643.3618C387.1906,-6634.7299 402.4854,-6622.7771 411,-6607 419.1991,-6591.8075 416.9679,-6514.9111 407,-6497 400.0832,-6484.5713 388.9956,-6474.3379 377.3254,-6466.229\"/>\n<polygon fill=\"#000000\" stroke=\"#000000\" points=\"379.0734,-6463.1914 368.7759,-6460.699 375.2716,-6469.069 379.0734,-6463.1914\"/>\n</g>\n<!-- 140194467982832 -->\n<g id=\"node18\" class=\"node\">\n<title>140194467982832</title>\n<polygon fill=\"none\" stroke=\"#000000\" points=\"60.5,-6497.5 60.5,-6533.5 397.5,-6533.5 397.5,-6497.5 60.5,-6497.5\"/>\n<text text-anchor=\"middle\" x=\"196.5\" y=\"-6511.8\" font-family=\"Times,serif\" font-size=\"14.00\" fill=\"#000000\">Encoder-2-MultiHeadSelfAttention-Dropout</text>\n<polyline fill=\"none\" stroke=\"#000000\" points=\"332.5,-6497.5 332.5,-6533.5 \"/>\n<text text-anchor=\"middle\" x=\"365\" y=\"-6511.8\" font-family=\"Times,serif\" font-size=\"14.00\" fill=\"#000000\">Dropout</text>\n</g>\n<!-- 140194467982688&#45;&gt;140194467982832 -->\n<g id=\"edge19\" class=\"edge\">\n<title>140194467982688-&gt;140194467982832</title>\n<path fill=\"none\" stroke=\"#000000\" d=\"M226.7416,-6570.4551C227.0733,-6562.3828 227.4722,-6552.6764 227.8418,-6543.6817\"/>\n<polygon fill=\"#000000\" stroke=\"#000000\" points=\"231.3429,-6543.7257 228.2566,-6533.5904 224.3488,-6543.4382 231.3429,-6543.7257\"/>\n</g>\n<!-- 140194467982832&#45;&gt;140194466945392 -->\n<g id=\"edge21\" class=\"edge\">\n<title>140194467982832-&gt;140194466945392</title>\n<path fill=\"none\" stroke=\"#000000\" d=\"M253.7191,-6497.4551C266.4597,-6488.1545 282.1721,-6476.6844 295.9408,-6466.6332\"/>\n<polygon fill=\"#000000\" stroke=\"#000000\" points=\"298.2055,-6469.3134 304.2187,-6460.5904 294.0781,-6463.6596 298.2055,-6469.3134\"/>\n</g>\n<!-- 140194466354320 -->\n<g id=\"node20\" class=\"node\">\n<title>140194466354320</title>\n<polygon fill=\"none\" stroke=\"#000000\" points=\"135,-6351.5 135,-6387.5 523,-6387.5 523,-6351.5 135,-6351.5\"/>\n<text text-anchor=\"middle\" x=\"263.5\" y=\"-6365.8\" font-family=\"Times,serif\" font-size=\"14.00\" fill=\"#000000\">Encoder-2-MultiHeadSelfAttention-Norm</text>\n<polyline fill=\"none\" stroke=\"#000000\" points=\"392,-6351.5 392,-6387.5 \"/>\n<text text-anchor=\"middle\" x=\"457.5\" y=\"-6365.8\" font-family=\"Times,serif\" font-size=\"14.00\" fill=\"#000000\">LayerNormalization</text>\n</g>\n<!-- 140194466945392&#45;&gt;140194466354320 -->\n<g id=\"edge22\" class=\"edge\">\n<title>140194466945392-&gt;140194466354320</title>\n<path fill=\"none\" stroke=\"#000000\" d=\"M329,-6424.4551C329,-6416.3828 329,-6406.6764 329,-6397.6817\"/>\n<polygon fill=\"#000000\" stroke=\"#000000\" points=\"332.5001,-6397.5903 329,-6387.5904 325.5001,-6397.5904 332.5001,-6397.5903\"/>\n</g>\n<!-- 140194468399856 -->\n<g id=\"node21\" class=\"node\">\n<title>140194468399856</title>\n<polygon fill=\"none\" stroke=\"#000000\" points=\"120.5,-6278.5 120.5,-6314.5 371.5,-6314.5 371.5,-6278.5 120.5,-6278.5\"/>\n<text text-anchor=\"middle\" x=\"199.5\" y=\"-6292.8\" font-family=\"Times,serif\" font-size=\"14.00\" fill=\"#000000\">Encoder-2-FeedForward</text>\n<polyline fill=\"none\" stroke=\"#000000\" points=\"278.5,-6278.5 278.5,-6314.5 \"/>\n<text text-anchor=\"middle\" x=\"325\" y=\"-6292.8\" font-family=\"Times,serif\" font-size=\"14.00\" fill=\"#000000\">FeedForward</text>\n</g>\n<!-- 140194466354320&#45;&gt;140194468399856 -->\n<g id=\"edge23\" class=\"edge\">\n<title>140194466354320-&gt;140194468399856</title>\n<path fill=\"none\" stroke=\"#000000\" d=\"M308.4831,-6351.4551C298.108,-6342.3299 285.3584,-6331.1165 274.0877,-6321.2036\"/>\n<polygon fill=\"#000000\" stroke=\"#000000\" points=\"276.3889,-6318.5665 266.5685,-6314.5904 271.7659,-6323.8228 276.3889,-6318.5665\"/>\n</g>\n<!-- 140194468399376 -->\n<g id=\"node23\" class=\"node\">\n<title>140194468399376</title>\n<polygon fill=\"none\" stroke=\"#000000\" points=\"208,-6132.5 208,-6168.5 438,-6168.5 438,-6132.5 208,-6132.5\"/>\n<text text-anchor=\"middle\" x=\"302\" y=\"-6146.8\" font-family=\"Times,serif\" font-size=\"14.00\" fill=\"#000000\">Encoder-2-FeedForward-Add</text>\n<polyline fill=\"none\" stroke=\"#000000\" points=\"396,-6132.5 396,-6168.5 \"/>\n<text text-anchor=\"middle\" x=\"417\" y=\"-6146.8\" font-family=\"Times,serif\" font-size=\"14.00\" fill=\"#000000\">Add</text>\n</g>\n<!-- 140194466354320&#45;&gt;140194468399376 -->\n<g id=\"edge25\" class=\"edge\">\n<title>140194466354320-&gt;140194468399376</title>\n<path fill=\"none\" stroke=\"#000000\" d=\"M351.7353,-6351.457C362.1909,-6341.8203 373.657,-6329.0556 380,-6315 400.1503,-6270.3484 407.5416,-6249.473 387,-6205 381.5436,-6193.1867 372.1242,-6182.9911 362.1643,-6174.7193\"/>\n<polygon fill=\"#000000\" stroke=\"#000000\" points=\"364.178,-6171.8521 354.1262,-6168.5038 359.896,-6177.3897 364.178,-6171.8521\"/>\n</g>\n<!-- 140194467983264 -->\n<g id=\"node22\" class=\"node\">\n<title>140194467983264</title>\n<polygon fill=\"none\" stroke=\"#000000\" points=\"102,-6205.5 102,-6241.5 378,-6241.5 378,-6205.5 102,-6205.5\"/>\n<text text-anchor=\"middle\" x=\"207.5\" y=\"-6219.8\" font-family=\"Times,serif\" font-size=\"14.00\" fill=\"#000000\">Encoder-2-FeedForward-Dropout</text>\n<polyline fill=\"none\" stroke=\"#000000\" points=\"313,-6205.5 313,-6241.5 \"/>\n<text text-anchor=\"middle\" x=\"345.5\" y=\"-6219.8\" font-family=\"Times,serif\" font-size=\"14.00\" fill=\"#000000\">Dropout</text>\n</g>\n<!-- 140194468399856&#45;&gt;140194467983264 -->\n<g id=\"edge24\" class=\"edge\">\n<title>140194468399856-&gt;140194467983264</title>\n<path fill=\"none\" stroke=\"#000000\" d=\"M244.5169,-6278.4551C243.8534,-6270.3828 243.0556,-6260.6764 242.3163,-6251.6817\"/>\n<polygon fill=\"#000000\" stroke=\"#000000\" points=\"245.7944,-6251.27 241.4869,-6241.5904 238.8179,-6251.8435 245.7944,-6251.27\"/>\n</g>\n<!-- 140194467983264&#45;&gt;140194468399376 -->\n<g id=\"edge26\" class=\"edge\">\n<title>140194467983264-&gt;140194468399376</title>\n<path fill=\"none\" stroke=\"#000000\" d=\"M260.5169,-6205.4551C270.892,-6196.3299 283.6416,-6185.1165 294.9123,-6175.2036\"/>\n<polygon fill=\"#000000\" stroke=\"#000000\" points=\"297.2341,-6177.8228 302.4315,-6168.5904 292.6111,-6172.5665 297.2341,-6177.8228\"/>\n</g>\n<!-- 140194846639296 -->\n<g id=\"node24\" class=\"node\">\n<title>140194846639296</title>\n<polygon fill=\"none\" stroke=\"#000000\" points=\"159.5,-6059.5 159.5,-6095.5 486.5,-6095.5 486.5,-6059.5 159.5,-6059.5\"/>\n<text text-anchor=\"middle\" x=\"257.5\" y=\"-6073.8\" font-family=\"Times,serif\" font-size=\"14.00\" fill=\"#000000\">Encoder-2-FeedForward-Norm</text>\n<polyline fill=\"none\" stroke=\"#000000\" points=\"355.5,-6059.5 355.5,-6095.5 \"/>\n<text text-anchor=\"middle\" x=\"421\" y=\"-6073.8\" font-family=\"Times,serif\" font-size=\"14.00\" fill=\"#000000\">LayerNormalization</text>\n</g>\n<!-- 140194468399376&#45;&gt;140194846639296 -->\n<g id=\"edge27\" class=\"edge\">\n<title>140194468399376-&gt;140194846639296</title>\n<path fill=\"none\" stroke=\"#000000\" d=\"M323,-6132.4551C323,-6124.3828 323,-6114.6764 323,-6105.6817\"/>\n<polygon fill=\"#000000\" stroke=\"#000000\" points=\"326.5001,-6105.5903 323,-6095.5904 319.5001,-6105.5904 326.5001,-6105.5903\"/>\n</g>\n<!-- 140194468490688 -->\n<g id=\"node25\" class=\"node\">\n<title>140194468490688</title>\n<polygon fill=\"none\" stroke=\"#000000\" points=\"45.5,-5986.5 45.5,-6022.5 396.5,-6022.5 396.5,-5986.5 45.5,-5986.5\"/>\n<text text-anchor=\"middle\" x=\"155\" y=\"-6000.8\" font-family=\"Times,serif\" font-size=\"14.00\" fill=\"#000000\">Encoder-3-MultiHeadSelfAttention</text>\n<polyline fill=\"none\" stroke=\"#000000\" points=\"264.5,-5986.5 264.5,-6022.5 \"/>\n<text text-anchor=\"middle\" x=\"330.5\" y=\"-6000.8\" font-family=\"Times,serif\" font-size=\"14.00\" fill=\"#000000\">MultiHeadAttention</text>\n</g>\n<!-- 140194846639296&#45;&gt;140194468490688 -->\n<g id=\"edge28\" class=\"edge\">\n<title>140194846639296-&gt;140194468490688</title>\n<path fill=\"none\" stroke=\"#000000\" d=\"M297.7865,-6059.4551C284.7912,-6050.1545 268.7645,-6038.6844 254.7204,-6028.6332\"/>\n<polygon fill=\"#000000\" stroke=\"#000000\" points=\"256.4459,-6025.5641 246.2769,-6022.5904 252.3719,-6031.2565 256.4459,-6025.5641\"/>\n</g>\n<!-- 140194466995360 -->\n<g id=\"node27\" class=\"node\">\n<title>140194466995360</title>\n<polygon fill=\"none\" stroke=\"#000000\" points=\"178.5,-5840.5 178.5,-5876.5 469.5,-5876.5 469.5,-5840.5 178.5,-5840.5\"/>\n<text text-anchor=\"middle\" x=\"303\" y=\"-5854.8\" font-family=\"Times,serif\" font-size=\"14.00\" fill=\"#000000\">Encoder-3-MultiHeadSelfAttention-Add</text>\n<polyline fill=\"none\" stroke=\"#000000\" points=\"427.5,-5840.5 427.5,-5876.5 \"/>\n<text text-anchor=\"middle\" x=\"448.5\" y=\"-5854.8\" font-family=\"Times,serif\" font-size=\"14.00\" fill=\"#000000\">Add</text>\n</g>\n<!-- 140194846639296&#45;&gt;140194466995360 -->\n<g id=\"edge30\" class=\"edge\">\n<title>140194846639296-&gt;140194466995360</title>\n<path fill=\"none\" stroke=\"#000000\" d=\"M367.0299,-6059.3618C382.1906,-6050.7299 397.4854,-6038.7771 406,-6023 414.1991,-6007.8075 411.9679,-5930.9111 402,-5913 395.0832,-5900.5713 383.9956,-5890.3379 372.3254,-5882.229\"/>\n<polygon fill=\"#000000\" stroke=\"#000000\" points=\"374.0734,-5879.1914 363.7759,-5876.699 370.2716,-5885.069 374.0734,-5879.1914\"/>\n</g>\n<!-- 140194468489392 -->\n<g id=\"node26\" class=\"node\">\n<title>140194468489392</title>\n<polygon fill=\"none\" stroke=\"#000000\" points=\"55.5,-5913.5 55.5,-5949.5 392.5,-5949.5 392.5,-5913.5 55.5,-5913.5\"/>\n<text text-anchor=\"middle\" x=\"191.5\" y=\"-5927.8\" font-family=\"Times,serif\" font-size=\"14.00\" fill=\"#000000\">Encoder-3-MultiHeadSelfAttention-Dropout</text>\n<polyline fill=\"none\" stroke=\"#000000\" points=\"327.5,-5913.5 327.5,-5949.5 \"/>\n<text text-anchor=\"middle\" x=\"360\" y=\"-5927.8\" font-family=\"Times,serif\" font-size=\"14.00\" fill=\"#000000\">Dropout</text>\n</g>\n<!-- 140194468490688&#45;&gt;140194468489392 -->\n<g id=\"edge29\" class=\"edge\">\n<title>140194468490688-&gt;140194468489392</title>\n<path fill=\"none\" stroke=\"#000000\" d=\"M221.7416,-5986.4551C222.0733,-5978.3828 222.4722,-5968.6764 222.8418,-5959.6817\"/>\n<polygon fill=\"#000000\" stroke=\"#000000\" points=\"226.3429,-5959.7257 223.2566,-5949.5904 219.3488,-5959.4382 226.3429,-5959.7257\"/>\n</g>\n<!-- 140194468489392&#45;&gt;140194466995360 -->\n<g id=\"edge31\" class=\"edge\">\n<title>140194468489392-&gt;140194466995360</title>\n<path fill=\"none\" stroke=\"#000000\" d=\"M248.7191,-5913.4551C261.4597,-5904.1545 277.1721,-5892.6844 290.9408,-5882.6332\"/>\n<polygon fill=\"#000000\" stroke=\"#000000\" points=\"293.2055,-5885.3134 299.2187,-5876.5904 289.0781,-5879.6596 293.2055,-5885.3134\"/>\n</g>\n<!-- 140194468174048 -->\n<g id=\"node28\" class=\"node\">\n<title>140194468174048</title>\n<polygon fill=\"none\" stroke=\"#000000\" points=\"130,-5767.5 130,-5803.5 518,-5803.5 518,-5767.5 130,-5767.5\"/>\n<text text-anchor=\"middle\" x=\"258.5\" y=\"-5781.8\" font-family=\"Times,serif\" font-size=\"14.00\" fill=\"#000000\">Encoder-3-MultiHeadSelfAttention-Norm</text>\n<polyline fill=\"none\" stroke=\"#000000\" points=\"387,-5767.5 387,-5803.5 \"/>\n<text text-anchor=\"middle\" x=\"452.5\" y=\"-5781.8\" font-family=\"Times,serif\" font-size=\"14.00\" fill=\"#000000\">LayerNormalization</text>\n</g>\n<!-- 140194466995360&#45;&gt;140194468174048 -->\n<g id=\"edge32\" class=\"edge\">\n<title>140194466995360-&gt;140194468174048</title>\n<path fill=\"none\" stroke=\"#000000\" d=\"M324,-5840.4551C324,-5832.3828 324,-5822.6764 324,-5813.6817\"/>\n<polygon fill=\"#000000\" stroke=\"#000000\" points=\"327.5001,-5813.5903 324,-5803.5904 320.5001,-5813.5904 327.5001,-5813.5903\"/>\n</g>\n<!-- 140194467403952 -->\n<g id=\"node29\" class=\"node\">\n<title>140194467403952</title>\n<polygon fill=\"none\" stroke=\"#000000\" points=\"115.5,-5694.5 115.5,-5730.5 366.5,-5730.5 366.5,-5694.5 115.5,-5694.5\"/>\n<text text-anchor=\"middle\" x=\"194.5\" y=\"-5708.8\" font-family=\"Times,serif\" font-size=\"14.00\" fill=\"#000000\">Encoder-3-FeedForward</text>\n<polyline fill=\"none\" stroke=\"#000000\" points=\"273.5,-5694.5 273.5,-5730.5 \"/>\n<text text-anchor=\"middle\" x=\"320\" y=\"-5708.8\" font-family=\"Times,serif\" font-size=\"14.00\" fill=\"#000000\">FeedForward</text>\n</g>\n<!-- 140194468174048&#45;&gt;140194467403952 -->\n<g id=\"edge33\" class=\"edge\">\n<title>140194468174048-&gt;140194467403952</title>\n<path fill=\"none\" stroke=\"#000000\" d=\"M303.4831,-5767.4551C293.108,-5758.3299 280.3584,-5747.1165 269.0877,-5737.2036\"/>\n<polygon fill=\"#000000\" stroke=\"#000000\" points=\"271.3889,-5734.5665 261.5685,-5730.5904 266.7659,-5739.8228 271.3889,-5734.5665\"/>\n</g>\n<!-- 140194467984096 -->\n<g id=\"node31\" class=\"node\">\n<title>140194467984096</title>\n<polygon fill=\"none\" stroke=\"#000000\" points=\"203,-5548.5 203,-5584.5 433,-5584.5 433,-5548.5 203,-5548.5\"/>\n<text text-anchor=\"middle\" x=\"297\" y=\"-5562.8\" font-family=\"Times,serif\" font-size=\"14.00\" fill=\"#000000\">Encoder-3-FeedForward-Add</text>\n<polyline fill=\"none\" stroke=\"#000000\" points=\"391,-5548.5 391,-5584.5 \"/>\n<text text-anchor=\"middle\" x=\"412\" y=\"-5562.8\" font-family=\"Times,serif\" font-size=\"14.00\" fill=\"#000000\">Add</text>\n</g>\n<!-- 140194468174048&#45;&gt;140194467984096 -->\n<g id=\"edge35\" class=\"edge\">\n<title>140194468174048-&gt;140194467984096</title>\n<path fill=\"none\" stroke=\"#000000\" d=\"M346.7353,-5767.457C357.1909,-5757.8203 368.657,-5745.0556 375,-5731 395.1503,-5686.3484 402.5416,-5665.473 382,-5621 376.5436,-5609.1867 367.1242,-5598.9911 357.1643,-5590.7193\"/>\n<polygon fill=\"#000000\" stroke=\"#000000\" points=\"359.178,-5587.8521 349.1262,-5584.5038 354.896,-5593.3897 359.178,-5587.8521\"/>\n</g>\n<!-- 140194468489728 -->\n<g id=\"node30\" class=\"node\">\n<title>140194468489728</title>\n<polygon fill=\"none\" stroke=\"#000000\" points=\"97,-5621.5 97,-5657.5 373,-5657.5 373,-5621.5 97,-5621.5\"/>\n<text text-anchor=\"middle\" x=\"202.5\" y=\"-5635.8\" font-family=\"Times,serif\" font-size=\"14.00\" fill=\"#000000\">Encoder-3-FeedForward-Dropout</text>\n<polyline fill=\"none\" stroke=\"#000000\" points=\"308,-5621.5 308,-5657.5 \"/>\n<text text-anchor=\"middle\" x=\"340.5\" y=\"-5635.8\" font-family=\"Times,serif\" font-size=\"14.00\" fill=\"#000000\">Dropout</text>\n</g>\n<!-- 140194467403952&#45;&gt;140194468489728 -->\n<g id=\"edge34\" class=\"edge\">\n<title>140194467403952-&gt;140194468489728</title>\n<path fill=\"none\" stroke=\"#000000\" d=\"M239.5169,-5694.4551C238.8534,-5686.3828 238.0556,-5676.6764 237.3163,-5667.6817\"/>\n<polygon fill=\"#000000\" stroke=\"#000000\" points=\"240.7944,-5667.27 236.4869,-5657.5904 233.8179,-5667.8435 240.7944,-5667.27\"/>\n</g>\n<!-- 140194468489728&#45;&gt;140194467984096 -->\n<g id=\"edge36\" class=\"edge\">\n<title>140194468489728-&gt;140194467984096</title>\n<path fill=\"none\" stroke=\"#000000\" d=\"M255.5169,-5621.4551C265.892,-5612.3299 278.6416,-5601.1165 289.9123,-5591.2036\"/>\n<polygon fill=\"#000000\" stroke=\"#000000\" points=\"292.2341,-5593.8228 297.4315,-5584.5904 287.6111,-5588.5665 292.2341,-5593.8228\"/>\n</g>\n<!-- 140194846576208 -->\n<g id=\"node32\" class=\"node\">\n<title>140194846576208</title>\n<polygon fill=\"none\" stroke=\"#000000\" points=\"154.5,-5475.5 154.5,-5511.5 481.5,-5511.5 481.5,-5475.5 154.5,-5475.5\"/>\n<text text-anchor=\"middle\" x=\"252.5\" y=\"-5489.8\" font-family=\"Times,serif\" font-size=\"14.00\" fill=\"#000000\">Encoder-3-FeedForward-Norm</text>\n<polyline fill=\"none\" stroke=\"#000000\" points=\"350.5,-5475.5 350.5,-5511.5 \"/>\n<text text-anchor=\"middle\" x=\"416\" y=\"-5489.8\" font-family=\"Times,serif\" font-size=\"14.00\" fill=\"#000000\">LayerNormalization</text>\n</g>\n<!-- 140194467984096&#45;&gt;140194846576208 -->\n<g id=\"edge37\" class=\"edge\">\n<title>140194467984096-&gt;140194846576208</title>\n<path fill=\"none\" stroke=\"#000000\" d=\"M318,-5548.4551C318,-5540.3828 318,-5530.6764 318,-5521.6817\"/>\n<polygon fill=\"#000000\" stroke=\"#000000\" points=\"321.5001,-5521.5903 318,-5511.5904 314.5001,-5521.5904 321.5001,-5521.5903\"/>\n</g>\n<!-- 140194468401888 -->\n<g id=\"node33\" class=\"node\">\n<title>140194468401888</title>\n<polygon fill=\"none\" stroke=\"#000000\" points=\"40.5,-5402.5 40.5,-5438.5 391.5,-5438.5 391.5,-5402.5 40.5,-5402.5\"/>\n<text text-anchor=\"middle\" x=\"150\" y=\"-5416.8\" font-family=\"Times,serif\" font-size=\"14.00\" fill=\"#000000\">Encoder-4-MultiHeadSelfAttention</text>\n<polyline fill=\"none\" stroke=\"#000000\" points=\"259.5,-5402.5 259.5,-5438.5 \"/>\n<text text-anchor=\"middle\" x=\"325.5\" y=\"-5416.8\" font-family=\"Times,serif\" font-size=\"14.00\" fill=\"#000000\">MultiHeadAttention</text>\n</g>\n<!-- 140194846576208&#45;&gt;140194468401888 -->\n<g id=\"edge38\" class=\"edge\">\n<title>140194846576208-&gt;140194468401888</title>\n<path fill=\"none\" stroke=\"#000000\" d=\"M292.7865,-5475.4551C279.7912,-5466.1545 263.7645,-5454.6844 249.7204,-5444.6332\"/>\n<polygon fill=\"#000000\" stroke=\"#000000\" points=\"251.4459,-5441.5641 241.2769,-5438.5904 247.3719,-5447.2565 251.4459,-5441.5641\"/>\n</g>\n<!-- 140194846575440 -->\n<g id=\"node35\" class=\"node\">\n<title>140194846575440</title>\n<polygon fill=\"none\" stroke=\"#000000\" points=\"173.5,-5256.5 173.5,-5292.5 464.5,-5292.5 464.5,-5256.5 173.5,-5256.5\"/>\n<text text-anchor=\"middle\" x=\"298\" y=\"-5270.8\" font-family=\"Times,serif\" font-size=\"14.00\" fill=\"#000000\">Encoder-4-MultiHeadSelfAttention-Add</text>\n<polyline fill=\"none\" stroke=\"#000000\" points=\"422.5,-5256.5 422.5,-5292.5 \"/>\n<text text-anchor=\"middle\" x=\"443.5\" y=\"-5270.8\" font-family=\"Times,serif\" font-size=\"14.00\" fill=\"#000000\">Add</text>\n</g>\n<!-- 140194846576208&#45;&gt;140194846575440 -->\n<g id=\"edge40\" class=\"edge\">\n<title>140194846576208-&gt;140194846575440</title>\n<path fill=\"none\" stroke=\"#000000\" d=\"M362.0299,-5475.3618C377.1906,-5466.7299 392.4854,-5454.7771 401,-5439 409.1991,-5423.8075 406.9679,-5346.9111 397,-5329 390.0832,-5316.5713 378.9956,-5306.3379 367.3254,-5298.229\"/>\n<polygon fill=\"#000000\" stroke=\"#000000\" points=\"369.0734,-5295.1914 358.7759,-5292.699 365.2716,-5301.069 369.0734,-5295.1914\"/>\n</g>\n<!-- 140194468403856 -->\n<g id=\"node34\" class=\"node\">\n<title>140194468403856</title>\n<polygon fill=\"none\" stroke=\"#000000\" points=\"50.5,-5329.5 50.5,-5365.5 387.5,-5365.5 387.5,-5329.5 50.5,-5329.5\"/>\n<text text-anchor=\"middle\" x=\"186.5\" y=\"-5343.8\" font-family=\"Times,serif\" font-size=\"14.00\" fill=\"#000000\">Encoder-4-MultiHeadSelfAttention-Dropout</text>\n<polyline fill=\"none\" stroke=\"#000000\" points=\"322.5,-5329.5 322.5,-5365.5 \"/>\n<text text-anchor=\"middle\" x=\"355\" y=\"-5343.8\" font-family=\"Times,serif\" font-size=\"14.00\" fill=\"#000000\">Dropout</text>\n</g>\n<!-- 140194468401888&#45;&gt;140194468403856 -->\n<g id=\"edge39\" class=\"edge\">\n<title>140194468401888-&gt;140194468403856</title>\n<path fill=\"none\" stroke=\"#000000\" d=\"M216.7416,-5402.4551C217.0733,-5394.3828 217.4722,-5384.6764 217.8418,-5375.6817\"/>\n<polygon fill=\"#000000\" stroke=\"#000000\" points=\"221.3429,-5375.7257 218.2566,-5365.5904 214.3488,-5375.4382 221.3429,-5375.7257\"/>\n</g>\n<!-- 140194468403856&#45;&gt;140194846575440 -->\n<g id=\"edge41\" class=\"edge\">\n<title>140194468403856-&gt;140194846575440</title>\n<path fill=\"none\" stroke=\"#000000\" d=\"M243.7191,-5329.4551C256.4597,-5320.1545 272.1721,-5308.6844 285.9408,-5298.6332\"/>\n<polygon fill=\"#000000\" stroke=\"#000000\" points=\"288.2055,-5301.3134 294.2187,-5292.5904 284.0781,-5295.6596 288.2055,-5301.3134\"/>\n</g>\n<!-- 140194467574640 -->\n<g id=\"node36\" class=\"node\">\n<title>140194467574640</title>\n<polygon fill=\"none\" stroke=\"#000000\" points=\"125,-5183.5 125,-5219.5 513,-5219.5 513,-5183.5 125,-5183.5\"/>\n<text text-anchor=\"middle\" x=\"253.5\" y=\"-5197.8\" font-family=\"Times,serif\" font-size=\"14.00\" fill=\"#000000\">Encoder-4-MultiHeadSelfAttention-Norm</text>\n<polyline fill=\"none\" stroke=\"#000000\" points=\"382,-5183.5 382,-5219.5 \"/>\n<text text-anchor=\"middle\" x=\"447.5\" y=\"-5197.8\" font-family=\"Times,serif\" font-size=\"14.00\" fill=\"#000000\">LayerNormalization</text>\n</g>\n<!-- 140194846575440&#45;&gt;140194467574640 -->\n<g id=\"edge42\" class=\"edge\">\n<title>140194846575440-&gt;140194467574640</title>\n<path fill=\"none\" stroke=\"#000000\" d=\"M319,-5256.4551C319,-5248.3828 319,-5238.6764 319,-5229.6817\"/>\n<polygon fill=\"#000000\" stroke=\"#000000\" points=\"322.5001,-5229.5903 319,-5219.5904 315.5001,-5229.5904 322.5001,-5229.5903\"/>\n</g>\n<!-- 140194467316352 -->\n<g id=\"node37\" class=\"node\">\n<title>140194467316352</title>\n<polygon fill=\"none\" stroke=\"#000000\" points=\"110.5,-5110.5 110.5,-5146.5 361.5,-5146.5 361.5,-5110.5 110.5,-5110.5\"/>\n<text text-anchor=\"middle\" x=\"189.5\" y=\"-5124.8\" font-family=\"Times,serif\" font-size=\"14.00\" fill=\"#000000\">Encoder-4-FeedForward</text>\n<polyline fill=\"none\" stroke=\"#000000\" points=\"268.5,-5110.5 268.5,-5146.5 \"/>\n<text text-anchor=\"middle\" x=\"315\" y=\"-5124.8\" font-family=\"Times,serif\" font-size=\"14.00\" fill=\"#000000\">FeedForward</text>\n</g>\n<!-- 140194467574640&#45;&gt;140194467316352 -->\n<g id=\"edge43\" class=\"edge\">\n<title>140194467574640-&gt;140194467316352</title>\n<path fill=\"none\" stroke=\"#000000\" d=\"M298.4831,-5183.4551C288.108,-5174.3299 275.3584,-5163.1165 264.0877,-5153.2036\"/>\n<polygon fill=\"#000000\" stroke=\"#000000\" points=\"266.3889,-5150.5665 256.5685,-5146.5904 261.7659,-5155.8228 266.3889,-5150.5665\"/>\n</g>\n<!-- 140194467436864 -->\n<g id=\"node39\" class=\"node\">\n<title>140194467436864</title>\n<polygon fill=\"none\" stroke=\"#000000\" points=\"198,-4964.5 198,-5000.5 428,-5000.5 428,-4964.5 198,-4964.5\"/>\n<text text-anchor=\"middle\" x=\"292\" y=\"-4978.8\" font-family=\"Times,serif\" font-size=\"14.00\" fill=\"#000000\">Encoder-4-FeedForward-Add</text>\n<polyline fill=\"none\" stroke=\"#000000\" points=\"386,-4964.5 386,-5000.5 \"/>\n<text text-anchor=\"middle\" x=\"407\" y=\"-4978.8\" font-family=\"Times,serif\" font-size=\"14.00\" fill=\"#000000\">Add</text>\n</g>\n<!-- 140194467574640&#45;&gt;140194467436864 -->\n<g id=\"edge45\" class=\"edge\">\n<title>140194467574640-&gt;140194467436864</title>\n<path fill=\"none\" stroke=\"#000000\" d=\"M341.7353,-5183.457C352.1909,-5173.8203 363.657,-5161.0556 370,-5147 390.1503,-5102.3484 397.5416,-5081.473 377,-5037 371.5436,-5025.1867 362.1242,-5014.9911 352.1643,-5006.7193\"/>\n<polygon fill=\"#000000\" stroke=\"#000000\" points=\"354.178,-5003.8521 344.1262,-5000.5038 349.896,-5009.3897 354.178,-5003.8521\"/>\n</g>\n<!-- 140194468404912 -->\n<g id=\"node38\" class=\"node\">\n<title>140194468404912</title>\n<polygon fill=\"none\" stroke=\"#000000\" points=\"92,-5037.5 92,-5073.5 368,-5073.5 368,-5037.5 92,-5037.5\"/>\n<text text-anchor=\"middle\" x=\"197.5\" y=\"-5051.8\" font-family=\"Times,serif\" font-size=\"14.00\" fill=\"#000000\">Encoder-4-FeedForward-Dropout</text>\n<polyline fill=\"none\" stroke=\"#000000\" points=\"303,-5037.5 303,-5073.5 \"/>\n<text text-anchor=\"middle\" x=\"335.5\" y=\"-5051.8\" font-family=\"Times,serif\" font-size=\"14.00\" fill=\"#000000\">Dropout</text>\n</g>\n<!-- 140194467316352&#45;&gt;140194468404912 -->\n<g id=\"edge44\" class=\"edge\">\n<title>140194467316352-&gt;140194468404912</title>\n<path fill=\"none\" stroke=\"#000000\" d=\"M234.5169,-5110.4551C233.8534,-5102.3828 233.0556,-5092.6764 232.3163,-5083.6817\"/>\n<polygon fill=\"#000000\" stroke=\"#000000\" points=\"235.7944,-5083.27 231.4869,-5073.5904 228.8179,-5083.8435 235.7944,-5083.27\"/>\n</g>\n<!-- 140194468404912&#45;&gt;140194467436864 -->\n<g id=\"edge46\" class=\"edge\">\n<title>140194468404912-&gt;140194467436864</title>\n<path fill=\"none\" stroke=\"#000000\" d=\"M250.5169,-5037.4551C260.892,-5028.3299 273.6416,-5017.1165 284.9123,-5007.2036\"/>\n<polygon fill=\"#000000\" stroke=\"#000000\" points=\"287.2341,-5009.8228 292.4315,-5000.5904 282.6111,-5004.5665 287.2341,-5009.8228\"/>\n</g>\n<!-- 140194846372144 -->\n<g id=\"node40\" class=\"node\">\n<title>140194846372144</title>\n<polygon fill=\"none\" stroke=\"#000000\" points=\"149.5,-4891.5 149.5,-4927.5 476.5,-4927.5 476.5,-4891.5 149.5,-4891.5\"/>\n<text text-anchor=\"middle\" x=\"247.5\" y=\"-4905.8\" font-family=\"Times,serif\" font-size=\"14.00\" fill=\"#000000\">Encoder-4-FeedForward-Norm</text>\n<polyline fill=\"none\" stroke=\"#000000\" points=\"345.5,-4891.5 345.5,-4927.5 \"/>\n<text text-anchor=\"middle\" x=\"411\" y=\"-4905.8\" font-family=\"Times,serif\" font-size=\"14.00\" fill=\"#000000\">LayerNormalization</text>\n</g>\n<!-- 140194467436864&#45;&gt;140194846372144 -->\n<g id=\"edge47\" class=\"edge\">\n<title>140194467436864-&gt;140194846372144</title>\n<path fill=\"none\" stroke=\"#000000\" d=\"M313,-4964.4551C313,-4956.3828 313,-4946.6764 313,-4937.6817\"/>\n<polygon fill=\"#000000\" stroke=\"#000000\" points=\"316.5001,-4937.5903 313,-4927.5904 309.5001,-4937.5904 316.5001,-4937.5903\"/>\n</g>\n<!-- 140194466677376 -->\n<g id=\"node41\" class=\"node\">\n<title>140194466677376</title>\n<polygon fill=\"none\" stroke=\"#000000\" points=\"35.5,-4818.5 35.5,-4854.5 386.5,-4854.5 386.5,-4818.5 35.5,-4818.5\"/>\n<text text-anchor=\"middle\" x=\"145\" y=\"-4832.8\" font-family=\"Times,serif\" font-size=\"14.00\" fill=\"#000000\">Encoder-5-MultiHeadSelfAttention</text>\n<polyline fill=\"none\" stroke=\"#000000\" points=\"254.5,-4818.5 254.5,-4854.5 \"/>\n<text text-anchor=\"middle\" x=\"320.5\" y=\"-4832.8\" font-family=\"Times,serif\" font-size=\"14.00\" fill=\"#000000\">MultiHeadAttention</text>\n</g>\n<!-- 140194846372144&#45;&gt;140194466677376 -->\n<g id=\"edge48\" class=\"edge\">\n<title>140194846372144-&gt;140194466677376</title>\n<path fill=\"none\" stroke=\"#000000\" d=\"M287.7865,-4891.4551C274.7912,-4882.1545 258.7645,-4870.6844 244.7204,-4860.6332\"/>\n<polygon fill=\"#000000\" stroke=\"#000000\" points=\"246.4459,-4857.5641 236.2769,-4854.5904 242.3719,-4863.2565 246.4459,-4857.5641\"/>\n</g>\n<!-- 140194467852400 -->\n<g id=\"node43\" class=\"node\">\n<title>140194467852400</title>\n<polygon fill=\"none\" stroke=\"#000000\" points=\"168.5,-4672.5 168.5,-4708.5 459.5,-4708.5 459.5,-4672.5 168.5,-4672.5\"/>\n<text text-anchor=\"middle\" x=\"293\" y=\"-4686.8\" font-family=\"Times,serif\" font-size=\"14.00\" fill=\"#000000\">Encoder-5-MultiHeadSelfAttention-Add</text>\n<polyline fill=\"none\" stroke=\"#000000\" points=\"417.5,-4672.5 417.5,-4708.5 \"/>\n<text text-anchor=\"middle\" x=\"438.5\" y=\"-4686.8\" font-family=\"Times,serif\" font-size=\"14.00\" fill=\"#000000\">Add</text>\n</g>\n<!-- 140194846372144&#45;&gt;140194467852400 -->\n<g id=\"edge50\" class=\"edge\">\n<title>140194846372144-&gt;140194467852400</title>\n<path fill=\"none\" stroke=\"#000000\" d=\"M357.0299,-4891.3618C372.1906,-4882.7299 387.4854,-4870.7771 396,-4855 404.1991,-4839.8075 401.9679,-4762.9111 392,-4745 385.0832,-4732.5713 373.9956,-4722.3379 362.3254,-4714.229\"/>\n<polygon fill=\"#000000\" stroke=\"#000000\" points=\"364.0734,-4711.1914 353.7759,-4708.699 360.2716,-4717.069 364.0734,-4711.1914\"/>\n</g>\n<!-- 140194467318848 -->\n<g id=\"node42\" class=\"node\">\n<title>140194467318848</title>\n<polygon fill=\"none\" stroke=\"#000000\" points=\"45.5,-4745.5 45.5,-4781.5 382.5,-4781.5 382.5,-4745.5 45.5,-4745.5\"/>\n<text text-anchor=\"middle\" x=\"181.5\" y=\"-4759.8\" font-family=\"Times,serif\" font-size=\"14.00\" fill=\"#000000\">Encoder-5-MultiHeadSelfAttention-Dropout</text>\n<polyline fill=\"none\" stroke=\"#000000\" points=\"317.5,-4745.5 317.5,-4781.5 \"/>\n<text text-anchor=\"middle\" x=\"350\" y=\"-4759.8\" font-family=\"Times,serif\" font-size=\"14.00\" fill=\"#000000\">Dropout</text>\n</g>\n<!-- 140194466677376&#45;&gt;140194467318848 -->\n<g id=\"edge49\" class=\"edge\">\n<title>140194466677376-&gt;140194467318848</title>\n<path fill=\"none\" stroke=\"#000000\" d=\"M211.7416,-4818.4551C212.0733,-4810.3828 212.4722,-4800.6764 212.8418,-4791.6817\"/>\n<polygon fill=\"#000000\" stroke=\"#000000\" points=\"216.3429,-4791.7257 213.2566,-4781.5904 209.3488,-4791.4382 216.3429,-4791.7257\"/>\n</g>\n<!-- 140194467318848&#45;&gt;140194467852400 -->\n<g id=\"edge51\" class=\"edge\">\n<title>140194467318848-&gt;140194467852400</title>\n<path fill=\"none\" stroke=\"#000000\" d=\"M238.7191,-4745.4551C251.4597,-4736.1545 267.1721,-4724.6844 280.9408,-4714.6332\"/>\n<polygon fill=\"#000000\" stroke=\"#000000\" points=\"283.2055,-4717.3134 289.2187,-4708.5904 279.0781,-4711.6596 283.2055,-4717.3134\"/>\n</g>\n<!-- 140194465980816 -->\n<g id=\"node44\" class=\"node\">\n<title>140194465980816</title>\n<polygon fill=\"none\" stroke=\"#000000\" points=\"120,-4599.5 120,-4635.5 508,-4635.5 508,-4599.5 120,-4599.5\"/>\n<text text-anchor=\"middle\" x=\"248.5\" y=\"-4613.8\" font-family=\"Times,serif\" font-size=\"14.00\" fill=\"#000000\">Encoder-5-MultiHeadSelfAttention-Norm</text>\n<polyline fill=\"none\" stroke=\"#000000\" points=\"377,-4599.5 377,-4635.5 \"/>\n<text text-anchor=\"middle\" x=\"442.5\" y=\"-4613.8\" font-family=\"Times,serif\" font-size=\"14.00\" fill=\"#000000\">LayerNormalization</text>\n</g>\n<!-- 140194467852400&#45;&gt;140194465980816 -->\n<g id=\"edge52\" class=\"edge\">\n<title>140194467852400-&gt;140194465980816</title>\n<path fill=\"none\" stroke=\"#000000\" d=\"M314,-4672.4551C314,-4664.3828 314,-4654.6764 314,-4645.6817\"/>\n<polygon fill=\"#000000\" stroke=\"#000000\" points=\"317.5001,-4645.5903 314,-4635.5904 310.5001,-4645.5904 317.5001,-4645.5903\"/>\n</g>\n<!-- 140194466704400 -->\n<g id=\"node45\" class=\"node\">\n<title>140194466704400</title>\n<polygon fill=\"none\" stroke=\"#000000\" points=\"105.5,-4526.5 105.5,-4562.5 356.5,-4562.5 356.5,-4526.5 105.5,-4526.5\"/>\n<text text-anchor=\"middle\" x=\"184.5\" y=\"-4540.8\" font-family=\"Times,serif\" font-size=\"14.00\" fill=\"#000000\">Encoder-5-FeedForward</text>\n<polyline fill=\"none\" stroke=\"#000000\" points=\"263.5,-4526.5 263.5,-4562.5 \"/>\n<text text-anchor=\"middle\" x=\"310\" y=\"-4540.8\" font-family=\"Times,serif\" font-size=\"14.00\" fill=\"#000000\">FeedForward</text>\n</g>\n<!-- 140194465980816&#45;&gt;140194466704400 -->\n<g id=\"edge53\" class=\"edge\">\n<title>140194465980816-&gt;140194466704400</title>\n<path fill=\"none\" stroke=\"#000000\" d=\"M293.4831,-4599.4551C283.108,-4590.3299 270.3584,-4579.1165 259.0877,-4569.2036\"/>\n<polygon fill=\"#000000\" stroke=\"#000000\" points=\"261.3889,-4566.5665 251.5685,-4562.5904 256.7659,-4571.8228 261.3889,-4566.5665\"/>\n</g>\n<!-- 140194467437344 -->\n<g id=\"node47\" class=\"node\">\n<title>140194467437344</title>\n<polygon fill=\"none\" stroke=\"#000000\" points=\"193,-4380.5 193,-4416.5 423,-4416.5 423,-4380.5 193,-4380.5\"/>\n<text text-anchor=\"middle\" x=\"287\" y=\"-4394.8\" font-family=\"Times,serif\" font-size=\"14.00\" fill=\"#000000\">Encoder-5-FeedForward-Add</text>\n<polyline fill=\"none\" stroke=\"#000000\" points=\"381,-4380.5 381,-4416.5 \"/>\n<text text-anchor=\"middle\" x=\"402\" y=\"-4394.8\" font-family=\"Times,serif\" font-size=\"14.00\" fill=\"#000000\">Add</text>\n</g>\n<!-- 140194465980816&#45;&gt;140194467437344 -->\n<g id=\"edge55\" class=\"edge\">\n<title>140194465980816-&gt;140194467437344</title>\n<path fill=\"none\" stroke=\"#000000\" d=\"M336.7353,-4599.457C347.1909,-4589.8203 358.657,-4577.0556 365,-4563 385.1503,-4518.3484 392.5416,-4497.473 372,-4453 366.5436,-4441.1867 357.1242,-4430.9911 347.1643,-4422.7193\"/>\n<polygon fill=\"#000000\" stroke=\"#000000\" points=\"349.178,-4419.8521 339.1262,-4416.5038 344.896,-4425.3897 349.178,-4419.8521\"/>\n</g>\n<!-- 140194468052896 -->\n<g id=\"node46\" class=\"node\">\n<title>140194468052896</title>\n<polygon fill=\"none\" stroke=\"#000000\" points=\"87,-4453.5 87,-4489.5 363,-4489.5 363,-4453.5 87,-4453.5\"/>\n<text text-anchor=\"middle\" x=\"192.5\" y=\"-4467.8\" font-family=\"Times,serif\" font-size=\"14.00\" fill=\"#000000\">Encoder-5-FeedForward-Dropout</text>\n<polyline fill=\"none\" stroke=\"#000000\" points=\"298,-4453.5 298,-4489.5 \"/>\n<text text-anchor=\"middle\" x=\"330.5\" y=\"-4467.8\" font-family=\"Times,serif\" font-size=\"14.00\" fill=\"#000000\">Dropout</text>\n</g>\n<!-- 140194466704400&#45;&gt;140194468052896 -->\n<g id=\"edge54\" class=\"edge\">\n<title>140194466704400-&gt;140194468052896</title>\n<path fill=\"none\" stroke=\"#000000\" d=\"M229.5169,-4526.4551C228.8534,-4518.3828 228.0556,-4508.6764 227.3163,-4499.6817\"/>\n<polygon fill=\"#000000\" stroke=\"#000000\" points=\"230.7944,-4499.27 226.4869,-4489.5904 223.8179,-4499.8435 230.7944,-4499.27\"/>\n</g>\n<!-- 140194468052896&#45;&gt;140194467437344 -->\n<g id=\"edge56\" class=\"edge\">\n<title>140194468052896-&gt;140194467437344</title>\n<path fill=\"none\" stroke=\"#000000\" d=\"M245.5169,-4453.4551C255.892,-4444.3299 268.6416,-4433.1165 279.9123,-4423.2036\"/>\n<polygon fill=\"#000000\" stroke=\"#000000\" points=\"282.2341,-4425.8228 287.4315,-4416.5904 277.6111,-4420.5665 282.2341,-4425.8228\"/>\n</g>\n<!-- 140194846558720 -->\n<g id=\"node48\" class=\"node\">\n<title>140194846558720</title>\n<polygon fill=\"none\" stroke=\"#000000\" points=\"144.5,-4307.5 144.5,-4343.5 471.5,-4343.5 471.5,-4307.5 144.5,-4307.5\"/>\n<text text-anchor=\"middle\" x=\"242.5\" y=\"-4321.8\" font-family=\"Times,serif\" font-size=\"14.00\" fill=\"#000000\">Encoder-5-FeedForward-Norm</text>\n<polyline fill=\"none\" stroke=\"#000000\" points=\"340.5,-4307.5 340.5,-4343.5 \"/>\n<text text-anchor=\"middle\" x=\"406\" y=\"-4321.8\" font-family=\"Times,serif\" font-size=\"14.00\" fill=\"#000000\">LayerNormalization</text>\n</g>\n<!-- 140194467437344&#45;&gt;140194846558720 -->\n<g id=\"edge57\" class=\"edge\">\n<title>140194467437344-&gt;140194846558720</title>\n<path fill=\"none\" stroke=\"#000000\" d=\"M308,-4380.4551C308,-4372.3828 308,-4362.6764 308,-4353.6817\"/>\n<polygon fill=\"#000000\" stroke=\"#000000\" points=\"311.5001,-4353.5903 308,-4343.5904 304.5001,-4353.5904 311.5001,-4353.5903\"/>\n</g>\n<!-- 140194846375696 -->\n<g id=\"node49\" class=\"node\">\n<title>140194846375696</title>\n<polygon fill=\"none\" stroke=\"#000000\" points=\"30.5,-4234.5 30.5,-4270.5 381.5,-4270.5 381.5,-4234.5 30.5,-4234.5\"/>\n<text text-anchor=\"middle\" x=\"140\" y=\"-4248.8\" font-family=\"Times,serif\" font-size=\"14.00\" fill=\"#000000\">Encoder-6-MultiHeadSelfAttention</text>\n<polyline fill=\"none\" stroke=\"#000000\" points=\"249.5,-4234.5 249.5,-4270.5 \"/>\n<text text-anchor=\"middle\" x=\"315.5\" y=\"-4248.8\" font-family=\"Times,serif\" font-size=\"14.00\" fill=\"#000000\">MultiHeadAttention</text>\n</g>\n<!-- 140194846558720&#45;&gt;140194846375696 -->\n<g id=\"edge58\" class=\"edge\">\n<title>140194846558720-&gt;140194846375696</title>\n<path fill=\"none\" stroke=\"#000000\" d=\"M282.7865,-4307.4551C269.7912,-4298.1545 253.7645,-4286.6844 239.7204,-4276.6332\"/>\n<polygon fill=\"#000000\" stroke=\"#000000\" points=\"241.4459,-4273.5641 231.2769,-4270.5904 237.3719,-4279.2565 241.4459,-4273.5641\"/>\n</g>\n<!-- 140194464466784 -->\n<g id=\"node51\" class=\"node\">\n<title>140194464466784</title>\n<polygon fill=\"none\" stroke=\"#000000\" points=\"162.5,-4088.5 162.5,-4124.5 453.5,-4124.5 453.5,-4088.5 162.5,-4088.5\"/>\n<text text-anchor=\"middle\" x=\"287\" y=\"-4102.8\" font-family=\"Times,serif\" font-size=\"14.00\" fill=\"#000000\">Encoder-6-MultiHeadSelfAttention-Add</text>\n<polyline fill=\"none\" stroke=\"#000000\" points=\"411.5,-4088.5 411.5,-4124.5 \"/>\n<text text-anchor=\"middle\" x=\"432.5\" y=\"-4102.8\" font-family=\"Times,serif\" font-size=\"14.00\" fill=\"#000000\">Add</text>\n</g>\n<!-- 140194846558720&#45;&gt;140194464466784 -->\n<g id=\"edge60\" class=\"edge\">\n<title>140194846558720-&gt;140194464466784</title>\n<path fill=\"none\" stroke=\"#000000\" d=\"M352.0299,-4307.3618C367.1906,-4298.7299 382.4854,-4286.7771 391,-4271 398.7883,-4256.5687 398.7039,-4180.2752 388,-4161 381.0407,-4148.468 369.8377,-4138.2368 357.9915,-4130.1643\"/>\n<polygon fill=\"#000000\" stroke=\"#000000\" points=\"359.6251,-4127.0561 349.3034,-4124.6658 355.8816,-4132.9711 359.6251,-4127.0561\"/>\n</g>\n<!-- 140194464403712 -->\n<g id=\"node50\" class=\"node\">\n<title>140194464403712</title>\n<polygon fill=\"none\" stroke=\"#000000\" points=\"41.5,-4161.5 41.5,-4197.5 378.5,-4197.5 378.5,-4161.5 41.5,-4161.5\"/>\n<text text-anchor=\"middle\" x=\"177.5\" y=\"-4175.8\" font-family=\"Times,serif\" font-size=\"14.00\" fill=\"#000000\">Encoder-6-MultiHeadSelfAttention-Dropout</text>\n<polyline fill=\"none\" stroke=\"#000000\" points=\"313.5,-4161.5 313.5,-4197.5 \"/>\n<text text-anchor=\"middle\" x=\"346\" y=\"-4175.8\" font-family=\"Times,serif\" font-size=\"14.00\" fill=\"#000000\">Dropout</text>\n</g>\n<!-- 140194846375696&#45;&gt;140194464403712 -->\n<g id=\"edge59\" class=\"edge\">\n<title>140194846375696-&gt;140194464403712</title>\n<path fill=\"none\" stroke=\"#000000\" d=\"M206.9888,-4234.4551C207.4311,-4226.3828 207.9629,-4216.6764 208.4558,-4207.6817\"/>\n<polygon fill=\"#000000\" stroke=\"#000000\" points=\"211.9563,-4207.7669 209.0087,-4197.5904 204.9668,-4207.3839 211.9563,-4207.7669\"/>\n</g>\n<!-- 140194464403712&#45;&gt;140194464466784 -->\n<g id=\"edge61\" class=\"edge\">\n<title>140194464403712-&gt;140194464466784</title>\n<path fill=\"none\" stroke=\"#000000\" d=\"M234.2247,-4161.4551C246.7105,-4152.1545 262.1086,-4140.6844 275.602,-4130.6332\"/>\n<polygon fill=\"#000000\" stroke=\"#000000\" points=\"277.7855,-4133.371 283.7143,-4124.5904 273.6039,-4127.7573 277.7855,-4133.371\"/>\n</g>\n<!-- 140194464465536 -->\n<g id=\"node52\" class=\"node\">\n<title>140194464465536</title>\n<polygon fill=\"none\" stroke=\"#000000\" points=\"114,-4015.5 114,-4051.5 502,-4051.5 502,-4015.5 114,-4015.5\"/>\n<text text-anchor=\"middle\" x=\"242.5\" y=\"-4029.8\" font-family=\"Times,serif\" font-size=\"14.00\" fill=\"#000000\">Encoder-6-MultiHeadSelfAttention-Norm</text>\n<polyline fill=\"none\" stroke=\"#000000\" points=\"371,-4015.5 371,-4051.5 \"/>\n<text text-anchor=\"middle\" x=\"436.5\" y=\"-4029.8\" font-family=\"Times,serif\" font-size=\"14.00\" fill=\"#000000\">LayerNormalization</text>\n</g>\n<!-- 140194464466784&#45;&gt;140194464465536 -->\n<g id=\"edge62\" class=\"edge\">\n<title>140194464466784-&gt;140194464465536</title>\n<path fill=\"none\" stroke=\"#000000\" d=\"M308,-4088.4551C308,-4080.3828 308,-4070.6764 308,-4061.6817\"/>\n<polygon fill=\"#000000\" stroke=\"#000000\" points=\"311.5001,-4061.5903 308,-4051.5904 304.5001,-4061.5904 311.5001,-4061.5903\"/>\n</g>\n<!-- 140194846374400 -->\n<g id=\"node53\" class=\"node\">\n<title>140194846374400</title>\n<polygon fill=\"none\" stroke=\"#000000\" points=\"99.5,-3942.5 99.5,-3978.5 350.5,-3978.5 350.5,-3942.5 99.5,-3942.5\"/>\n<text text-anchor=\"middle\" x=\"178.5\" y=\"-3956.8\" font-family=\"Times,serif\" font-size=\"14.00\" fill=\"#000000\">Encoder-6-FeedForward</text>\n<polyline fill=\"none\" stroke=\"#000000\" points=\"257.5,-3942.5 257.5,-3978.5 \"/>\n<text text-anchor=\"middle\" x=\"304\" y=\"-3956.8\" font-family=\"Times,serif\" font-size=\"14.00\" fill=\"#000000\">FeedForward</text>\n</g>\n<!-- 140194464465536&#45;&gt;140194846374400 -->\n<g id=\"edge63\" class=\"edge\">\n<title>140194464465536-&gt;140194846374400</title>\n<path fill=\"none\" stroke=\"#000000\" d=\"M287.4831,-4015.4551C277.108,-4006.3299 264.3584,-3995.1165 253.0877,-3985.2036\"/>\n<polygon fill=\"#000000\" stroke=\"#000000\" points=\"255.3889,-3982.5665 245.5685,-3978.5904 250.7659,-3987.8228 255.3889,-3982.5665\"/>\n</g>\n<!-- 140194464681792 -->\n<g id=\"node55\" class=\"node\">\n<title>140194464681792</title>\n<polygon fill=\"none\" stroke=\"#000000\" points=\"187,-3796.5 187,-3832.5 417,-3832.5 417,-3796.5 187,-3796.5\"/>\n<text text-anchor=\"middle\" x=\"281\" y=\"-3810.8\" font-family=\"Times,serif\" font-size=\"14.00\" fill=\"#000000\">Encoder-6-FeedForward-Add</text>\n<polyline fill=\"none\" stroke=\"#000000\" points=\"375,-3796.5 375,-3832.5 \"/>\n<text text-anchor=\"middle\" x=\"396\" y=\"-3810.8\" font-family=\"Times,serif\" font-size=\"14.00\" fill=\"#000000\">Add</text>\n</g>\n<!-- 140194464465536&#45;&gt;140194464681792 -->\n<g id=\"edge65\" class=\"edge\">\n<title>140194464465536-&gt;140194464681792</title>\n<path fill=\"none\" stroke=\"#000000\" d=\"M330.7353,-4015.457C341.1909,-4005.8203 352.657,-3993.0556 359,-3979 379.1503,-3934.3484 386.5416,-3913.473 366,-3869 360.5436,-3857.1867 351.1242,-3846.9911 341.1643,-3838.7193\"/>\n<polygon fill=\"#000000\" stroke=\"#000000\" points=\"343.178,-3835.8521 333.1262,-3832.5038 338.896,-3841.3897 343.178,-3835.8521\"/>\n</g>\n<!-- 140194464765408 -->\n<g id=\"node54\" class=\"node\">\n<title>140194464765408</title>\n<polygon fill=\"none\" stroke=\"#000000\" points=\"81,-3869.5 81,-3905.5 357,-3905.5 357,-3869.5 81,-3869.5\"/>\n<text text-anchor=\"middle\" x=\"186.5\" y=\"-3883.8\" font-family=\"Times,serif\" font-size=\"14.00\" fill=\"#000000\">Encoder-6-FeedForward-Dropout</text>\n<polyline fill=\"none\" stroke=\"#000000\" points=\"292,-3869.5 292,-3905.5 \"/>\n<text text-anchor=\"middle\" x=\"324.5\" y=\"-3883.8\" font-family=\"Times,serif\" font-size=\"14.00\" fill=\"#000000\">Dropout</text>\n</g>\n<!-- 140194846374400&#45;&gt;140194464765408 -->\n<g id=\"edge64\" class=\"edge\">\n<title>140194846374400-&gt;140194464765408</title>\n<path fill=\"none\" stroke=\"#000000\" d=\"M223.5169,-3942.4551C222.8534,-3934.3828 222.0556,-3924.6764 221.3163,-3915.6817\"/>\n<polygon fill=\"#000000\" stroke=\"#000000\" points=\"224.7944,-3915.27 220.4869,-3905.5904 217.8179,-3915.8435 224.7944,-3915.27\"/>\n</g>\n<!-- 140194464765408&#45;&gt;140194464681792 -->\n<g id=\"edge66\" class=\"edge\">\n<title>140194464765408-&gt;140194464681792</title>\n<path fill=\"none\" stroke=\"#000000\" d=\"M239.5169,-3869.4551C249.892,-3860.3299 262.6416,-3849.1165 273.9123,-3839.2036\"/>\n<polygon fill=\"#000000\" stroke=\"#000000\" points=\"276.2341,-3841.8228 281.4315,-3832.5904 271.6111,-3836.5665 276.2341,-3841.8228\"/>\n</g>\n<!-- 140194464146768 -->\n<g id=\"node56\" class=\"node\">\n<title>140194464146768</title>\n<polygon fill=\"none\" stroke=\"#000000\" points=\"138.5,-3723.5 138.5,-3759.5 465.5,-3759.5 465.5,-3723.5 138.5,-3723.5\"/>\n<text text-anchor=\"middle\" x=\"236.5\" y=\"-3737.8\" font-family=\"Times,serif\" font-size=\"14.00\" fill=\"#000000\">Encoder-6-FeedForward-Norm</text>\n<polyline fill=\"none\" stroke=\"#000000\" points=\"334.5,-3723.5 334.5,-3759.5 \"/>\n<text text-anchor=\"middle\" x=\"400\" y=\"-3737.8\" font-family=\"Times,serif\" font-size=\"14.00\" fill=\"#000000\">LayerNormalization</text>\n</g>\n<!-- 140194464681792&#45;&gt;140194464146768 -->\n<g id=\"edge67\" class=\"edge\">\n<title>140194464681792-&gt;140194464146768</title>\n<path fill=\"none\" stroke=\"#000000\" d=\"M302,-3796.4551C302,-3788.3828 302,-3778.6764 302,-3769.6817\"/>\n<polygon fill=\"#000000\" stroke=\"#000000\" points=\"305.5001,-3769.5903 302,-3759.5904 298.5001,-3769.5904 305.5001,-3769.5903\"/>\n</g>\n<!-- 140194464230032 -->\n<g id=\"node57\" class=\"node\">\n<title>140194464230032</title>\n<polygon fill=\"none\" stroke=\"#000000\" points=\"24.5,-3650.5 24.5,-3686.5 375.5,-3686.5 375.5,-3650.5 24.5,-3650.5\"/>\n<text text-anchor=\"middle\" x=\"134\" y=\"-3664.8\" font-family=\"Times,serif\" font-size=\"14.00\" fill=\"#000000\">Encoder-7-MultiHeadSelfAttention</text>\n<polyline fill=\"none\" stroke=\"#000000\" points=\"243.5,-3650.5 243.5,-3686.5 \"/>\n<text text-anchor=\"middle\" x=\"309.5\" y=\"-3664.8\" font-family=\"Times,serif\" font-size=\"14.00\" fill=\"#000000\">MultiHeadAttention</text>\n</g>\n<!-- 140194464146768&#45;&gt;140194464230032 -->\n<g id=\"edge68\" class=\"edge\">\n<title>140194464146768-&gt;140194464230032</title>\n<path fill=\"none\" stroke=\"#000000\" d=\"M276.7865,-3723.4551C263.7912,-3714.1545 247.7645,-3702.6844 233.7204,-3692.6332\"/>\n<polygon fill=\"#000000\" stroke=\"#000000\" points=\"235.4459,-3689.5641 225.2769,-3686.5904 231.3719,-3695.2565 235.4459,-3689.5641\"/>\n</g>\n<!-- 140194463872960 -->\n<g id=\"node59\" class=\"node\">\n<title>140194463872960</title>\n<polygon fill=\"none\" stroke=\"#000000\" points=\"156.5,-3504.5 156.5,-3540.5 447.5,-3540.5 447.5,-3504.5 156.5,-3504.5\"/>\n<text text-anchor=\"middle\" x=\"281\" y=\"-3518.8\" font-family=\"Times,serif\" font-size=\"14.00\" fill=\"#000000\">Encoder-7-MultiHeadSelfAttention-Add</text>\n<polyline fill=\"none\" stroke=\"#000000\" points=\"405.5,-3504.5 405.5,-3540.5 \"/>\n<text text-anchor=\"middle\" x=\"426.5\" y=\"-3518.8\" font-family=\"Times,serif\" font-size=\"14.00\" fill=\"#000000\">Add</text>\n</g>\n<!-- 140194464146768&#45;&gt;140194463872960 -->\n<g id=\"edge70\" class=\"edge\">\n<title>140194464146768-&gt;140194463872960</title>\n<path fill=\"none\" stroke=\"#000000\" d=\"M346.0299,-3723.3618C361.1906,-3714.7299 376.4854,-3702.7771 385,-3687 392.7883,-3672.5687 392.7039,-3596.2752 382,-3577 375.0407,-3564.468 363.8377,-3554.2368 351.9915,-3546.1643\"/>\n<polygon fill=\"#000000\" stroke=\"#000000\" points=\"353.6251,-3543.0561 343.3034,-3540.6658 349.8816,-3548.9711 353.6251,-3543.0561\"/>\n</g>\n<!-- 140194464180352 -->\n<g id=\"node58\" class=\"node\">\n<title>140194464180352</title>\n<polygon fill=\"none\" stroke=\"#000000\" points=\"35.5,-3577.5 35.5,-3613.5 372.5,-3613.5 372.5,-3577.5 35.5,-3577.5\"/>\n<text text-anchor=\"middle\" x=\"171.5\" y=\"-3591.8\" font-family=\"Times,serif\" font-size=\"14.00\" fill=\"#000000\">Encoder-7-MultiHeadSelfAttention-Dropout</text>\n<polyline fill=\"none\" stroke=\"#000000\" points=\"307.5,-3577.5 307.5,-3613.5 \"/>\n<text text-anchor=\"middle\" x=\"340\" y=\"-3591.8\" font-family=\"Times,serif\" font-size=\"14.00\" fill=\"#000000\">Dropout</text>\n</g>\n<!-- 140194464230032&#45;&gt;140194464180352 -->\n<g id=\"edge69\" class=\"edge\">\n<title>140194464230032-&gt;140194464180352</title>\n<path fill=\"none\" stroke=\"#000000\" d=\"M200.9888,-3650.4551C201.4311,-3642.3828 201.9629,-3632.6764 202.4558,-3623.6817\"/>\n<polygon fill=\"#000000\" stroke=\"#000000\" points=\"205.9563,-3623.7669 203.0087,-3613.5904 198.9668,-3623.3839 205.9563,-3623.7669\"/>\n</g>\n<!-- 140194464180352&#45;&gt;140194463872960 -->\n<g id=\"edge71\" class=\"edge\">\n<title>140194464180352-&gt;140194463872960</title>\n<path fill=\"none\" stroke=\"#000000\" d=\"M228.2247,-3577.4551C240.7105,-3568.1545 256.1086,-3556.6844 269.602,-3546.6332\"/>\n<polygon fill=\"#000000\" stroke=\"#000000\" points=\"271.7855,-3549.371 277.7143,-3540.5904 267.6039,-3543.7573 271.7855,-3549.371\"/>\n</g>\n<!-- 140194463871856 -->\n<g id=\"node60\" class=\"node\">\n<title>140194463871856</title>\n<polygon fill=\"none\" stroke=\"#000000\" points=\"108,-3431.5 108,-3467.5 496,-3467.5 496,-3431.5 108,-3431.5\"/>\n<text text-anchor=\"middle\" x=\"236.5\" y=\"-3445.8\" font-family=\"Times,serif\" font-size=\"14.00\" fill=\"#000000\">Encoder-7-MultiHeadSelfAttention-Norm</text>\n<polyline fill=\"none\" stroke=\"#000000\" points=\"365,-3431.5 365,-3467.5 \"/>\n<text text-anchor=\"middle\" x=\"430.5\" y=\"-3445.8\" font-family=\"Times,serif\" font-size=\"14.00\" fill=\"#000000\">LayerNormalization</text>\n</g>\n<!-- 140194463872960&#45;&gt;140194463871856 -->\n<g id=\"edge72\" class=\"edge\">\n<title>140194463872960-&gt;140194463871856</title>\n<path fill=\"none\" stroke=\"#000000\" d=\"M302,-3504.4551C302,-3496.3828 302,-3486.6764 302,-3477.6817\"/>\n<polygon fill=\"#000000\" stroke=\"#000000\" points=\"305.5001,-3477.5903 302,-3467.5904 298.5001,-3477.5904 305.5001,-3477.5903\"/>\n</g>\n<!-- 140194846462448 -->\n<g id=\"node61\" class=\"node\">\n<title>140194846462448</title>\n<polygon fill=\"none\" stroke=\"#000000\" points=\"93.5,-3358.5 93.5,-3394.5 344.5,-3394.5 344.5,-3358.5 93.5,-3358.5\"/>\n<text text-anchor=\"middle\" x=\"172.5\" y=\"-3372.8\" font-family=\"Times,serif\" font-size=\"14.00\" fill=\"#000000\">Encoder-7-FeedForward</text>\n<polyline fill=\"none\" stroke=\"#000000\" points=\"251.5,-3358.5 251.5,-3394.5 \"/>\n<text text-anchor=\"middle\" x=\"298\" y=\"-3372.8\" font-family=\"Times,serif\" font-size=\"14.00\" fill=\"#000000\">FeedForward</text>\n</g>\n<!-- 140194463871856&#45;&gt;140194846462448 -->\n<g id=\"edge73\" class=\"edge\">\n<title>140194463871856-&gt;140194846462448</title>\n<path fill=\"none\" stroke=\"#000000\" d=\"M281.4831,-3431.4551C271.108,-3422.3299 258.3584,-3411.1165 247.0877,-3401.2036\"/>\n<polygon fill=\"#000000\" stroke=\"#000000\" points=\"249.3889,-3398.5665 239.5685,-3394.5904 244.7659,-3403.8228 249.3889,-3398.5665\"/>\n</g>\n<!-- 140194463896192 -->\n<g id=\"node63\" class=\"node\">\n<title>140194463896192</title>\n<polygon fill=\"none\" stroke=\"#000000\" points=\"181,-3212.5 181,-3248.5 411,-3248.5 411,-3212.5 181,-3212.5\"/>\n<text text-anchor=\"middle\" x=\"275\" y=\"-3226.8\" font-family=\"Times,serif\" font-size=\"14.00\" fill=\"#000000\">Encoder-7-FeedForward-Add</text>\n<polyline fill=\"none\" stroke=\"#000000\" points=\"369,-3212.5 369,-3248.5 \"/>\n<text text-anchor=\"middle\" x=\"390\" y=\"-3226.8\" font-family=\"Times,serif\" font-size=\"14.00\" fill=\"#000000\">Add</text>\n</g>\n<!-- 140194463871856&#45;&gt;140194463896192 -->\n<g id=\"edge75\" class=\"edge\">\n<title>140194463871856-&gt;140194463896192</title>\n<path fill=\"none\" stroke=\"#000000\" d=\"M324.7353,-3431.457C335.1909,-3421.8203 346.657,-3409.0556 353,-3395 373.1503,-3350.3484 380.5416,-3329.473 360,-3285 354.5436,-3273.1867 345.1242,-3262.9911 335.1643,-3254.7193\"/>\n<polygon fill=\"#000000\" stroke=\"#000000\" points=\"337.178,-3251.8521 327.1262,-3248.5038 332.896,-3257.3897 337.178,-3251.8521\"/>\n</g>\n<!-- 140194464820576 -->\n<g id=\"node62\" class=\"node\">\n<title>140194464820576</title>\n<polygon fill=\"none\" stroke=\"#000000\" points=\"75,-3285.5 75,-3321.5 351,-3321.5 351,-3285.5 75,-3285.5\"/>\n<text text-anchor=\"middle\" x=\"180.5\" y=\"-3299.8\" font-family=\"Times,serif\" font-size=\"14.00\" fill=\"#000000\">Encoder-7-FeedForward-Dropout</text>\n<polyline fill=\"none\" stroke=\"#000000\" points=\"286,-3285.5 286,-3321.5 \"/>\n<text text-anchor=\"middle\" x=\"318.5\" y=\"-3299.8\" font-family=\"Times,serif\" font-size=\"14.00\" fill=\"#000000\">Dropout</text>\n</g>\n<!-- 140194846462448&#45;&gt;140194464820576 -->\n<g id=\"edge74\" class=\"edge\">\n<title>140194846462448-&gt;140194464820576</title>\n<path fill=\"none\" stroke=\"#000000\" d=\"M217.5169,-3358.4551C216.8534,-3350.3828 216.0556,-3340.6764 215.3163,-3331.6817\"/>\n<polygon fill=\"#000000\" stroke=\"#000000\" points=\"218.7944,-3331.27 214.4869,-3321.5904 211.8179,-3331.8435 218.7944,-3331.27\"/>\n</g>\n<!-- 140194464820576&#45;&gt;140194463896192 -->\n<g id=\"edge76\" class=\"edge\">\n<title>140194464820576-&gt;140194463896192</title>\n<path fill=\"none\" stroke=\"#000000\" d=\"M233.5169,-3285.4551C243.892,-3276.3299 256.6416,-3265.1165 267.9123,-3255.2036\"/>\n<polygon fill=\"#000000\" stroke=\"#000000\" points=\"270.2341,-3257.8228 275.4315,-3248.5904 265.6111,-3252.5665 270.2341,-3257.8228\"/>\n</g>\n<!-- 140194846556224 -->\n<g id=\"node64\" class=\"node\">\n<title>140194846556224</title>\n<polygon fill=\"none\" stroke=\"#000000\" points=\"132.5,-3139.5 132.5,-3175.5 459.5,-3175.5 459.5,-3139.5 132.5,-3139.5\"/>\n<text text-anchor=\"middle\" x=\"230.5\" y=\"-3153.8\" font-family=\"Times,serif\" font-size=\"14.00\" fill=\"#000000\">Encoder-7-FeedForward-Norm</text>\n<polyline fill=\"none\" stroke=\"#000000\" points=\"328.5,-3139.5 328.5,-3175.5 \"/>\n<text text-anchor=\"middle\" x=\"394\" y=\"-3153.8\" font-family=\"Times,serif\" font-size=\"14.00\" fill=\"#000000\">LayerNormalization</text>\n</g>\n<!-- 140194463896192&#45;&gt;140194846556224 -->\n<g id=\"edge77\" class=\"edge\">\n<title>140194463896192-&gt;140194846556224</title>\n<path fill=\"none\" stroke=\"#000000\" d=\"M296,-3212.4551C296,-3204.3828 296,-3194.6764 296,-3185.6817\"/>\n<polygon fill=\"#000000\" stroke=\"#000000\" points=\"299.5001,-3185.5903 296,-3175.5904 292.5001,-3185.5904 299.5001,-3185.5903\"/>\n</g>\n<!-- 140194463689600 -->\n<g id=\"node65\" class=\"node\">\n<title>140194463689600</title>\n<polygon fill=\"none\" stroke=\"#000000\" points=\"18.5,-3066.5 18.5,-3102.5 369.5,-3102.5 369.5,-3066.5 18.5,-3066.5\"/>\n<text text-anchor=\"middle\" x=\"128\" y=\"-3080.8\" font-family=\"Times,serif\" font-size=\"14.00\" fill=\"#000000\">Encoder-8-MultiHeadSelfAttention</text>\n<polyline fill=\"none\" stroke=\"#000000\" points=\"237.5,-3066.5 237.5,-3102.5 \"/>\n<text text-anchor=\"middle\" x=\"303.5\" y=\"-3080.8\" font-family=\"Times,serif\" font-size=\"14.00\" fill=\"#000000\">MultiHeadAttention</text>\n</g>\n<!-- 140194846556224&#45;&gt;140194463689600 -->\n<g id=\"edge78\" class=\"edge\">\n<title>140194846556224-&gt;140194463689600</title>\n<path fill=\"none\" stroke=\"#000000\" d=\"M270.7865,-3139.4551C257.7912,-3130.1545 241.7645,-3118.6844 227.7204,-3108.6332\"/>\n<polygon fill=\"#000000\" stroke=\"#000000\" points=\"229.4459,-3105.5641 219.2769,-3102.5904 225.3719,-3111.2565 229.4459,-3105.5641\"/>\n</g>\n<!-- 140194467435616 -->\n<g id=\"node67\" class=\"node\">\n<title>140194467435616</title>\n<polygon fill=\"none\" stroke=\"#000000\" points=\"151.5,-2920.5 151.5,-2956.5 442.5,-2956.5 442.5,-2920.5 151.5,-2920.5\"/>\n<text text-anchor=\"middle\" x=\"276\" y=\"-2934.8\" font-family=\"Times,serif\" font-size=\"14.00\" fill=\"#000000\">Encoder-8-MultiHeadSelfAttention-Add</text>\n<polyline fill=\"none\" stroke=\"#000000\" points=\"400.5,-2920.5 400.5,-2956.5 \"/>\n<text text-anchor=\"middle\" x=\"421.5\" y=\"-2934.8\" font-family=\"Times,serif\" font-size=\"14.00\" fill=\"#000000\">Add</text>\n</g>\n<!-- 140194846556224&#45;&gt;140194467435616 -->\n<g id=\"edge80\" class=\"edge\">\n<title>140194846556224-&gt;140194467435616</title>\n<path fill=\"none\" stroke=\"#000000\" d=\"M340.0299,-3139.3618C355.1906,-3130.7299 370.4854,-3118.7771 379,-3103 387.1991,-3087.8075 384.9679,-3010.9111 375,-2993 368.0832,-2980.5713 356.9956,-2970.3379 345.3254,-2962.229\"/>\n<polygon fill=\"#000000\" stroke=\"#000000\" points=\"347.0734,-2959.1914 336.7759,-2956.699 343.2716,-2965.069 347.0734,-2959.1914\"/>\n</g>\n<!-- 140194463469088 -->\n<g id=\"node66\" class=\"node\">\n<title>140194463469088</title>\n<polygon fill=\"none\" stroke=\"#000000\" points=\"28.5,-2993.5 28.5,-3029.5 365.5,-3029.5 365.5,-2993.5 28.5,-2993.5\"/>\n<text text-anchor=\"middle\" x=\"164.5\" y=\"-3007.8\" font-family=\"Times,serif\" font-size=\"14.00\" fill=\"#000000\">Encoder-8-MultiHeadSelfAttention-Dropout</text>\n<polyline fill=\"none\" stroke=\"#000000\" points=\"300.5,-2993.5 300.5,-3029.5 \"/>\n<text text-anchor=\"middle\" x=\"333\" y=\"-3007.8\" font-family=\"Times,serif\" font-size=\"14.00\" fill=\"#000000\">Dropout</text>\n</g>\n<!-- 140194463689600&#45;&gt;140194463469088 -->\n<g id=\"edge79\" class=\"edge\">\n<title>140194463689600-&gt;140194463469088</title>\n<path fill=\"none\" stroke=\"#000000\" d=\"M194.7416,-3066.4551C195.0733,-3058.3828 195.4722,-3048.6764 195.8418,-3039.6817\"/>\n<polygon fill=\"#000000\" stroke=\"#000000\" points=\"199.3429,-3039.7257 196.2566,-3029.5904 192.3488,-3039.4382 199.3429,-3039.7257\"/>\n</g>\n<!-- 140194463469088&#45;&gt;140194467435616 -->\n<g id=\"edge81\" class=\"edge\">\n<title>140194463469088-&gt;140194467435616</title>\n<path fill=\"none\" stroke=\"#000000\" d=\"M221.7191,-2993.4551C234.4597,-2984.1545 250.1721,-2972.6844 263.9408,-2962.6332\"/>\n<polygon fill=\"#000000\" stroke=\"#000000\" points=\"266.2055,-2965.3134 272.2187,-2956.5904 262.0781,-2959.6596 266.2055,-2965.3134\"/>\n</g>\n<!-- 140194463405728 -->\n<g id=\"node68\" class=\"node\">\n<title>140194463405728</title>\n<polygon fill=\"none\" stroke=\"#000000\" points=\"103,-2847.5 103,-2883.5 491,-2883.5 491,-2847.5 103,-2847.5\"/>\n<text text-anchor=\"middle\" x=\"231.5\" y=\"-2861.8\" font-family=\"Times,serif\" font-size=\"14.00\" fill=\"#000000\">Encoder-8-MultiHeadSelfAttention-Norm</text>\n<polyline fill=\"none\" stroke=\"#000000\" points=\"360,-2847.5 360,-2883.5 \"/>\n<text text-anchor=\"middle\" x=\"425.5\" y=\"-2861.8\" font-family=\"Times,serif\" font-size=\"14.00\" fill=\"#000000\">LayerNormalization</text>\n</g>\n<!-- 140194467435616&#45;&gt;140194463405728 -->\n<g id=\"edge82\" class=\"edge\">\n<title>140194467435616-&gt;140194463405728</title>\n<path fill=\"none\" stroke=\"#000000\" d=\"M297,-2920.4551C297,-2912.3828 297,-2902.6764 297,-2893.6817\"/>\n<polygon fill=\"#000000\" stroke=\"#000000\" points=\"300.5001,-2893.5903 297,-2883.5904 293.5001,-2893.5904 300.5001,-2893.5903\"/>\n</g>\n<!-- 140194463690224 -->\n<g id=\"node69\" class=\"node\">\n<title>140194463690224</title>\n<polygon fill=\"none\" stroke=\"#000000\" points=\"88.5,-2774.5 88.5,-2810.5 339.5,-2810.5 339.5,-2774.5 88.5,-2774.5\"/>\n<text text-anchor=\"middle\" x=\"167.5\" y=\"-2788.8\" font-family=\"Times,serif\" font-size=\"14.00\" fill=\"#000000\">Encoder-8-FeedForward</text>\n<polyline fill=\"none\" stroke=\"#000000\" points=\"246.5,-2774.5 246.5,-2810.5 \"/>\n<text text-anchor=\"middle\" x=\"293\" y=\"-2788.8\" font-family=\"Times,serif\" font-size=\"14.00\" fill=\"#000000\">FeedForward</text>\n</g>\n<!-- 140194463405728&#45;&gt;140194463690224 -->\n<g id=\"edge83\" class=\"edge\">\n<title>140194463405728-&gt;140194463690224</title>\n<path fill=\"none\" stroke=\"#000000\" d=\"M276.4831,-2847.4551C266.108,-2838.3299 253.3584,-2827.1165 242.0877,-2817.2036\"/>\n<polygon fill=\"#000000\" stroke=\"#000000\" points=\"244.3889,-2814.5665 234.5685,-2810.5904 239.7659,-2819.8228 244.3889,-2814.5665\"/>\n</g>\n<!-- 140194463091968 -->\n<g id=\"node71\" class=\"node\">\n<title>140194463091968</title>\n<polygon fill=\"none\" stroke=\"#000000\" points=\"176,-2628.5 176,-2664.5 406,-2664.5 406,-2628.5 176,-2628.5\"/>\n<text text-anchor=\"middle\" x=\"270\" y=\"-2642.8\" font-family=\"Times,serif\" font-size=\"14.00\" fill=\"#000000\">Encoder-8-FeedForward-Add</text>\n<polyline fill=\"none\" stroke=\"#000000\" points=\"364,-2628.5 364,-2664.5 \"/>\n<text text-anchor=\"middle\" x=\"385\" y=\"-2642.8\" font-family=\"Times,serif\" font-size=\"14.00\" fill=\"#000000\">Add</text>\n</g>\n<!-- 140194463405728&#45;&gt;140194463091968 -->\n<g id=\"edge85\" class=\"edge\">\n<title>140194463405728-&gt;140194463091968</title>\n<path fill=\"none\" stroke=\"#000000\" d=\"M319.7353,-2847.457C330.1909,-2837.8203 341.657,-2825.0556 348,-2811 368.1503,-2766.3484 375.5416,-2745.473 355,-2701 349.5436,-2689.1867 340.1242,-2678.9911 330.1643,-2670.7193\"/>\n<polygon fill=\"#000000\" stroke=\"#000000\" points=\"332.178,-2667.8521 322.1262,-2664.5038 327.896,-2673.3897 332.178,-2667.8521\"/>\n</g>\n<!-- 140194467354992 -->\n<g id=\"node70\" class=\"node\">\n<title>140194467354992</title>\n<polygon fill=\"none\" stroke=\"#000000\" points=\"70,-2701.5 70,-2737.5 346,-2737.5 346,-2701.5 70,-2701.5\"/>\n<text text-anchor=\"middle\" x=\"175.5\" y=\"-2715.8\" font-family=\"Times,serif\" font-size=\"14.00\" fill=\"#000000\">Encoder-8-FeedForward-Dropout</text>\n<polyline fill=\"none\" stroke=\"#000000\" points=\"281,-2701.5 281,-2737.5 \"/>\n<text text-anchor=\"middle\" x=\"313.5\" y=\"-2715.8\" font-family=\"Times,serif\" font-size=\"14.00\" fill=\"#000000\">Dropout</text>\n</g>\n<!-- 140194463690224&#45;&gt;140194467354992 -->\n<g id=\"edge84\" class=\"edge\">\n<title>140194463690224-&gt;140194467354992</title>\n<path fill=\"none\" stroke=\"#000000\" d=\"M212.5169,-2774.4551C211.8534,-2766.3828 211.0556,-2756.6764 210.3163,-2747.6817\"/>\n<polygon fill=\"#000000\" stroke=\"#000000\" points=\"213.7944,-2747.27 209.4869,-2737.5904 206.8179,-2747.8435 213.7944,-2747.27\"/>\n</g>\n<!-- 140194467354992&#45;&gt;140194463091968 -->\n<g id=\"edge86\" class=\"edge\">\n<title>140194467354992-&gt;140194463091968</title>\n<path fill=\"none\" stroke=\"#000000\" d=\"M228.5169,-2701.4551C238.892,-2692.3299 251.6416,-2681.1165 262.9123,-2671.2036\"/>\n<polygon fill=\"#000000\" stroke=\"#000000\" points=\"265.2341,-2673.8228 270.4315,-2664.5904 260.6111,-2668.5665 265.2341,-2673.8228\"/>\n</g>\n<!-- 140194463213072 -->\n<g id=\"node72\" class=\"node\">\n<title>140194463213072</title>\n<polygon fill=\"none\" stroke=\"#000000\" points=\"127.5,-2555.5 127.5,-2591.5 454.5,-2591.5 454.5,-2555.5 127.5,-2555.5\"/>\n<text text-anchor=\"middle\" x=\"225.5\" y=\"-2569.8\" font-family=\"Times,serif\" font-size=\"14.00\" fill=\"#000000\">Encoder-8-FeedForward-Norm</text>\n<polyline fill=\"none\" stroke=\"#000000\" points=\"323.5,-2555.5 323.5,-2591.5 \"/>\n<text text-anchor=\"middle\" x=\"389\" y=\"-2569.8\" font-family=\"Times,serif\" font-size=\"14.00\" fill=\"#000000\">LayerNormalization</text>\n</g>\n<!-- 140194463091968&#45;&gt;140194463213072 -->\n<g id=\"edge87\" class=\"edge\">\n<title>140194463091968-&gt;140194463213072</title>\n<path fill=\"none\" stroke=\"#000000\" d=\"M291,-2628.4551C291,-2620.3828 291,-2610.6764 291,-2601.6817\"/>\n<polygon fill=\"#000000\" stroke=\"#000000\" points=\"294.5001,-2601.5903 291,-2591.5904 287.5001,-2601.5904 294.5001,-2601.5903\"/>\n</g>\n<!-- 140194463257024 -->\n<g id=\"node73\" class=\"node\">\n<title>140194463257024</title>\n<polygon fill=\"none\" stroke=\"#000000\" points=\"13.5,-2482.5 13.5,-2518.5 364.5,-2518.5 364.5,-2482.5 13.5,-2482.5\"/>\n<text text-anchor=\"middle\" x=\"123\" y=\"-2496.8\" font-family=\"Times,serif\" font-size=\"14.00\" fill=\"#000000\">Encoder-9-MultiHeadSelfAttention</text>\n<polyline fill=\"none\" stroke=\"#000000\" points=\"232.5,-2482.5 232.5,-2518.5 \"/>\n<text text-anchor=\"middle\" x=\"298.5\" y=\"-2496.8\" font-family=\"Times,serif\" font-size=\"14.00\" fill=\"#000000\">MultiHeadAttention</text>\n</g>\n<!-- 140194463213072&#45;&gt;140194463257024 -->\n<g id=\"edge88\" class=\"edge\">\n<title>140194463213072-&gt;140194463257024</title>\n<path fill=\"none\" stroke=\"#000000\" d=\"M265.7865,-2555.4551C252.7912,-2546.1545 236.7645,-2534.6844 222.7204,-2524.6332\"/>\n<polygon fill=\"#000000\" stroke=\"#000000\" points=\"224.4459,-2521.5641 214.2769,-2518.5904 220.3719,-2527.2565 224.4459,-2521.5641\"/>\n</g>\n<!-- 140194466391280 -->\n<g id=\"node75\" class=\"node\">\n<title>140194466391280</title>\n<polygon fill=\"none\" stroke=\"#000000\" points=\"146.5,-2336.5 146.5,-2372.5 437.5,-2372.5 437.5,-2336.5 146.5,-2336.5\"/>\n<text text-anchor=\"middle\" x=\"271\" y=\"-2350.8\" font-family=\"Times,serif\" font-size=\"14.00\" fill=\"#000000\">Encoder-9-MultiHeadSelfAttention-Add</text>\n<polyline fill=\"none\" stroke=\"#000000\" points=\"395.5,-2336.5 395.5,-2372.5 \"/>\n<text text-anchor=\"middle\" x=\"416.5\" y=\"-2350.8\" font-family=\"Times,serif\" font-size=\"14.00\" fill=\"#000000\">Add</text>\n</g>\n<!-- 140194463213072&#45;&gt;140194466391280 -->\n<g id=\"edge90\" class=\"edge\">\n<title>140194463213072-&gt;140194466391280</title>\n<path fill=\"none\" stroke=\"#000000\" d=\"M335.0299,-2555.3618C350.1906,-2546.7299 365.4854,-2534.7771 374,-2519 382.1991,-2503.8075 379.9679,-2426.9111 370,-2409 363.0832,-2396.5713 351.9956,-2386.3379 340.3254,-2378.229\"/>\n<polygon fill=\"#000000\" stroke=\"#000000\" points=\"342.0734,-2375.1914 331.7759,-2372.699 338.2716,-2381.069 342.0734,-2375.1914\"/>\n</g>\n<!-- 140194463259904 -->\n<g id=\"node74\" class=\"node\">\n<title>140194463259904</title>\n<polygon fill=\"none\" stroke=\"#000000\" points=\"23.5,-2409.5 23.5,-2445.5 360.5,-2445.5 360.5,-2409.5 23.5,-2409.5\"/>\n<text text-anchor=\"middle\" x=\"159.5\" y=\"-2423.8\" font-family=\"Times,serif\" font-size=\"14.00\" fill=\"#000000\">Encoder-9-MultiHeadSelfAttention-Dropout</text>\n<polyline fill=\"none\" stroke=\"#000000\" points=\"295.5,-2409.5 295.5,-2445.5 \"/>\n<text text-anchor=\"middle\" x=\"328\" y=\"-2423.8\" font-family=\"Times,serif\" font-size=\"14.00\" fill=\"#000000\">Dropout</text>\n</g>\n<!-- 140194463257024&#45;&gt;140194463259904 -->\n<g id=\"edge89\" class=\"edge\">\n<title>140194463257024-&gt;140194463259904</title>\n<path fill=\"none\" stroke=\"#000000\" d=\"M189.7416,-2482.4551C190.0733,-2474.3828 190.4722,-2464.6764 190.8418,-2455.6817\"/>\n<polygon fill=\"#000000\" stroke=\"#000000\" points=\"194.3429,-2455.7257 191.2566,-2445.5904 187.3488,-2455.4382 194.3429,-2455.7257\"/>\n</g>\n<!-- 140194463259904&#45;&gt;140194466391280 -->\n<g id=\"edge91\" class=\"edge\">\n<title>140194463259904-&gt;140194466391280</title>\n<path fill=\"none\" stroke=\"#000000\" d=\"M216.7191,-2409.4551C229.4597,-2400.1545 245.1721,-2388.6844 258.9408,-2378.6332\"/>\n<polygon fill=\"#000000\" stroke=\"#000000\" points=\"261.2055,-2381.3134 267.2187,-2372.5904 257.0781,-2375.6596 261.2055,-2381.3134\"/>\n</g>\n<!-- 140194462815184 -->\n<g id=\"node76\" class=\"node\">\n<title>140194462815184</title>\n<polygon fill=\"none\" stroke=\"#000000\" points=\"98,-2263.5 98,-2299.5 486,-2299.5 486,-2263.5 98,-2263.5\"/>\n<text text-anchor=\"middle\" x=\"226.5\" y=\"-2277.8\" font-family=\"Times,serif\" font-size=\"14.00\" fill=\"#000000\">Encoder-9-MultiHeadSelfAttention-Norm</text>\n<polyline fill=\"none\" stroke=\"#000000\" points=\"355,-2263.5 355,-2299.5 \"/>\n<text text-anchor=\"middle\" x=\"420.5\" y=\"-2277.8\" font-family=\"Times,serif\" font-size=\"14.00\" fill=\"#000000\">LayerNormalization</text>\n</g>\n<!-- 140194466391280&#45;&gt;140194462815184 -->\n<g id=\"edge92\" class=\"edge\">\n<title>140194466391280-&gt;140194462815184</title>\n<path fill=\"none\" stroke=\"#000000\" d=\"M292,-2336.4551C292,-2328.3828 292,-2318.6764 292,-2309.6817\"/>\n<polygon fill=\"#000000\" stroke=\"#000000\" points=\"295.5001,-2309.5903 292,-2299.5904 288.5001,-2309.5904 295.5001,-2309.5903\"/>\n</g>\n<!-- 140194463779568 -->\n<g id=\"node77\" class=\"node\">\n<title>140194463779568</title>\n<polygon fill=\"none\" stroke=\"#000000\" points=\"83.5,-2190.5 83.5,-2226.5 334.5,-2226.5 334.5,-2190.5 83.5,-2190.5\"/>\n<text text-anchor=\"middle\" x=\"162.5\" y=\"-2204.8\" font-family=\"Times,serif\" font-size=\"14.00\" fill=\"#000000\">Encoder-9-FeedForward</text>\n<polyline fill=\"none\" stroke=\"#000000\" points=\"241.5,-2190.5 241.5,-2226.5 \"/>\n<text text-anchor=\"middle\" x=\"288\" y=\"-2204.8\" font-family=\"Times,serif\" font-size=\"14.00\" fill=\"#000000\">FeedForward</text>\n</g>\n<!-- 140194462815184&#45;&gt;140194463779568 -->\n<g id=\"edge93\" class=\"edge\">\n<title>140194462815184-&gt;140194463779568</title>\n<path fill=\"none\" stroke=\"#000000\" d=\"M271.4831,-2263.4551C261.108,-2254.3299 248.3584,-2243.1165 237.0877,-2233.2036\"/>\n<polygon fill=\"#000000\" stroke=\"#000000\" points=\"239.3889,-2230.5665 229.5685,-2226.5904 234.7659,-2235.8228 239.3889,-2230.5665\"/>\n</g>\n<!-- 140194462924128 -->\n<g id=\"node79\" class=\"node\">\n<title>140194462924128</title>\n<polygon fill=\"none\" stroke=\"#000000\" points=\"171,-2044.5 171,-2080.5 401,-2080.5 401,-2044.5 171,-2044.5\"/>\n<text text-anchor=\"middle\" x=\"265\" y=\"-2058.8\" font-family=\"Times,serif\" font-size=\"14.00\" fill=\"#000000\">Encoder-9-FeedForward-Add</text>\n<polyline fill=\"none\" stroke=\"#000000\" points=\"359,-2044.5 359,-2080.5 \"/>\n<text text-anchor=\"middle\" x=\"380\" y=\"-2058.8\" font-family=\"Times,serif\" font-size=\"14.00\" fill=\"#000000\">Add</text>\n</g>\n<!-- 140194462815184&#45;&gt;140194462924128 -->\n<g id=\"edge95\" class=\"edge\">\n<title>140194462815184-&gt;140194462924128</title>\n<path fill=\"none\" stroke=\"#000000\" d=\"M314.7353,-2263.457C325.1909,-2253.8203 336.657,-2241.0556 343,-2227 363.1503,-2182.3484 370.5416,-2161.473 350,-2117 344.5436,-2105.1867 335.1242,-2094.9911 325.1643,-2086.7193\"/>\n<polygon fill=\"#000000\" stroke=\"#000000\" points=\"327.178,-2083.8521 317.1262,-2080.5038 322.896,-2089.3897 327.178,-2083.8521\"/>\n</g>\n<!-- 140194463092400 -->\n<g id=\"node78\" class=\"node\">\n<title>140194463092400</title>\n<polygon fill=\"none\" stroke=\"#000000\" points=\"65,-2117.5 65,-2153.5 341,-2153.5 341,-2117.5 65,-2117.5\"/>\n<text text-anchor=\"middle\" x=\"170.5\" y=\"-2131.8\" font-family=\"Times,serif\" font-size=\"14.00\" fill=\"#000000\">Encoder-9-FeedForward-Dropout</text>\n<polyline fill=\"none\" stroke=\"#000000\" points=\"276,-2117.5 276,-2153.5 \"/>\n<text text-anchor=\"middle\" x=\"308.5\" y=\"-2131.8\" font-family=\"Times,serif\" font-size=\"14.00\" fill=\"#000000\">Dropout</text>\n</g>\n<!-- 140194463779568&#45;&gt;140194463092400 -->\n<g id=\"edge94\" class=\"edge\">\n<title>140194463779568-&gt;140194463092400</title>\n<path fill=\"none\" stroke=\"#000000\" d=\"M207.5169,-2190.4551C206.8534,-2182.3828 206.0556,-2172.6764 205.3163,-2163.6817\"/>\n<polygon fill=\"#000000\" stroke=\"#000000\" points=\"208.7944,-2163.27 204.4869,-2153.5904 201.8179,-2163.8435 208.7944,-2163.27\"/>\n</g>\n<!-- 140194463092400&#45;&gt;140194462924128 -->\n<g id=\"edge96\" class=\"edge\">\n<title>140194463092400-&gt;140194462924128</title>\n<path fill=\"none\" stroke=\"#000000\" d=\"M223.5169,-2117.4551C233.892,-2108.3299 246.6416,-2097.1165 257.9123,-2087.2036\"/>\n<polygon fill=\"#000000\" stroke=\"#000000\" points=\"260.2341,-2089.8228 265.4315,-2080.5904 255.6111,-2084.5665 260.2341,-2089.8228\"/>\n</g>\n<!-- 140194463056512 -->\n<g id=\"node80\" class=\"node\">\n<title>140194463056512</title>\n<polygon fill=\"none\" stroke=\"#000000\" points=\"122.5,-1971.5 122.5,-2007.5 449.5,-2007.5 449.5,-1971.5 122.5,-1971.5\"/>\n<text text-anchor=\"middle\" x=\"220.5\" y=\"-1985.8\" font-family=\"Times,serif\" font-size=\"14.00\" fill=\"#000000\">Encoder-9-FeedForward-Norm</text>\n<polyline fill=\"none\" stroke=\"#000000\" points=\"318.5,-1971.5 318.5,-2007.5 \"/>\n<text text-anchor=\"middle\" x=\"384\" y=\"-1985.8\" font-family=\"Times,serif\" font-size=\"14.00\" fill=\"#000000\">LayerNormalization</text>\n</g>\n<!-- 140194462924128&#45;&gt;140194463056512 -->\n<g id=\"edge97\" class=\"edge\">\n<title>140194462924128-&gt;140194463056512</title>\n<path fill=\"none\" stroke=\"#000000\" d=\"M286,-2044.4551C286,-2036.3828 286,-2026.6764 286,-2017.6817\"/>\n<polygon fill=\"#000000\" stroke=\"#000000\" points=\"289.5001,-2017.5903 286,-2007.5904 282.5001,-2017.5904 289.5001,-2017.5903\"/>\n</g>\n<!-- 140194462660304 -->\n<g id=\"node81\" class=\"node\">\n<title>140194462660304</title>\n<polygon fill=\"none\" stroke=\"#000000\" points=\"2.5,-1898.5 2.5,-1934.5 361.5,-1934.5 361.5,-1898.5 2.5,-1898.5\"/>\n<text text-anchor=\"middle\" x=\"116\" y=\"-1912.8\" font-family=\"Times,serif\" font-size=\"14.00\" fill=\"#000000\">Encoder-10-MultiHeadSelfAttention</text>\n<polyline fill=\"none\" stroke=\"#000000\" points=\"229.5,-1898.5 229.5,-1934.5 \"/>\n<text text-anchor=\"middle\" x=\"295.5\" y=\"-1912.8\" font-family=\"Times,serif\" font-size=\"14.00\" fill=\"#000000\">MultiHeadAttention</text>\n</g>\n<!-- 140194463056512&#45;&gt;140194462660304 -->\n<g id=\"edge98\" class=\"edge\">\n<title>140194463056512-&gt;140194462660304</title>\n<path fill=\"none\" stroke=\"#000000\" d=\"M260.2921,-1971.4551C246.917,-1962.0667 230.3925,-1950.4678 215.9768,-1940.3491\"/>\n<polygon fill=\"#000000\" stroke=\"#000000\" points=\"217.9683,-1937.4709 207.7726,-1934.5904 213.9467,-1943.2003 217.9683,-1937.4709\"/>\n</g>\n<!-- 140194462601120 -->\n<g id=\"node83\" class=\"node\">\n<title>140194462601120</title>\n<polygon fill=\"none\" stroke=\"#000000\" points=\"138.5,-1752.5 138.5,-1788.5 437.5,-1788.5 437.5,-1752.5 138.5,-1752.5\"/>\n<text text-anchor=\"middle\" x=\"267\" y=\"-1766.8\" font-family=\"Times,serif\" font-size=\"14.00\" fill=\"#000000\">Encoder-10-MultiHeadSelfAttention-Add</text>\n<polyline fill=\"none\" stroke=\"#000000\" points=\"395.5,-1752.5 395.5,-1788.5 \"/>\n<text text-anchor=\"middle\" x=\"416.5\" y=\"-1766.8\" font-family=\"Times,serif\" font-size=\"14.00\" fill=\"#000000\">Add</text>\n</g>\n<!-- 140194463056512&#45;&gt;140194462601120 -->\n<g id=\"edge100\" class=\"edge\">\n<title>140194463056512-&gt;140194462601120</title>\n<path fill=\"none\" stroke=\"#000000\" d=\"M331.5114,-1971.3446C346.887,-1962.7593 362.3385,-1950.8425 371,-1935 379.2708,-1919.8721 377.1095,-1843.0386 367,-1825 359.9861,-1812.4849 348.7537,-1802.2232 336.9338,-1794.1149\"/>\n<polygon fill=\"#000000\" stroke=\"#000000\" points=\"338.588,-1791.0185 328.2752,-1788.5899 334.8226,-1796.9196 338.588,-1791.0185\"/>\n</g>\n<!-- 140194462561376 -->\n<g id=\"node82\" class=\"node\">\n<title>140194462561376</title>\n<polygon fill=\"none\" stroke=\"#000000\" points=\"13.5,-1825.5 13.5,-1861.5 358.5,-1861.5 358.5,-1825.5 13.5,-1825.5\"/>\n<text text-anchor=\"middle\" x=\"153.5\" y=\"-1839.8\" font-family=\"Times,serif\" font-size=\"14.00\" fill=\"#000000\">Encoder-10-MultiHeadSelfAttention-Dropout</text>\n<polyline fill=\"none\" stroke=\"#000000\" points=\"293.5,-1825.5 293.5,-1861.5 \"/>\n<text text-anchor=\"middle\" x=\"326\" y=\"-1839.8\" font-family=\"Times,serif\" font-size=\"14.00\" fill=\"#000000\">Dropout</text>\n</g>\n<!-- 140194462660304&#45;&gt;140194462561376 -->\n<g id=\"edge99\" class=\"edge\">\n<title>140194462660304-&gt;140194462561376</title>\n<path fill=\"none\" stroke=\"#000000\" d=\"M182.9888,-1898.4551C183.4311,-1890.3828 183.9629,-1880.6764 184.4558,-1871.6817\"/>\n<polygon fill=\"#000000\" stroke=\"#000000\" points=\"187.9563,-1871.7669 185.0087,-1861.5904 180.9668,-1871.3839 187.9563,-1871.7669\"/>\n</g>\n<!-- 140194462561376&#45;&gt;140194462601120 -->\n<g id=\"edge101\" class=\"edge\">\n<title>140194462561376-&gt;140194462601120</title>\n<path fill=\"none\" stroke=\"#000000\" d=\"M211.2135,-1825.4551C224.2088,-1816.1545 240.2355,-1804.6844 254.2796,-1794.6332\"/>\n<polygon fill=\"#000000\" stroke=\"#000000\" points=\"256.6281,-1797.2565 262.7231,-1788.5904 252.5541,-1791.5641 256.6281,-1797.2565\"/>\n</g>\n<!-- 140194462659920 -->\n<g id=\"node84\" class=\"node\">\n<title>140194462659920</title>\n<polygon fill=\"none\" stroke=\"#000000\" points=\"90,-1679.5 90,-1715.5 486,-1715.5 486,-1679.5 90,-1679.5\"/>\n<text text-anchor=\"middle\" x=\"222.5\" y=\"-1693.8\" font-family=\"Times,serif\" font-size=\"14.00\" fill=\"#000000\">Encoder-10-MultiHeadSelfAttention-Norm</text>\n<polyline fill=\"none\" stroke=\"#000000\" points=\"355,-1679.5 355,-1715.5 \"/>\n<text text-anchor=\"middle\" x=\"420.5\" y=\"-1693.8\" font-family=\"Times,serif\" font-size=\"14.00\" fill=\"#000000\">LayerNormalization</text>\n</g>\n<!-- 140194462601120&#45;&gt;140194462659920 -->\n<g id=\"edge102\" class=\"edge\">\n<title>140194462601120-&gt;140194462659920</title>\n<path fill=\"none\" stroke=\"#000000\" d=\"M288,-1752.4551C288,-1744.3828 288,-1734.6764 288,-1725.6817\"/>\n<polygon fill=\"#000000\" stroke=\"#000000\" points=\"291.5001,-1725.5903 288,-1715.5904 284.5001,-1725.5904 291.5001,-1725.5903\"/>\n</g>\n<!-- 140194462178704 -->\n<g id=\"node85\" class=\"node\">\n<title>140194462178704</title>\n<polygon fill=\"none\" stroke=\"#000000\" points=\"74,-1606.5 74,-1642.5 332,-1642.5 332,-1606.5 74,-1606.5\"/>\n<text text-anchor=\"middle\" x=\"156.5\" y=\"-1620.8\" font-family=\"Times,serif\" font-size=\"14.00\" fill=\"#000000\">Encoder-10-FeedForward</text>\n<polyline fill=\"none\" stroke=\"#000000\" points=\"239,-1606.5 239,-1642.5 \"/>\n<text text-anchor=\"middle\" x=\"285.5\" y=\"-1620.8\" font-family=\"Times,serif\" font-size=\"14.00\" fill=\"#000000\">FeedForward</text>\n</g>\n<!-- 140194462659920&#45;&gt;140194462178704 -->\n<g id=\"edge103\" class=\"edge\">\n<title>140194462659920-&gt;140194462178704</title>\n<path fill=\"none\" stroke=\"#000000\" d=\"M266.9888,-1679.4551C256.3636,-1670.3299 243.3068,-1659.1165 231.7645,-1649.2036\"/>\n<polygon fill=\"#000000\" stroke=\"#000000\" points=\"233.9308,-1646.4505 224.0641,-1642.5904 229.3701,-1651.7609 233.9308,-1646.4505\"/>\n</g>\n<!-- 140194462816048 -->\n<g id=\"node87\" class=\"node\">\n<title>140194462816048</title>\n<polygon fill=\"none\" stroke=\"#000000\" points=\"163.5,-1460.5 163.5,-1496.5 400.5,-1496.5 400.5,-1460.5 163.5,-1460.5\"/>\n<text text-anchor=\"middle\" x=\"261\" y=\"-1474.8\" font-family=\"Times,serif\" font-size=\"14.00\" fill=\"#000000\">Encoder-10-FeedForward-Add</text>\n<polyline fill=\"none\" stroke=\"#000000\" points=\"358.5,-1460.5 358.5,-1496.5 \"/>\n<text text-anchor=\"middle\" x=\"379.5\" y=\"-1474.8\" font-family=\"Times,serif\" font-size=\"14.00\" fill=\"#000000\">Add</text>\n</g>\n<!-- 140194462659920&#45;&gt;140194462816048 -->\n<g id=\"edge105\" class=\"edge\">\n<title>140194462659920-&gt;140194462816048</title>\n<path fill=\"none\" stroke=\"#000000\" d=\"M311.896,-1679.3839C322.6863,-1669.8165 334.4579,-1657.1331 341,-1643 361.5783,-1598.544 368.8779,-1577.3161 348,-1533 342.4031,-1521.1199 332.805,-1510.9472 322.6353,-1502.7189\"/>\n<polygon fill=\"#000000\" stroke=\"#000000\" points=\"324.5179,-1499.7554 314.4224,-1496.5413 320.3101,-1505.3495 324.5179,-1499.7554\"/>\n</g>\n<!-- 140194462600304 -->\n<g id=\"node86\" class=\"node\">\n<title>140194462600304</title>\n<polygon fill=\"none\" stroke=\"#000000\" points=\"55.5,-1533.5 55.5,-1569.5 338.5,-1569.5 338.5,-1533.5 55.5,-1533.5\"/>\n<text text-anchor=\"middle\" x=\"164.5\" y=\"-1547.8\" font-family=\"Times,serif\" font-size=\"14.00\" fill=\"#000000\">Encoder-10-FeedForward-Dropout</text>\n<polyline fill=\"none\" stroke=\"#000000\" points=\"273.5,-1533.5 273.5,-1569.5 \"/>\n<text text-anchor=\"middle\" x=\"306\" y=\"-1547.8\" font-family=\"Times,serif\" font-size=\"14.00\" fill=\"#000000\">Dropout</text>\n</g>\n<!-- 140194462178704&#45;&gt;140194462600304 -->\n<g id=\"edge104\" class=\"edge\">\n<title>140194462178704-&gt;140194462600304</title>\n<path fill=\"none\" stroke=\"#000000\" d=\"M201.5169,-1606.4551C200.8534,-1598.3828 200.0556,-1588.6764 199.3163,-1579.6817\"/>\n<polygon fill=\"#000000\" stroke=\"#000000\" points=\"202.7944,-1579.27 198.4869,-1569.5904 195.8179,-1579.8435 202.7944,-1579.27\"/>\n</g>\n<!-- 140194462600304&#45;&gt;140194462816048 -->\n<g id=\"edge106\" class=\"edge\">\n<title>140194462600304-&gt;140194462816048</title>\n<path fill=\"none\" stroke=\"#000000\" d=\"M218.0112,-1533.4551C228.6364,-1524.3299 241.6932,-1513.1165 253.2355,-1503.2036\"/>\n<polygon fill=\"#000000\" stroke=\"#000000\" points=\"255.6299,-1505.7609 260.9359,-1496.5904 251.0692,-1500.4505 255.6299,-1505.7609\"/>\n</g>\n<!-- 140194846519600 -->\n<g id=\"node88\" class=\"node\">\n<title>140194846519600</title>\n<polygon fill=\"none\" stroke=\"#000000\" points=\"115,-1387.5 115,-1423.5 449,-1423.5 449,-1387.5 115,-1387.5\"/>\n<text text-anchor=\"middle\" x=\"216.5\" y=\"-1401.8\" font-family=\"Times,serif\" font-size=\"14.00\" fill=\"#000000\">Encoder-10-FeedForward-Norm</text>\n<polyline fill=\"none\" stroke=\"#000000\" points=\"318,-1387.5 318,-1423.5 \"/>\n<text text-anchor=\"middle\" x=\"383.5\" y=\"-1401.8\" font-family=\"Times,serif\" font-size=\"14.00\" fill=\"#000000\">LayerNormalization</text>\n</g>\n<!-- 140194462816048&#45;&gt;140194846519600 -->\n<g id=\"edge107\" class=\"edge\">\n<title>140194462816048-&gt;140194846519600</title>\n<path fill=\"none\" stroke=\"#000000\" d=\"M282,-1460.4551C282,-1452.3828 282,-1442.6764 282,-1433.6817\"/>\n<polygon fill=\"#000000\" stroke=\"#000000\" points=\"285.5001,-1433.5903 282,-1423.5904 278.5001,-1433.5904 285.5001,-1433.5903\"/>\n</g>\n<!-- 140194462221408 -->\n<g id=\"node89\" class=\"node\">\n<title>140194462221408</title>\n<polygon fill=\"none\" stroke=\"#000000\" points=\"0,-1314.5 0,-1350.5 358,-1350.5 358,-1314.5 0,-1314.5\"/>\n<text text-anchor=\"middle\" x=\"113\" y=\"-1328.8\" font-family=\"Times,serif\" font-size=\"14.00\" fill=\"#000000\">Encoder-11-MultiHeadSelfAttention</text>\n<polyline fill=\"none\" stroke=\"#000000\" points=\"226,-1314.5 226,-1350.5 \"/>\n<text text-anchor=\"middle\" x=\"292\" y=\"-1328.8\" font-family=\"Times,serif\" font-size=\"14.00\" fill=\"#000000\">MultiHeadAttention</text>\n</g>\n<!-- 140194846519600&#45;&gt;140194462221408 -->\n<g id=\"edge108\" class=\"edge\">\n<title>140194846519600-&gt;140194462221408</title>\n<path fill=\"none\" stroke=\"#000000\" d=\"M256.5393,-1387.4551C243.4166,-1378.1545 227.2328,-1366.6844 213.051,-1356.6332\"/>\n<polygon fill=\"#000000\" stroke=\"#000000\" points=\"214.7073,-1353.5172 204.5248,-1350.5904 210.6596,-1359.2283 214.7073,-1353.5172\"/>\n</g>\n<!-- 140194467929392 -->\n<g id=\"node91\" class=\"node\">\n<title>140194467929392</title>\n<polygon fill=\"none\" stroke=\"#000000\" points=\"135,-1168.5 135,-1204.5 433,-1204.5 433,-1168.5 135,-1168.5\"/>\n<text text-anchor=\"middle\" x=\"263\" y=\"-1182.8\" font-family=\"Times,serif\" font-size=\"14.00\" fill=\"#000000\">Encoder-11-MultiHeadSelfAttention-Add</text>\n<polyline fill=\"none\" stroke=\"#000000\" points=\"391,-1168.5 391,-1204.5 \"/>\n<text text-anchor=\"middle\" x=\"412\" y=\"-1182.8\" font-family=\"Times,serif\" font-size=\"14.00\" fill=\"#000000\">Add</text>\n</g>\n<!-- 140194846519600&#45;&gt;140194467929392 -->\n<g id=\"edge110\" class=\"edge\">\n<title>140194846519600-&gt;140194467929392</title>\n<path fill=\"none\" stroke=\"#000000\" d=\"M327.5114,-1387.3446C342.887,-1378.7593 358.3385,-1366.8425 367,-1351 375.2708,-1335.8721 373.1095,-1259.0386 363,-1241 355.9861,-1228.4849 344.7537,-1218.2232 332.9338,-1210.1149\"/>\n<polygon fill=\"#000000\" stroke=\"#000000\" points=\"334.588,-1207.0185 324.2752,-1204.5899 330.8226,-1212.9196 334.588,-1207.0185\"/>\n</g>\n<!-- 140194465967456 -->\n<g id=\"node90\" class=\"node\">\n<title>140194465967456</title>\n<polygon fill=\"none\" stroke=\"#000000\" points=\"10,-1241.5 10,-1277.5 354,-1277.5 354,-1241.5 10,-1241.5\"/>\n<text text-anchor=\"middle\" x=\"149.5\" y=\"-1255.8\" font-family=\"Times,serif\" font-size=\"14.00\" fill=\"#000000\">Encoder-11-MultiHeadSelfAttention-Dropout</text>\n<polyline fill=\"none\" stroke=\"#000000\" points=\"289,-1241.5 289,-1277.5 \"/>\n<text text-anchor=\"middle\" x=\"321.5\" y=\"-1255.8\" font-family=\"Times,serif\" font-size=\"14.00\" fill=\"#000000\">Dropout</text>\n</g>\n<!-- 140194462221408&#45;&gt;140194465967456 -->\n<g id=\"edge109\" class=\"edge\">\n<title>140194462221408-&gt;140194465967456</title>\n<path fill=\"none\" stroke=\"#000000\" d=\"M179.7416,-1314.4551C180.0733,-1306.3828 180.4722,-1296.6764 180.8418,-1287.6817\"/>\n<polygon fill=\"#000000\" stroke=\"#000000\" points=\"184.3429,-1287.7257 181.2566,-1277.5904 177.3488,-1287.4382 184.3429,-1287.7257\"/>\n</g>\n<!-- 140194465967456&#45;&gt;140194467929392 -->\n<g id=\"edge111\" class=\"edge\">\n<title>140194465967456-&gt;140194467929392</title>\n<path fill=\"none\" stroke=\"#000000\" d=\"M207.2135,-1241.4551C220.2088,-1232.1545 236.2355,-1220.6844 250.2796,-1210.6332\"/>\n<polygon fill=\"#000000\" stroke=\"#000000\" points=\"252.6281,-1213.2565 258.7231,-1204.5904 248.5541,-1207.5641 252.6281,-1213.2565\"/>\n</g>\n<!-- 140194466355952 -->\n<g id=\"node92\" class=\"node\">\n<title>140194466355952</title>\n<polygon fill=\"none\" stroke=\"#000000\" points=\"86.5,-1095.5 86.5,-1131.5 481.5,-1131.5 481.5,-1095.5 86.5,-1095.5\"/>\n<text text-anchor=\"middle\" x=\"218.5\" y=\"-1109.8\" font-family=\"Times,serif\" font-size=\"14.00\" fill=\"#000000\">Encoder-11-MultiHeadSelfAttention-Norm</text>\n<polyline fill=\"none\" stroke=\"#000000\" points=\"350.5,-1095.5 350.5,-1131.5 \"/>\n<text text-anchor=\"middle\" x=\"416\" y=\"-1109.8\" font-family=\"Times,serif\" font-size=\"14.00\" fill=\"#000000\">LayerNormalization</text>\n</g>\n<!-- 140194467929392&#45;&gt;140194466355952 -->\n<g id=\"edge112\" class=\"edge\">\n<title>140194467929392-&gt;140194466355952</title>\n<path fill=\"none\" stroke=\"#000000\" d=\"M284,-1168.4551C284,-1160.3828 284,-1150.6764 284,-1141.6817\"/>\n<polygon fill=\"#000000\" stroke=\"#000000\" points=\"287.5001,-1141.5903 284,-1131.5904 280.5001,-1141.5904 287.5001,-1141.5903\"/>\n</g>\n<!-- 140194467588224 -->\n<g id=\"node93\" class=\"node\">\n<title>140194467588224</title>\n<polygon fill=\"none\" stroke=\"#000000\" points=\"77.5,-1022.5 77.5,-1058.5 334.5,-1058.5 334.5,-1022.5 77.5,-1022.5\"/>\n<text text-anchor=\"middle\" x=\"159.5\" y=\"-1036.8\" font-family=\"Times,serif\" font-size=\"14.00\" fill=\"#000000\">Encoder-11-FeedForward</text>\n<polyline fill=\"none\" stroke=\"#000000\" points=\"241.5,-1022.5 241.5,-1058.5 \"/>\n<text text-anchor=\"middle\" x=\"288\" y=\"-1036.8\" font-family=\"Times,serif\" font-size=\"14.00\" fill=\"#000000\">FeedForward</text>\n</g>\n<!-- 140194466355952&#45;&gt;140194467588224 -->\n<g id=\"edge113\" class=\"edge\">\n<title>140194466355952-&gt;140194467588224</title>\n<path fill=\"none\" stroke=\"#000000\" d=\"M264.7191,-1095.4551C255.0627,-1086.4177 243.2176,-1075.3319 232.7016,-1065.4899\"/>\n<polygon fill=\"#000000\" stroke=\"#000000\" points=\"235.0223,-1062.8681 225.3294,-1058.5904 230.239,-1067.979 235.0223,-1062.8681\"/>\n</g>\n<!-- 140194467403520 -->\n<g id=\"node95\" class=\"node\">\n<title>140194467403520</title>\n<polygon fill=\"none\" stroke=\"#000000\" points=\"166,-876.5 166,-912.5 402,-912.5 402,-876.5 166,-876.5\"/>\n<text text-anchor=\"middle\" x=\"263\" y=\"-890.8\" font-family=\"Times,serif\" font-size=\"14.00\" fill=\"#000000\">Encoder-11-FeedForward-Add</text>\n<polyline fill=\"none\" stroke=\"#000000\" points=\"360,-876.5 360,-912.5 \"/>\n<text text-anchor=\"middle\" x=\"381\" y=\"-890.8\" font-family=\"Times,serif\" font-size=\"14.00\" fill=\"#000000\">Add</text>\n</g>\n<!-- 140194466355952&#45;&gt;140194467403520 -->\n<g id=\"edge115\" class=\"edge\">\n<title>140194466355952-&gt;140194467403520</title>\n<path fill=\"none\" stroke=\"#000000\" d=\"M312.0464,-1095.325C324.0147,-1085.9899 336.8488,-1073.5175 344,-1059 365.6355,-1015.078 370.8667,-993.2924 350,-949 344.4031,-937.1199 334.805,-926.9472 324.6353,-918.7189\"/>\n<polygon fill=\"#000000\" stroke=\"#000000\" points=\"326.5179,-915.7554 316.4224,-912.5413 322.3101,-921.3495 326.5179,-915.7554\"/>\n</g>\n<!-- 140194846574528 -->\n<g id=\"node94\" class=\"node\">\n<title>140194846574528</title>\n<polygon fill=\"none\" stroke=\"#000000\" points=\"57.5,-949.5 57.5,-985.5 340.5,-985.5 340.5,-949.5 57.5,-949.5\"/>\n<text text-anchor=\"middle\" x=\"166.5\" y=\"-963.8\" font-family=\"Times,serif\" font-size=\"14.00\" fill=\"#000000\">Encoder-11-FeedForward-Dropout</text>\n<polyline fill=\"none\" stroke=\"#000000\" points=\"275.5,-949.5 275.5,-985.5 \"/>\n<text text-anchor=\"middle\" x=\"308\" y=\"-963.8\" font-family=\"Times,serif\" font-size=\"14.00\" fill=\"#000000\">Dropout</text>\n</g>\n<!-- 140194467588224&#45;&gt;140194846574528 -->\n<g id=\"edge114\" class=\"edge\">\n<title>140194467588224-&gt;140194846574528</title>\n<path fill=\"none\" stroke=\"#000000\" d=\"M204.2697,-1022.4551C203.4956,-1014.3828 202.5649,-1004.6764 201.7024,-995.6817\"/>\n<polygon fill=\"#000000\" stroke=\"#000000\" points=\"205.1733,-995.2106 200.7347,-985.5904 198.2053,-995.8788 205.1733,-995.2106\"/>\n</g>\n<!-- 140194846574528&#45;&gt;140194467403520 -->\n<g id=\"edge116\" class=\"edge\">\n<title>140194846574528-&gt;140194467403520</title>\n<path fill=\"none\" stroke=\"#000000\" d=\"M220.0112,-949.4551C230.6364,-940.3299 243.6932,-929.1165 255.2355,-919.2036\"/>\n<polygon fill=\"#000000\" stroke=\"#000000\" points=\"257.6299,-921.7609 262.9359,-912.5904 253.0692,-916.4505 257.6299,-921.7609\"/>\n</g>\n<!-- 140194466439072 -->\n<g id=\"node96\" class=\"node\">\n<title>140194466439072</title>\n<polygon fill=\"none\" stroke=\"#000000\" points=\"117,-803.5 117,-839.5 451,-839.5 451,-803.5 117,-803.5\"/>\n<text text-anchor=\"middle\" x=\"218.5\" y=\"-817.8\" font-family=\"Times,serif\" font-size=\"14.00\" fill=\"#000000\">Encoder-11-FeedForward-Norm</text>\n<polyline fill=\"none\" stroke=\"#000000\" points=\"320,-803.5 320,-839.5 \"/>\n<text text-anchor=\"middle\" x=\"385.5\" y=\"-817.8\" font-family=\"Times,serif\" font-size=\"14.00\" fill=\"#000000\">LayerNormalization</text>\n</g>\n<!-- 140194467403520&#45;&gt;140194466439072 -->\n<g id=\"edge117\" class=\"edge\">\n<title>140194467403520-&gt;140194466439072</title>\n<path fill=\"none\" stroke=\"#000000\" d=\"M284,-876.4551C284,-868.3828 284,-858.6764 284,-849.6817\"/>\n<polygon fill=\"#000000\" stroke=\"#000000\" points=\"287.5001,-849.5903 284,-839.5904 280.5001,-849.5904 287.5001,-849.5903\"/>\n</g>\n<!-- 140194846560208 -->\n<g id=\"node97\" class=\"node\">\n<title>140194846560208</title>\n<polygon fill=\"none\" stroke=\"#000000\" points=\".5,-730.5 .5,-766.5 359.5,-766.5 359.5,-730.5 .5,-730.5\"/>\n<text text-anchor=\"middle\" x=\"114\" y=\"-744.8\" font-family=\"Times,serif\" font-size=\"14.00\" fill=\"#000000\">Encoder-12-MultiHeadSelfAttention</text>\n<polyline fill=\"none\" stroke=\"#000000\" points=\"227.5,-730.5 227.5,-766.5 \"/>\n<text text-anchor=\"middle\" x=\"293.5\" y=\"-744.8\" font-family=\"Times,serif\" font-size=\"14.00\" fill=\"#000000\">MultiHeadAttention</text>\n</g>\n<!-- 140194466439072&#45;&gt;140194846560208 -->\n<g id=\"edge118\" class=\"edge\">\n<title>140194466439072-&gt;140194846560208</title>\n<path fill=\"none\" stroke=\"#000000\" d=\"M258.2921,-803.4551C244.917,-794.0667 228.3925,-782.4678 213.9768,-772.3491\"/>\n<polygon fill=\"#000000\" stroke=\"#000000\" points=\"215.9683,-769.4709 205.7726,-766.5904 211.9467,-775.2003 215.9683,-769.4709\"/>\n</g>\n<!-- 140194468303968 -->\n<g id=\"node99\" class=\"node\">\n<title>140194468303968</title>\n<polygon fill=\"none\" stroke=\"#000000\" points=\"136.5,-584.5 136.5,-620.5 435.5,-620.5 435.5,-584.5 136.5,-584.5\"/>\n<text text-anchor=\"middle\" x=\"265\" y=\"-598.8\" font-family=\"Times,serif\" font-size=\"14.00\" fill=\"#000000\">Encoder-12-MultiHeadSelfAttention-Add</text>\n<polyline fill=\"none\" stroke=\"#000000\" points=\"393.5,-584.5 393.5,-620.5 \"/>\n<text text-anchor=\"middle\" x=\"414.5\" y=\"-598.8\" font-family=\"Times,serif\" font-size=\"14.00\" fill=\"#000000\">Add</text>\n</g>\n<!-- 140194466439072&#45;&gt;140194468303968 -->\n<g id=\"edge120\" class=\"edge\">\n<title>140194466439072-&gt;140194468303968</title>\n<path fill=\"none\" stroke=\"#000000\" d=\"M329.5114,-803.3446C344.887,-794.7593 360.3385,-782.8425 369,-767 377.2708,-751.8721 375.1095,-675.0386 365,-657 357.9861,-644.4849 346.7537,-634.2232 334.9338,-626.1149\"/>\n<polygon fill=\"#000000\" stroke=\"#000000\" points=\"336.588,-623.0185 326.2752,-620.5899 332.8226,-628.9196 336.588,-623.0185\"/>\n</g>\n<!-- 140194467435040 -->\n<g id=\"node98\" class=\"node\">\n<title>140194467435040</title>\n<polygon fill=\"none\" stroke=\"#000000\" points=\"11.5,-657.5 11.5,-693.5 356.5,-693.5 356.5,-657.5 11.5,-657.5\"/>\n<text text-anchor=\"middle\" x=\"151.5\" y=\"-671.8\" font-family=\"Times,serif\" font-size=\"14.00\" fill=\"#000000\">Encoder-12-MultiHeadSelfAttention-Dropout</text>\n<polyline fill=\"none\" stroke=\"#000000\" points=\"291.5,-657.5 291.5,-693.5 \"/>\n<text text-anchor=\"middle\" x=\"324\" y=\"-671.8\" font-family=\"Times,serif\" font-size=\"14.00\" fill=\"#000000\">Dropout</text>\n</g>\n<!-- 140194846560208&#45;&gt;140194467435040 -->\n<g id=\"edge119\" class=\"edge\">\n<title>140194846560208-&gt;140194467435040</title>\n<path fill=\"none\" stroke=\"#000000\" d=\"M180.9888,-730.4551C181.4311,-722.3828 181.9629,-712.6764 182.4558,-703.6817\"/>\n<polygon fill=\"#000000\" stroke=\"#000000\" points=\"185.9563,-703.7669 183.0087,-693.5904 178.9668,-703.3839 185.9563,-703.7669\"/>\n</g>\n<!-- 140194467435040&#45;&gt;140194468303968 -->\n<g id=\"edge121\" class=\"edge\">\n<title>140194467435040-&gt;140194468303968</title>\n<path fill=\"none\" stroke=\"#000000\" d=\"M209.2135,-657.4551C222.2088,-648.1545 238.2355,-636.6844 252.2796,-626.6332\"/>\n<polygon fill=\"#000000\" stroke=\"#000000\" points=\"254.6281,-629.2565 260.7231,-620.5904 250.5541,-623.5641 254.6281,-629.2565\"/>\n</g>\n<!-- 140194468446704 -->\n<g id=\"node100\" class=\"node\">\n<title>140194468446704</title>\n<polygon fill=\"none\" stroke=\"#000000\" points=\"88,-511.5 88,-547.5 484,-547.5 484,-511.5 88,-511.5\"/>\n<text text-anchor=\"middle\" x=\"220.5\" y=\"-525.8\" font-family=\"Times,serif\" font-size=\"14.00\" fill=\"#000000\">Encoder-12-MultiHeadSelfAttention-Norm</text>\n<polyline fill=\"none\" stroke=\"#000000\" points=\"353,-511.5 353,-547.5 \"/>\n<text text-anchor=\"middle\" x=\"418.5\" y=\"-525.8\" font-family=\"Times,serif\" font-size=\"14.00\" fill=\"#000000\">LayerNormalization</text>\n</g>\n<!-- 140194468303968&#45;&gt;140194468446704 -->\n<g id=\"edge122\" class=\"edge\">\n<title>140194468303968-&gt;140194468446704</title>\n<path fill=\"none\" stroke=\"#000000\" d=\"M286,-584.4551C286,-576.3828 286,-566.6764 286,-557.6817\"/>\n<polygon fill=\"#000000\" stroke=\"#000000\" points=\"289.5001,-557.5903 286,-547.5904 282.5001,-557.5904 289.5001,-557.5903\"/>\n</g>\n<!-- 140194467601280 -->\n<g id=\"node101\" class=\"node\">\n<title>140194467601280</title>\n<polygon fill=\"none\" stroke=\"#000000\" points=\"72,-438.5 72,-474.5 330,-474.5 330,-438.5 72,-438.5\"/>\n<text text-anchor=\"middle\" x=\"154.5\" y=\"-452.8\" font-family=\"Times,serif\" font-size=\"14.00\" fill=\"#000000\">Encoder-12-FeedForward</text>\n<polyline fill=\"none\" stroke=\"#000000\" points=\"237,-438.5 237,-474.5 \"/>\n<text text-anchor=\"middle\" x=\"283.5\" y=\"-452.8\" font-family=\"Times,serif\" font-size=\"14.00\" fill=\"#000000\">FeedForward</text>\n</g>\n<!-- 140194468446704&#45;&gt;140194467601280 -->\n<g id=\"edge123\" class=\"edge\">\n<title>140194468446704-&gt;140194467601280</title>\n<path fill=\"none\" stroke=\"#000000\" d=\"M264.9888,-511.4551C254.3636,-502.3299 241.3068,-491.1165 229.7645,-481.2036\"/>\n<polygon fill=\"#000000\" stroke=\"#000000\" points=\"231.9308,-478.4505 222.0641,-474.5904 227.3701,-483.7609 231.9308,-478.4505\"/>\n</g>\n<!-- 140194466381728 -->\n<g id=\"node103\" class=\"node\">\n<title>140194466381728</title>\n<polygon fill=\"none\" stroke=\"#000000\" points=\"161.5,-292.5 161.5,-328.5 398.5,-328.5 398.5,-292.5 161.5,-292.5\"/>\n<text text-anchor=\"middle\" x=\"259\" y=\"-306.8\" font-family=\"Times,serif\" font-size=\"14.00\" fill=\"#000000\">Encoder-12-FeedForward-Add</text>\n<polyline fill=\"none\" stroke=\"#000000\" points=\"356.5,-292.5 356.5,-328.5 \"/>\n<text text-anchor=\"middle\" x=\"377.5\" y=\"-306.8\" font-family=\"Times,serif\" font-size=\"14.00\" fill=\"#000000\">Add</text>\n</g>\n<!-- 140194468446704&#45;&gt;140194466381728 -->\n<g id=\"edge125\" class=\"edge\">\n<title>140194468446704-&gt;140194466381728</title>\n<path fill=\"none\" stroke=\"#000000\" d=\"M309.896,-511.3839C320.6863,-501.8165 332.4579,-489.1331 339,-475 359.5783,-430.544 366.8779,-409.3161 346,-365 340.4031,-353.1199 330.805,-342.9472 320.6353,-334.7189\"/>\n<polygon fill=\"#000000\" stroke=\"#000000\" points=\"322.5179,-331.7554 312.4224,-328.5413 318.3101,-337.3495 322.5179,-331.7554\"/>\n</g>\n<!-- 140194467602288 -->\n<g id=\"node102\" class=\"node\">\n<title>140194467602288</title>\n<polygon fill=\"none\" stroke=\"#000000\" points=\"53.5,-365.5 53.5,-401.5 336.5,-401.5 336.5,-365.5 53.5,-365.5\"/>\n<text text-anchor=\"middle\" x=\"162.5\" y=\"-379.8\" font-family=\"Times,serif\" font-size=\"14.00\" fill=\"#000000\">Encoder-12-FeedForward-Dropout</text>\n<polyline fill=\"none\" stroke=\"#000000\" points=\"271.5,-365.5 271.5,-401.5 \"/>\n<text text-anchor=\"middle\" x=\"304\" y=\"-379.8\" font-family=\"Times,serif\" font-size=\"14.00\" fill=\"#000000\">Dropout</text>\n</g>\n<!-- 140194467601280&#45;&gt;140194467602288 -->\n<g id=\"edge124\" class=\"edge\">\n<title>140194467601280-&gt;140194467602288</title>\n<path fill=\"none\" stroke=\"#000000\" d=\"M199.5169,-438.4551C198.8534,-430.3828 198.0556,-420.6764 197.3163,-411.6817\"/>\n<polygon fill=\"#000000\" stroke=\"#000000\" points=\"200.7944,-411.27 196.4869,-401.5904 193.8179,-411.8435 200.7944,-411.27\"/>\n</g>\n<!-- 140194467602288&#45;&gt;140194466381728 -->\n<g id=\"edge126\" class=\"edge\">\n<title>140194467602288-&gt;140194466381728</title>\n<path fill=\"none\" stroke=\"#000000\" d=\"M216.0112,-365.4551C226.6364,-356.3299 239.6932,-345.1165 251.2355,-335.2036\"/>\n<polygon fill=\"#000000\" stroke=\"#000000\" points=\"253.6299,-337.7609 258.9359,-328.5904 249.0692,-332.4505 253.6299,-337.7609\"/>\n</g>\n<!-- 140194466294512 -->\n<g id=\"node104\" class=\"node\">\n<title>140194466294512</title>\n<polygon fill=\"none\" stroke=\"#000000\" points=\"113,-219.5 113,-255.5 447,-255.5 447,-219.5 113,-219.5\"/>\n<text text-anchor=\"middle\" x=\"214.5\" y=\"-233.8\" font-family=\"Times,serif\" font-size=\"14.00\" fill=\"#000000\">Encoder-12-FeedForward-Norm</text>\n<polyline fill=\"none\" stroke=\"#000000\" points=\"316,-219.5 316,-255.5 \"/>\n<text text-anchor=\"middle\" x=\"381.5\" y=\"-233.8\" font-family=\"Times,serif\" font-size=\"14.00\" fill=\"#000000\">LayerNormalization</text>\n</g>\n<!-- 140194466381728&#45;&gt;140194466294512 -->\n<g id=\"edge127\" class=\"edge\">\n<title>140194466381728-&gt;140194466294512</title>\n<path fill=\"none\" stroke=\"#000000\" d=\"M280,-292.4551C280,-284.3828 280,-274.6764 280,-265.6817\"/>\n<polygon fill=\"#000000\" stroke=\"#000000\" points=\"283.5001,-265.5903 280,-255.5904 276.5001,-265.5904 283.5001,-265.5903\"/>\n</g>\n<!-- 140194467601472 -->\n<g id=\"node105\" class=\"node\">\n<title>140194467601472</title>\n<polygon fill=\"none\" stroke=\"#000000\" points=\"223,-146.5 223,-182.5 337,-182.5 337,-146.5 223,-146.5\"/>\n<text text-anchor=\"middle\" x=\"251.5\" y=\"-160.8\" font-family=\"Times,serif\" font-size=\"14.00\" fill=\"#000000\">Extract</text>\n<polyline fill=\"none\" stroke=\"#000000\" points=\"280,-146.5 280,-182.5 \"/>\n<text text-anchor=\"middle\" x=\"308.5\" y=\"-160.8\" font-family=\"Times,serif\" font-size=\"14.00\" fill=\"#000000\">Extract</text>\n</g>\n<!-- 140194466294512&#45;&gt;140194467601472 -->\n<g id=\"edge128\" class=\"edge\">\n<title>140194466294512-&gt;140194467601472</title>\n<path fill=\"none\" stroke=\"#000000\" d=\"M280,-219.4551C280,-211.3828 280,-201.6764 280,-192.6817\"/>\n<polygon fill=\"#000000\" stroke=\"#000000\" points=\"283.5001,-192.5903 280,-182.5904 276.5001,-192.5904 283.5001,-192.5903\"/>\n</g>\n<!-- 140196180585152 -->\n<g id=\"node106\" class=\"node\">\n<title>140196180585152</title>\n<polygon fill=\"none\" stroke=\"#000000\" points=\"212.5,-73.5 212.5,-109.5 347.5,-109.5 347.5,-73.5 212.5,-73.5\"/>\n<text text-anchor=\"middle\" x=\"254\" y=\"-87.8\" font-family=\"Times,serif\" font-size=\"14.00\" fill=\"#000000\">NSP-Dense</text>\n<polyline fill=\"none\" stroke=\"#000000\" points=\"295.5,-73.5 295.5,-109.5 \"/>\n<text text-anchor=\"middle\" x=\"321.5\" y=\"-87.8\" font-family=\"Times,serif\" font-size=\"14.00\" fill=\"#000000\">Dense</text>\n</g>\n<!-- 140194467601472&#45;&gt;140196180585152 -->\n<g id=\"edge129\" class=\"edge\">\n<title>140194467601472-&gt;140196180585152</title>\n<path fill=\"none\" stroke=\"#000000\" d=\"M280,-146.4551C280,-138.3828 280,-128.6764 280,-119.6817\"/>\n<polygon fill=\"#000000\" stroke=\"#000000\" points=\"283.5001,-119.5903 280,-109.5904 276.5001,-119.5904 283.5001,-119.5903\"/>\n</g>\n<!-- 140194459887744 -->\n<g id=\"node107\" class=\"node\">\n<title>140194459887744</title>\n<polygon fill=\"none\" stroke=\"#000000\" points=\"229.5,-.5 229.5,-36.5 330.5,-36.5 330.5,-.5 229.5,-.5\"/>\n<text text-anchor=\"middle\" x=\"254\" y=\"-14.8\" font-family=\"Times,serif\" font-size=\"14.00\" fill=\"#000000\">dense</text>\n<polyline fill=\"none\" stroke=\"#000000\" points=\"278.5,-.5 278.5,-36.5 \"/>\n<text text-anchor=\"middle\" x=\"304.5\" y=\"-14.8\" font-family=\"Times,serif\" font-size=\"14.00\" fill=\"#000000\">Dense</text>\n</g>\n<!-- 140196180585152&#45;&gt;140194459887744 -->\n<g id=\"edge130\" class=\"edge\">\n<title>140196180585152-&gt;140194459887744</title>\n<path fill=\"none\" stroke=\"#000000\" d=\"M280,-73.4551C280,-65.3828 280,-55.6764 280,-46.6817\"/>\n<polygon fill=\"#000000\" stroke=\"#000000\" points=\"283.5001,-46.5903 280,-36.5904 276.5001,-46.5904 283.5001,-46.5903\"/>\n</g>\n</g>\n</svg>"
          },
          "metadata": {},
          "execution_count": 34
        }
      ],
      "source": [
        "from IPython.display import SVG\n",
        "from keras.utils import model_to_dot\n",
        "\n",
        "\n",
        "SVG(model_to_dot(get_bert_finetuning_model(model), dpi=65).create(prog='dot', format='svg'))"
      ]
    },
    {
      "cell_type": "code",
      "execution_count": null,
      "metadata": {
        "id": "n_aOtj8TXG93",
        "colab": {
          "base_uri": "https://localhost:8080/"
        },
        "outputId": "41357768-2cd8-4708-a6b1-ae854fcade9e"
      },
      "outputs": [
        {
          "output_type": "stream",
          "name": "stdout",
          "text": [
            "Model: \"model_2\"\n",
            "__________________________________________________________________________________________________\n",
            " Layer (type)                   Output Shape         Param #     Connected to                     \n",
            "==================================================================================================\n",
            " Input-Token (InputLayer)       [(None, 128)]        0           []                               \n",
            "                                                                                                  \n",
            " Input-Segment (InputLayer)     [(None, 128)]        0           []                               \n",
            "                                                                                                  \n",
            " Embedding-Token (TokenEmbeddin  [(None, 128, 768),  91812096    ['Input-Token[0][0]']            \n",
            " g)                              (119547, 768)]                                                   \n",
            "                                                                                                  \n",
            " Embedding-Segment (Embedding)  (None, 128, 768)     1536        ['Input-Segment[0][0]']          \n",
            "                                                                                                  \n",
            " Embedding-Token-Segment (Add)  (None, 128, 768)     0           ['Embedding-Token[0][0]',        \n",
            "                                                                  'Embedding-Segment[0][0]']      \n",
            "                                                                                                  \n",
            " Embedding-Position (PositionEm  (None, 128, 768)    98304       ['Embedding-Token-Segment[0][0]']\n",
            " bedding)                                                                                         \n",
            "                                                                                                  \n",
            " Embedding-Dropout (Dropout)    (None, 128, 768)     0           ['Embedding-Position[0][0]']     \n",
            "                                                                                                  \n",
            " Embedding-Norm (LayerNormaliza  (None, 128, 768)    1536        ['Embedding-Dropout[0][0]']      \n",
            " tion)                                                                                            \n",
            "                                                                                                  \n",
            " Encoder-1-MultiHeadSelfAttenti  (None, 128, 768)    2362368     ['Embedding-Norm[0][0]']         \n",
            " on (MultiHeadAttention)                                                                          \n",
            "                                                                                                  \n",
            " Encoder-1-MultiHeadSelfAttenti  (None, 128, 768)    0           ['Encoder-1-MultiHeadSelfAttentio\n",
            " on-Dropout (Dropout)                                            n[0][0]']                        \n",
            "                                                                                                  \n",
            " Encoder-1-MultiHeadSelfAttenti  (None, 128, 768)    0           ['Embedding-Norm[0][0]',         \n",
            " on-Add (Add)                                                     'Encoder-1-MultiHeadSelfAttentio\n",
            "                                                                 n-Dropout[0][0]']                \n",
            "                                                                                                  \n",
            " Encoder-1-MultiHeadSelfAttenti  (None, 128, 768)    1536        ['Encoder-1-MultiHeadSelfAttentio\n",
            " on-Norm (LayerNormalization)                                    n-Add[0][0]']                    \n",
            "                                                                                                  \n",
            " Encoder-1-FeedForward (FeedFor  (None, 128, 768)    4722432     ['Encoder-1-MultiHeadSelfAttentio\n",
            " ward)                                                           n-Norm[0][0]']                   \n",
            "                                                                                                  \n",
            " Encoder-1-FeedForward-Dropout   (None, 128, 768)    0           ['Encoder-1-FeedForward[0][0]']  \n",
            " (Dropout)                                                                                        \n",
            "                                                                                                  \n",
            " Encoder-1-FeedForward-Add (Add  (None, 128, 768)    0           ['Encoder-1-MultiHeadSelfAttentio\n",
            " )                                                               n-Norm[0][0]',                   \n",
            "                                                                  'Encoder-1-FeedForward-Dropout[0\n",
            "                                                                 ][0]']                           \n",
            "                                                                                                  \n",
            " Encoder-1-FeedForward-Norm (La  (None, 128, 768)    1536        ['Encoder-1-FeedForward-Add[0][0]\n",
            " yerNormalization)                                               ']                               \n",
            "                                                                                                  \n",
            " Encoder-2-MultiHeadSelfAttenti  (None, 128, 768)    2362368     ['Encoder-1-FeedForward-Norm[0][0\n",
            " on (MultiHeadAttention)                                         ]']                              \n",
            "                                                                                                  \n",
            " Encoder-2-MultiHeadSelfAttenti  (None, 128, 768)    0           ['Encoder-2-MultiHeadSelfAttentio\n",
            " on-Dropout (Dropout)                                            n[0][0]']                        \n",
            "                                                                                                  \n",
            " Encoder-2-MultiHeadSelfAttenti  (None, 128, 768)    0           ['Encoder-1-FeedForward-Norm[0][0\n",
            " on-Add (Add)                                                    ]',                              \n",
            "                                                                  'Encoder-2-MultiHeadSelfAttentio\n",
            "                                                                 n-Dropout[0][0]']                \n",
            "                                                                                                  \n",
            " Encoder-2-MultiHeadSelfAttenti  (None, 128, 768)    1536        ['Encoder-2-MultiHeadSelfAttentio\n",
            " on-Norm (LayerNormalization)                                    n-Add[0][0]']                    \n",
            "                                                                                                  \n",
            " Encoder-2-FeedForward (FeedFor  (None, 128, 768)    4722432     ['Encoder-2-MultiHeadSelfAttentio\n",
            " ward)                                                           n-Norm[0][0]']                   \n",
            "                                                                                                  \n",
            " Encoder-2-FeedForward-Dropout   (None, 128, 768)    0           ['Encoder-2-FeedForward[0][0]']  \n",
            " (Dropout)                                                                                        \n",
            "                                                                                                  \n",
            " Encoder-2-FeedForward-Add (Add  (None, 128, 768)    0           ['Encoder-2-MultiHeadSelfAttentio\n",
            " )                                                               n-Norm[0][0]',                   \n",
            "                                                                  'Encoder-2-FeedForward-Dropout[0\n",
            "                                                                 ][0]']                           \n",
            "                                                                                                  \n",
            " Encoder-2-FeedForward-Norm (La  (None, 128, 768)    1536        ['Encoder-2-FeedForward-Add[0][0]\n",
            " yerNormalization)                                               ']                               \n",
            "                                                                                                  \n",
            " Encoder-3-MultiHeadSelfAttenti  (None, 128, 768)    2362368     ['Encoder-2-FeedForward-Norm[0][0\n",
            " on (MultiHeadAttention)                                         ]']                              \n",
            "                                                                                                  \n",
            " Encoder-3-MultiHeadSelfAttenti  (None, 128, 768)    0           ['Encoder-3-MultiHeadSelfAttentio\n",
            " on-Dropout (Dropout)                                            n[0][0]']                        \n",
            "                                                                                                  \n",
            " Encoder-3-MultiHeadSelfAttenti  (None, 128, 768)    0           ['Encoder-2-FeedForward-Norm[0][0\n",
            " on-Add (Add)                                                    ]',                              \n",
            "                                                                  'Encoder-3-MultiHeadSelfAttentio\n",
            "                                                                 n-Dropout[0][0]']                \n",
            "                                                                                                  \n",
            " Encoder-3-MultiHeadSelfAttenti  (None, 128, 768)    1536        ['Encoder-3-MultiHeadSelfAttentio\n",
            " on-Norm (LayerNormalization)                                    n-Add[0][0]']                    \n",
            "                                                                                                  \n",
            " Encoder-3-FeedForward (FeedFor  (None, 128, 768)    4722432     ['Encoder-3-MultiHeadSelfAttentio\n",
            " ward)                                                           n-Norm[0][0]']                   \n",
            "                                                                                                  \n",
            " Encoder-3-FeedForward-Dropout   (None, 128, 768)    0           ['Encoder-3-FeedForward[0][0]']  \n",
            " (Dropout)                                                                                        \n",
            "                                                                                                  \n",
            " Encoder-3-FeedForward-Add (Add  (None, 128, 768)    0           ['Encoder-3-MultiHeadSelfAttentio\n",
            " )                                                               n-Norm[0][0]',                   \n",
            "                                                                  'Encoder-3-FeedForward-Dropout[0\n",
            "                                                                 ][0]']                           \n",
            "                                                                                                  \n",
            " Encoder-3-FeedForward-Norm (La  (None, 128, 768)    1536        ['Encoder-3-FeedForward-Add[0][0]\n",
            " yerNormalization)                                               ']                               \n",
            "                                                                                                  \n",
            " Encoder-4-MultiHeadSelfAttenti  (None, 128, 768)    2362368     ['Encoder-3-FeedForward-Norm[0][0\n",
            " on (MultiHeadAttention)                                         ]']                              \n",
            "                                                                                                  \n",
            " Encoder-4-MultiHeadSelfAttenti  (None, 128, 768)    0           ['Encoder-4-MultiHeadSelfAttentio\n",
            " on-Dropout (Dropout)                                            n[0][0]']                        \n",
            "                                                                                                  \n",
            " Encoder-4-MultiHeadSelfAttenti  (None, 128, 768)    0           ['Encoder-3-FeedForward-Norm[0][0\n",
            " on-Add (Add)                                                    ]',                              \n",
            "                                                                  'Encoder-4-MultiHeadSelfAttentio\n",
            "                                                                 n-Dropout[0][0]']                \n",
            "                                                                                                  \n",
            " Encoder-4-MultiHeadSelfAttenti  (None, 128, 768)    1536        ['Encoder-4-MultiHeadSelfAttentio\n",
            " on-Norm (LayerNormalization)                                    n-Add[0][0]']                    \n",
            "                                                                                                  \n",
            " Encoder-4-FeedForward (FeedFor  (None, 128, 768)    4722432     ['Encoder-4-MultiHeadSelfAttentio\n",
            " ward)                                                           n-Norm[0][0]']                   \n",
            "                                                                                                  \n",
            " Encoder-4-FeedForward-Dropout   (None, 128, 768)    0           ['Encoder-4-FeedForward[0][0]']  \n",
            " (Dropout)                                                                                        \n",
            "                                                                                                  \n",
            " Encoder-4-FeedForward-Add (Add  (None, 128, 768)    0           ['Encoder-4-MultiHeadSelfAttentio\n",
            " )                                                               n-Norm[0][0]',                   \n",
            "                                                                  'Encoder-4-FeedForward-Dropout[0\n",
            "                                                                 ][0]']                           \n",
            "                                                                                                  \n",
            " Encoder-4-FeedForward-Norm (La  (None, 128, 768)    1536        ['Encoder-4-FeedForward-Add[0][0]\n",
            " yerNormalization)                                               ']                               \n",
            "                                                                                                  \n",
            " Encoder-5-MultiHeadSelfAttenti  (None, 128, 768)    2362368     ['Encoder-4-FeedForward-Norm[0][0\n",
            " on (MultiHeadAttention)                                         ]']                              \n",
            "                                                                                                  \n",
            " Encoder-5-MultiHeadSelfAttenti  (None, 128, 768)    0           ['Encoder-5-MultiHeadSelfAttentio\n",
            " on-Dropout (Dropout)                                            n[0][0]']                        \n",
            "                                                                                                  \n",
            " Encoder-5-MultiHeadSelfAttenti  (None, 128, 768)    0           ['Encoder-4-FeedForward-Norm[0][0\n",
            " on-Add (Add)                                                    ]',                              \n",
            "                                                                  'Encoder-5-MultiHeadSelfAttentio\n",
            "                                                                 n-Dropout[0][0]']                \n",
            "                                                                                                  \n",
            " Encoder-5-MultiHeadSelfAttenti  (None, 128, 768)    1536        ['Encoder-5-MultiHeadSelfAttentio\n",
            " on-Norm (LayerNormalization)                                    n-Add[0][0]']                    \n",
            "                                                                                                  \n",
            " Encoder-5-FeedForward (FeedFor  (None, 128, 768)    4722432     ['Encoder-5-MultiHeadSelfAttentio\n",
            " ward)                                                           n-Norm[0][0]']                   \n",
            "                                                                                                  \n",
            " Encoder-5-FeedForward-Dropout   (None, 128, 768)    0           ['Encoder-5-FeedForward[0][0]']  \n",
            " (Dropout)                                                                                        \n",
            "                                                                                                  \n",
            " Encoder-5-FeedForward-Add (Add  (None, 128, 768)    0           ['Encoder-5-MultiHeadSelfAttentio\n",
            " )                                                               n-Norm[0][0]',                   \n",
            "                                                                  'Encoder-5-FeedForward-Dropout[0\n",
            "                                                                 ][0]']                           \n",
            "                                                                                                  \n",
            " Encoder-5-FeedForward-Norm (La  (None, 128, 768)    1536        ['Encoder-5-FeedForward-Add[0][0]\n",
            " yerNormalization)                                               ']                               \n",
            "                                                                                                  \n",
            " Encoder-6-MultiHeadSelfAttenti  (None, 128, 768)    2362368     ['Encoder-5-FeedForward-Norm[0][0\n",
            " on (MultiHeadAttention)                                         ]']                              \n",
            "                                                                                                  \n",
            " Encoder-6-MultiHeadSelfAttenti  (None, 128, 768)    0           ['Encoder-6-MultiHeadSelfAttentio\n",
            " on-Dropout (Dropout)                                            n[0][0]']                        \n",
            "                                                                                                  \n",
            " Encoder-6-MultiHeadSelfAttenti  (None, 128, 768)    0           ['Encoder-5-FeedForward-Norm[0][0\n",
            " on-Add (Add)                                                    ]',                              \n",
            "                                                                  'Encoder-6-MultiHeadSelfAttentio\n",
            "                                                                 n-Dropout[0][0]']                \n",
            "                                                                                                  \n",
            " Encoder-6-MultiHeadSelfAttenti  (None, 128, 768)    1536        ['Encoder-6-MultiHeadSelfAttentio\n",
            " on-Norm (LayerNormalization)                                    n-Add[0][0]']                    \n",
            "                                                                                                  \n",
            " Encoder-6-FeedForward (FeedFor  (None, 128, 768)    4722432     ['Encoder-6-MultiHeadSelfAttentio\n",
            " ward)                                                           n-Norm[0][0]']                   \n",
            "                                                                                                  \n",
            " Encoder-6-FeedForward-Dropout   (None, 128, 768)    0           ['Encoder-6-FeedForward[0][0]']  \n",
            " (Dropout)                                                                                        \n",
            "                                                                                                  \n",
            " Encoder-6-FeedForward-Add (Add  (None, 128, 768)    0           ['Encoder-6-MultiHeadSelfAttentio\n",
            " )                                                               n-Norm[0][0]',                   \n",
            "                                                                  'Encoder-6-FeedForward-Dropout[0\n",
            "                                                                 ][0]']                           \n",
            "                                                                                                  \n",
            " Encoder-6-FeedForward-Norm (La  (None, 128, 768)    1536        ['Encoder-6-FeedForward-Add[0][0]\n",
            " yerNormalization)                                               ']                               \n",
            "                                                                                                  \n",
            " Encoder-7-MultiHeadSelfAttenti  (None, 128, 768)    2362368     ['Encoder-6-FeedForward-Norm[0][0\n",
            " on (MultiHeadAttention)                                         ]']                              \n",
            "                                                                                                  \n",
            " Encoder-7-MultiHeadSelfAttenti  (None, 128, 768)    0           ['Encoder-7-MultiHeadSelfAttentio\n",
            " on-Dropout (Dropout)                                            n[0][0]']                        \n",
            "                                                                                                  \n",
            " Encoder-7-MultiHeadSelfAttenti  (None, 128, 768)    0           ['Encoder-6-FeedForward-Norm[0][0\n",
            " on-Add (Add)                                                    ]',                              \n",
            "                                                                  'Encoder-7-MultiHeadSelfAttentio\n",
            "                                                                 n-Dropout[0][0]']                \n",
            "                                                                                                  \n",
            " Encoder-7-MultiHeadSelfAttenti  (None, 128, 768)    1536        ['Encoder-7-MultiHeadSelfAttentio\n",
            " on-Norm (LayerNormalization)                                    n-Add[0][0]']                    \n",
            "                                                                                                  \n",
            " Encoder-7-FeedForward (FeedFor  (None, 128, 768)    4722432     ['Encoder-7-MultiHeadSelfAttentio\n",
            " ward)                                                           n-Norm[0][0]']                   \n",
            "                                                                                                  \n",
            " Encoder-7-FeedForward-Dropout   (None, 128, 768)    0           ['Encoder-7-FeedForward[0][0]']  \n",
            " (Dropout)                                                                                        \n",
            "                                                                                                  \n",
            " Encoder-7-FeedForward-Add (Add  (None, 128, 768)    0           ['Encoder-7-MultiHeadSelfAttentio\n",
            " )                                                               n-Norm[0][0]',                   \n",
            "                                                                  'Encoder-7-FeedForward-Dropout[0\n",
            "                                                                 ][0]']                           \n",
            "                                                                                                  \n",
            " Encoder-7-FeedForward-Norm (La  (None, 128, 768)    1536        ['Encoder-7-FeedForward-Add[0][0]\n",
            " yerNormalization)                                               ']                               \n",
            "                                                                                                  \n",
            " Encoder-8-MultiHeadSelfAttenti  (None, 128, 768)    2362368     ['Encoder-7-FeedForward-Norm[0][0\n",
            " on (MultiHeadAttention)                                         ]']                              \n",
            "                                                                                                  \n",
            " Encoder-8-MultiHeadSelfAttenti  (None, 128, 768)    0           ['Encoder-8-MultiHeadSelfAttentio\n",
            " on-Dropout (Dropout)                                            n[0][0]']                        \n",
            "                                                                                                  \n",
            " Encoder-8-MultiHeadSelfAttenti  (None, 128, 768)    0           ['Encoder-7-FeedForward-Norm[0][0\n",
            " on-Add (Add)                                                    ]',                              \n",
            "                                                                  'Encoder-8-MultiHeadSelfAttentio\n",
            "                                                                 n-Dropout[0][0]']                \n",
            "                                                                                                  \n",
            " Encoder-8-MultiHeadSelfAttenti  (None, 128, 768)    1536        ['Encoder-8-MultiHeadSelfAttentio\n",
            " on-Norm (LayerNormalization)                                    n-Add[0][0]']                    \n",
            "                                                                                                  \n",
            " Encoder-8-FeedForward (FeedFor  (None, 128, 768)    4722432     ['Encoder-8-MultiHeadSelfAttentio\n",
            " ward)                                                           n-Norm[0][0]']                   \n",
            "                                                                                                  \n",
            " Encoder-8-FeedForward-Dropout   (None, 128, 768)    0           ['Encoder-8-FeedForward[0][0]']  \n",
            " (Dropout)                                                                                        \n",
            "                                                                                                  \n",
            " Encoder-8-FeedForward-Add (Add  (None, 128, 768)    0           ['Encoder-8-MultiHeadSelfAttentio\n",
            " )                                                               n-Norm[0][0]',                   \n",
            "                                                                  'Encoder-8-FeedForward-Dropout[0\n",
            "                                                                 ][0]']                           \n",
            "                                                                                                  \n",
            " Encoder-8-FeedForward-Norm (La  (None, 128, 768)    1536        ['Encoder-8-FeedForward-Add[0][0]\n",
            " yerNormalization)                                               ']                               \n",
            "                                                                                                  \n",
            " Encoder-9-MultiHeadSelfAttenti  (None, 128, 768)    2362368     ['Encoder-8-FeedForward-Norm[0][0\n",
            " on (MultiHeadAttention)                                         ]']                              \n",
            "                                                                                                  \n",
            " Encoder-9-MultiHeadSelfAttenti  (None, 128, 768)    0           ['Encoder-9-MultiHeadSelfAttentio\n",
            " on-Dropout (Dropout)                                            n[0][0]']                        \n",
            "                                                                                                  \n",
            " Encoder-9-MultiHeadSelfAttenti  (None, 128, 768)    0           ['Encoder-8-FeedForward-Norm[0][0\n",
            " on-Add (Add)                                                    ]',                              \n",
            "                                                                  'Encoder-9-MultiHeadSelfAttentio\n",
            "                                                                 n-Dropout[0][0]']                \n",
            "                                                                                                  \n",
            " Encoder-9-MultiHeadSelfAttenti  (None, 128, 768)    1536        ['Encoder-9-MultiHeadSelfAttentio\n",
            " on-Norm (LayerNormalization)                                    n-Add[0][0]']                    \n",
            "                                                                                                  \n",
            " Encoder-9-FeedForward (FeedFor  (None, 128, 768)    4722432     ['Encoder-9-MultiHeadSelfAttentio\n",
            " ward)                                                           n-Norm[0][0]']                   \n",
            "                                                                                                  \n",
            " Encoder-9-FeedForward-Dropout   (None, 128, 768)    0           ['Encoder-9-FeedForward[0][0]']  \n",
            " (Dropout)                                                                                        \n",
            "                                                                                                  \n",
            " Encoder-9-FeedForward-Add (Add  (None, 128, 768)    0           ['Encoder-9-MultiHeadSelfAttentio\n",
            " )                                                               n-Norm[0][0]',                   \n",
            "                                                                  'Encoder-9-FeedForward-Dropout[0\n",
            "                                                                 ][0]']                           \n",
            "                                                                                                  \n",
            " Encoder-9-FeedForward-Norm (La  (None, 128, 768)    1536        ['Encoder-9-FeedForward-Add[0][0]\n",
            " yerNormalization)                                               ']                               \n",
            "                                                                                                  \n",
            " Encoder-10-MultiHeadSelfAttent  (None, 128, 768)    2362368     ['Encoder-9-FeedForward-Norm[0][0\n",
            " ion (MultiHeadAttention)                                        ]']                              \n",
            "                                                                                                  \n",
            " Encoder-10-MultiHeadSelfAttent  (None, 128, 768)    0           ['Encoder-10-MultiHeadSelfAttenti\n",
            " ion-Dropout (Dropout)                                           on[0][0]']                       \n",
            "                                                                                                  \n",
            " Encoder-10-MultiHeadSelfAttent  (None, 128, 768)    0           ['Encoder-9-FeedForward-Norm[0][0\n",
            " ion-Add (Add)                                                   ]',                              \n",
            "                                                                  'Encoder-10-MultiHeadSelfAttenti\n",
            "                                                                 on-Dropout[0][0]']               \n",
            "                                                                                                  \n",
            " Encoder-10-MultiHeadSelfAttent  (None, 128, 768)    1536        ['Encoder-10-MultiHeadSelfAttenti\n",
            " ion-Norm (LayerNormalization)                                   on-Add[0][0]']                   \n",
            "                                                                                                  \n",
            " Encoder-10-FeedForward (FeedFo  (None, 128, 768)    4722432     ['Encoder-10-MultiHeadSelfAttenti\n",
            " rward)                                                          on-Norm[0][0]']                  \n",
            "                                                                                                  \n",
            " Encoder-10-FeedForward-Dropout  (None, 128, 768)    0           ['Encoder-10-FeedForward[0][0]'] \n",
            "  (Dropout)                                                                                       \n",
            "                                                                                                  \n",
            " Encoder-10-FeedForward-Add (Ad  (None, 128, 768)    0           ['Encoder-10-MultiHeadSelfAttenti\n",
            " d)                                                              on-Norm[0][0]',                  \n",
            "                                                                  'Encoder-10-FeedForward-Dropout[\n",
            "                                                                 0][0]']                          \n",
            "                                                                                                  \n",
            " Encoder-10-FeedForward-Norm (L  (None, 128, 768)    1536        ['Encoder-10-FeedForward-Add[0][0\n",
            " ayerNormalization)                                              ]']                              \n",
            "                                                                                                  \n",
            " Encoder-11-MultiHeadSelfAttent  (None, 128, 768)    2362368     ['Encoder-10-FeedForward-Norm[0][\n",
            " ion (MultiHeadAttention)                                        0]']                             \n",
            "                                                                                                  \n",
            " Encoder-11-MultiHeadSelfAttent  (None, 128, 768)    0           ['Encoder-11-MultiHeadSelfAttenti\n",
            " ion-Dropout (Dropout)                                           on[0][0]']                       \n",
            "                                                                                                  \n",
            " Encoder-11-MultiHeadSelfAttent  (None, 128, 768)    0           ['Encoder-10-FeedForward-Norm[0][\n",
            " ion-Add (Add)                                                   0]',                             \n",
            "                                                                  'Encoder-11-MultiHeadSelfAttenti\n",
            "                                                                 on-Dropout[0][0]']               \n",
            "                                                                                                  \n",
            " Encoder-11-MultiHeadSelfAttent  (None, 128, 768)    1536        ['Encoder-11-MultiHeadSelfAttenti\n",
            " ion-Norm (LayerNormalization)                                   on-Add[0][0]']                   \n",
            "                                                                                                  \n",
            " Encoder-11-FeedForward (FeedFo  (None, 128, 768)    4722432     ['Encoder-11-MultiHeadSelfAttenti\n",
            " rward)                                                          on-Norm[0][0]']                  \n",
            "                                                                                                  \n",
            " Encoder-11-FeedForward-Dropout  (None, 128, 768)    0           ['Encoder-11-FeedForward[0][0]'] \n",
            "  (Dropout)                                                                                       \n",
            "                                                                                                  \n",
            " Encoder-11-FeedForward-Add (Ad  (None, 128, 768)    0           ['Encoder-11-MultiHeadSelfAttenti\n",
            " d)                                                              on-Norm[0][0]',                  \n",
            "                                                                  'Encoder-11-FeedForward-Dropout[\n",
            "                                                                 0][0]']                          \n",
            "                                                                                                  \n",
            " Encoder-11-FeedForward-Norm (L  (None, 128, 768)    1536        ['Encoder-11-FeedForward-Add[0][0\n",
            " ayerNormalization)                                              ]']                              \n",
            "                                                                                                  \n",
            " Encoder-12-MultiHeadSelfAttent  (None, 128, 768)    2362368     ['Encoder-11-FeedForward-Norm[0][\n",
            " ion (MultiHeadAttention)                                        0]']                             \n",
            "                                                                                                  \n",
            " Encoder-12-MultiHeadSelfAttent  (None, 128, 768)    0           ['Encoder-12-MultiHeadSelfAttenti\n",
            " ion-Dropout (Dropout)                                           on[0][0]']                       \n",
            "                                                                                                  \n",
            " Encoder-12-MultiHeadSelfAttent  (None, 128, 768)    0           ['Encoder-11-FeedForward-Norm[0][\n",
            " ion-Add (Add)                                                   0]',                             \n",
            "                                                                  'Encoder-12-MultiHeadSelfAttenti\n",
            "                                                                 on-Dropout[0][0]']               \n",
            "                                                                                                  \n",
            " Encoder-12-MultiHeadSelfAttent  (None, 128, 768)    1536        ['Encoder-12-MultiHeadSelfAttenti\n",
            " ion-Norm (LayerNormalization)                                   on-Add[0][0]']                   \n",
            "                                                                                                  \n",
            " Encoder-12-FeedForward (FeedFo  (None, 128, 768)    4722432     ['Encoder-12-MultiHeadSelfAttenti\n",
            " rward)                                                          on-Norm[0][0]']                  \n",
            "                                                                                                  \n",
            " Encoder-12-FeedForward-Dropout  (None, 128, 768)    0           ['Encoder-12-FeedForward[0][0]'] \n",
            "  (Dropout)                                                                                       \n",
            "                                                                                                  \n",
            " Encoder-12-FeedForward-Add (Ad  (None, 128, 768)    0           ['Encoder-12-MultiHeadSelfAttenti\n",
            " d)                                                              on-Norm[0][0]',                  \n",
            "                                                                  'Encoder-12-FeedForward-Dropout[\n",
            "                                                                 0][0]']                          \n",
            "                                                                                                  \n",
            " Encoder-12-FeedForward-Norm (L  (None, 128, 768)    1536        ['Encoder-12-FeedForward-Add[0][0\n",
            " ayerNormalization)                                              ]']                              \n",
            "                                                                                                  \n",
            " Extract (Extract)              (None, 768)          0           ['Encoder-12-FeedForward-Norm[0][\n",
            "                                                                 0]']                             \n",
            "                                                                                                  \n",
            " NSP-Dense (Dense)              (None, 768)          590592      ['Extract[0][0]']                \n",
            "                                                                                                  \n",
            " dense_2 (Dense)                (None, 7)            5383        ['NSP-Dense[0][0]']              \n",
            "                                                                                                  \n",
            "==================================================================================================\n",
            "Total params: 177,563,911\n",
            "Trainable params: 177,563,911\n",
            "Non-trainable params: 0\n",
            "__________________________________________________________________________________________________\n"
          ]
        }
      ],
      "source": [
        "bert = get_bert_finetuning_model(model)\n",
        "bert.summary()"
      ]
    },
    {
      "cell_type": "code",
      "execution_count": null,
      "metadata": {
        "id": "ZlJd_h6WgQwN"
      },
      "outputs": [],
      "source": [
        "import tensorflow\n",
        "import keras.backend as K\n",
        "K.clear_session()\n",
        "import tensorflow.keras.backend as K\n",
        "from tensorflow.python.keras.backend import get_session"
      ]
    },
    {
      "cell_type": "code",
      "execution_count": null,
      "metadata": {
        "id": "1SeYvnGykFr_"
      },
      "outputs": [],
      "source": [
        "tf.compat.v1.keras.backend.set_session(session)\n",
        "tf.compat.v1.keras.backend.set_session()\n",
        "K.set_session\n",
        "tf.compat.v1.Session()"
      ]
    },
    {
      "cell_type": "code",
      "execution_count": null,
      "metadata": {
        "id": "uXy0_JJ5oAQB"
      },
      "outputs": [],
      "source": [
        "tf.__version__"
      ]
    },
    {
      "cell_type": "code",
      "execution_count": null,
      "metadata": {
        "id": "qk0u22B2Io_9"
      },
      "outputs": [],
      "source": [
        "# !apt install --allow-change-held-packages libcudnn8=8.1.0.77-1+cuda11.2"
      ]
    },
    {
      "cell_type": "code",
      "execution_count": null,
      "metadata": {
        "colab": {
          "base_uri": "https://localhost:8080/"
        },
        "id": "cWPFB-2EedIQ",
        "outputId": "e9f6c23b-a20f-4432-ee52-1c87a8ff0ac7"
      },
      "outputs": [
        {
          "output_type": "stream",
          "name": "stdout",
          "text": [
            "Epoch 1/10\n",
            "400/400 [==============================] - 275s 580ms/step - loss: 1.4955 - accuracy: 0.4851 - val_loss: 1.3341 - val_accuracy: 0.5391\n",
            "Epoch 2/10\n",
            "400/400 [==============================] - 227s 569ms/step - loss: 1.2472 - accuracy: 0.5887 - val_loss: 1.2229 - val_accuracy: 0.5922\n",
            "Epoch 3/10\n",
            "400/400 [==============================] - 227s 568ms/step - loss: 1.1326 - accuracy: 0.6339 - val_loss: 1.2156 - val_accuracy: 0.5979\n",
            "Epoch 4/10\n",
            "400/400 [==============================] - 227s 568ms/step - loss: 1.0203 - accuracy: 0.6738 - val_loss: 1.2349 - val_accuracy: 0.6041\n",
            "Epoch 5/10\n",
            "400/400 [==============================] - 227s 568ms/step - loss: 0.8999 - accuracy: 0.7128 - val_loss: 1.3117 - val_accuracy: 0.5897\n",
            "Epoch 6/10\n",
            "400/400 [==============================] - 227s 568ms/step - loss: 0.7622 - accuracy: 0.7642 - val_loss: 1.3765 - val_accuracy: 0.5641\n",
            "Epoch 7/10\n",
            "400/400 [==============================] - 227s 567ms/step - loss: 0.6314 - accuracy: 0.8066 - val_loss: 1.4857 - val_accuracy: 0.5578\n",
            "Epoch 8/10\n",
            "400/400 [==============================] - 227s 568ms/step - loss: 0.5308 - accuracy: 0.8310 - val_loss: 1.5838 - val_accuracy: 0.5460\n",
            "Epoch 9/10\n",
            "400/400 [==============================] - 227s 567ms/step - loss: 0.4480 - accuracy: 0.8655 - val_loss: 1.6813 - val_accuracy: 0.5666\n",
            "Epoch 10/10\n",
            "400/400 [==============================] - 228s 569ms/step - loss: 0.3757 - accuracy: 0.8824 - val_loss: 1.7337 - val_accuracy: 0.5697\n"
          ]
        }
      ],
      "source": [
        "with tensorflow.compat.v1.Session() as sess:\n",
        "    uninitialized_variables = set([i.decode('ascii') for i in sess.run(tensorflow.compat.v1.report_uninitialized_variables())])\n",
        "    init = tensorflow.compat.v1.variables_initializer([v for v in tensorflow.compat.v1.global_variables() if v.name.split(':')[0] in uninitialized_variables])\n",
        "    sess.run(init)\n",
        "\n",
        "bert_model = get_bert_finetuning_model(model)\n",
        "history = bert_model.fit(X_train, Y_train, epochs = 10, batch_size = 16, verbose = 1, shuffle=False, validation_data = (X_val, Y_val))\n",
        "bert_model.save_weights(path + \"/bert1.h5\")"
      ]
    },
    {
      "cell_type": "code",
      "execution_count": null,
      "metadata": {
        "id": "i0EdtaxhcytZ"
      },
      "outputs": [],
      "source": [
        "def sentence_convert_data(data):\n",
        "    global tokenizer\n",
        "    indices = []\n",
        "    ids, segments = tokenizer.encode(data, max_len=SEQ_LEN)\n",
        "    indices.append(ids)\n",
        "        \n",
        "    items = indices\n",
        "    indices = np.array(indices)\n",
        "    return [indices, np.zeros_like(indices)]"
      ]
    },
    {
      "cell_type": "code",
      "execution_count": null,
      "metadata": {
        "id": "e9Tzk69ednWL"
      },
      "outputs": [],
      "source": [
        "def emoji_prediction(sentence):\n",
        "    data_x = sentence_convert_data(sentence)\n",
        "    predict = bert_model.predict(data_x)\n",
        "    # predict_answer = np.round(predict.flatten(), 0).item()\n",
        "    # argmax 제일 높은 확률값을 가져다줌\n",
        "    predict_index = np.argmax(predict, axis =1)[0]\n",
        "    # return label_to_emoji([int(i) for i in predict_index])\n",
        "    # return [int(i) for i in predict_index]\n",
        "    return predict_index\n",
        "\n",
        "    print(predict)\n",
        "    # print([int(i) for i in predict])"
      ]
    },
    {
      "cell_type": "code",
      "execution_count": null,
      "metadata": {
        "colab": {
          "base_uri": "https://localhost:8080/"
        },
        "id": "j3PH1Kgfd82w",
        "outputId": "793d5848-5565-46f6-bcef-e840ca632761"
      },
      "outputs": [
        {
          "output_type": "stream",
          "name": "stdout",
          "text": [
            "1/1 [==============================] - 0s 41ms/step\n",
            "('😁', '🥰', '😃', '😆')\n"
          ]
        }
      ],
      "source": [
        "label_to_emoji(emoji_prediction(\"I love you\"))"
      ]
    },
    {
      "cell_type": "code",
      "execution_count": null,
      "metadata": {
        "colab": {
          "base_uri": "https://localhost:8080/"
        },
        "id": "uxcIZ3V_eIqO",
        "outputId": "cce65d2d-543c-4867-c858-b759471d3e9e"
      },
      "outputs": [
        {
          "output_type": "stream",
          "name": "stdout",
          "text": [
            "1/1 [==============================] - 0s 44ms/step\n",
            "('🤢', '😵', '😣', '😵')\n"
          ]
        }
      ],
      "source": [
        "label_to_emoji(emoji_prediction(\"I hate you\"))"
      ]
    },
    {
      "cell_type": "code",
      "execution_count": null,
      "metadata": {
        "colab": {
          "base_uri": "https://localhost:8080/"
        },
        "id": "OmeJHaSzi54v",
        "outputId": "e8650ddd-0db5-4c90-cf47-22b899adb58b"
      },
      "outputs": [
        {
          "output_type": "stream",
          "name": "stdout",
          "text": [
            "1/1 [==============================] - 0s 195ms/step\n",
            "('😑', '😐', '😶', '🙄')\n"
          ]
        }
      ],
      "source": [
        "label_to_emoji(emoji_prediction(\"I'm so blue\"))"
      ]
    },
    {
      "cell_type": "code",
      "execution_count": null,
      "metadata": {
        "colab": {
          "base_uri": "https://localhost:8080/"
        },
        "id": "igaLQEezjXgM",
        "outputId": "5b1cf2b8-2c58-49f3-bc7f-dfa2c3a51306"
      },
      "outputs": [
        {
          "output_type": "stream",
          "name": "stdout",
          "text": [
            "1/1 [==============================] - 0s 42ms/step\n",
            "('😑', '😐', '😶', '🙄')\n"
          ]
        }
      ],
      "source": [
        "label_to_emoji(emoji_prediction(\"I'm so sad\"))"
      ]
    },
    {
      "cell_type": "code",
      "source": [
        "label_to_emoji(emoji_prediction(\"scared\"))"
      ],
      "metadata": {
        "colab": {
          "base_uri": "https://localhost:8080/"
        },
        "id": "KaDjTvdyOSnw",
        "outputId": "fbcc2a25-6e87-4795-b0cb-2739ffe7e11b"
      },
      "execution_count": null,
      "outputs": [
        {
          "output_type": "stream",
          "name": "stdout",
          "text": [
            "1/1 [==============================] - 0s 43ms/step\n",
            "('😡', '👿', '😤', '😠')\n"
          ]
        }
      ]
    },
    {
      "cell_type": "code",
      "source": [
        "label_to_emoji(emoji_prediction(\"happy\"))"
      ],
      "metadata": {
        "colab": {
          "base_uri": "https://localhost:8080/"
        },
        "id": "tF6MlHpdQNab",
        "outputId": "74769e81-1773-4739-a5dc-9268e5b72163"
      },
      "execution_count": null,
      "outputs": [
        {
          "output_type": "stream",
          "name": "stdout",
          "text": [
            "1/1 [==============================] - 0s 53ms/step\n",
            "('😁', '🥰', '😃', '😆')\n"
          ]
        }
      ]
    },
    {
      "cell_type": "code",
      "source": [
        "label_to_emoji(emoji_prediction(\"disgusted\"))"
      ],
      "metadata": {
        "colab": {
          "base_uri": "https://localhost:8080/"
        },
        "id": "xTHy5o1pQQxQ",
        "outputId": "91a3c908-2b5a-41ab-fe0b-1d69b5809fb0"
      },
      "execution_count": null,
      "outputs": [
        {
          "output_type": "stream",
          "name": "stdout",
          "text": [
            "1/1 [==============================] - 0s 56ms/step\n",
            "('😢', '😭', '😿', '😥')\n"
          ]
        }
      ]
    },
    {
      "cell_type": "code",
      "source": [
        "label_to_emoji(emoji_prediction(\"hurt\"))"
      ],
      "metadata": {
        "colab": {
          "base_uri": "https://localhost:8080/"
        },
        "id": "wQszg9yVQlSx",
        "outputId": "13ab3cf9-a51a-4adb-89bf-35570bb1da2d"
      },
      "execution_count": null,
      "outputs": [
        {
          "output_type": "stream",
          "name": "stdout",
          "text": [
            "1/1 [==============================] - 0s 40ms/step\n",
            "('😡', '👿', '😤', '😠')\n"
          ]
        }
      ]
    }
  ],
  "metadata": {
    "accelerator": "GPU",
    "colab": {
      "provenance": []
    },
    "gpuClass": "standard",
    "kernelspec": {
      "display_name": "Python 3.9.13 ('base')",
      "language": "python",
      "name": "python3"
    },
    "language_info": {
      "codemirror_mode": {
        "name": "ipython",
        "version": 3
      },
      "file_extension": ".py",
      "mimetype": "text/x-python",
      "name": "python",
      "nbconvert_exporter": "python",
      "pygments_lexer": "ipython3",
      "version": "3.9.13"
    },
    "vscode": {
      "interpreter": {
        "hash": "498f917e048707911efcbcf465594db369352ee776ae2be7ebfeea31659e88eb"
      }
    },
    "widgets": {
      "application/vnd.jupyter.widget-state+json": {
        "3a2ccbc491ae47a28229372f3296d433": {
          "model_module": "@jupyter-widgets/controls",
          "model_name": "HBoxModel",
          "model_module_version": "1.5.0",
          "state": {
            "_dom_classes": [],
            "_model_module": "@jupyter-widgets/controls",
            "_model_module_version": "1.5.0",
            "_model_name": "HBoxModel",
            "_view_count": null,
            "_view_module": "@jupyter-widgets/controls",
            "_view_module_version": "1.5.0",
            "_view_name": "HBoxView",
            "box_style": "",
            "children": [
              "IPY_MODEL_c855b0e6abd0404e8907948c8f602da8",
              "IPY_MODEL_d9af82a3d0ee420db30251cab631848d",
              "IPY_MODEL_53d1bc77975c48b19d335f147b9b7ea1"
            ],
            "layout": "IPY_MODEL_414b5f95dbe34bf18d09d2ff7f1199c6"
          }
        },
        "c855b0e6abd0404e8907948c8f602da8": {
          "model_module": "@jupyter-widgets/controls",
          "model_name": "HTMLModel",
          "model_module_version": "1.5.0",
          "state": {
            "_dom_classes": [],
            "_model_module": "@jupyter-widgets/controls",
            "_model_module_version": "1.5.0",
            "_model_name": "HTMLModel",
            "_view_count": null,
            "_view_module": "@jupyter-widgets/controls",
            "_view_module_version": "1.5.0",
            "_view_name": "HTMLView",
            "description": "",
            "description_tooltip": null,
            "layout": "IPY_MODEL_a469ca21f4b64eaf8c1cb3ed7d006ae3",
            "placeholder": "​",
            "style": "IPY_MODEL_e98755c202814d87a3e162ff067b4ed3",
            "value": "100%"
          }
        },
        "d9af82a3d0ee420db30251cab631848d": {
          "model_module": "@jupyter-widgets/controls",
          "model_name": "FloatProgressModel",
          "model_module_version": "1.5.0",
          "state": {
            "_dom_classes": [],
            "_model_module": "@jupyter-widgets/controls",
            "_model_module_version": "1.5.0",
            "_model_name": "FloatProgressModel",
            "_view_count": null,
            "_view_module": "@jupyter-widgets/controls",
            "_view_module_version": "1.5.0",
            "_view_name": "ProgressView",
            "bar_style": "success",
            "description": "",
            "description_tooltip": null,
            "layout": "IPY_MODEL_f3841caaddfe4e0db6ea6af40f9259b9",
            "max": 9989,
            "min": 0,
            "orientation": "horizontal",
            "style": "IPY_MODEL_1a95fe4e75fb4f4dadc61c9c76cf192b",
            "value": 9989
          }
        },
        "53d1bc77975c48b19d335f147b9b7ea1": {
          "model_module": "@jupyter-widgets/controls",
          "model_name": "HTMLModel",
          "model_module_version": "1.5.0",
          "state": {
            "_dom_classes": [],
            "_model_module": "@jupyter-widgets/controls",
            "_model_module_version": "1.5.0",
            "_model_name": "HTMLModel",
            "_view_count": null,
            "_view_module": "@jupyter-widgets/controls",
            "_view_module_version": "1.5.0",
            "_view_name": "HTMLView",
            "description": "",
            "description_tooltip": null,
            "layout": "IPY_MODEL_922c7ebed3e94c92a15d1d2622a77016",
            "placeholder": "​",
            "style": "IPY_MODEL_5115d9deae9c49fa87f0037ea8562182",
            "value": " 9989/9989 [00:01&lt;00:00, 6501.67it/s]"
          }
        },
        "414b5f95dbe34bf18d09d2ff7f1199c6": {
          "model_module": "@jupyter-widgets/base",
          "model_name": "LayoutModel",
          "model_module_version": "1.2.0",
          "state": {
            "_model_module": "@jupyter-widgets/base",
            "_model_module_version": "1.2.0",
            "_model_name": "LayoutModel",
            "_view_count": null,
            "_view_module": "@jupyter-widgets/base",
            "_view_module_version": "1.2.0",
            "_view_name": "LayoutView",
            "align_content": null,
            "align_items": null,
            "align_self": null,
            "border": null,
            "bottom": null,
            "display": null,
            "flex": null,
            "flex_flow": null,
            "grid_area": null,
            "grid_auto_columns": null,
            "grid_auto_flow": null,
            "grid_auto_rows": null,
            "grid_column": null,
            "grid_gap": null,
            "grid_row": null,
            "grid_template_areas": null,
            "grid_template_columns": null,
            "grid_template_rows": null,
            "height": null,
            "justify_content": null,
            "justify_items": null,
            "left": null,
            "margin": null,
            "max_height": null,
            "max_width": null,
            "min_height": null,
            "min_width": null,
            "object_fit": null,
            "object_position": null,
            "order": null,
            "overflow": null,
            "overflow_x": null,
            "overflow_y": null,
            "padding": null,
            "right": null,
            "top": null,
            "visibility": null,
            "width": null
          }
        },
        "a469ca21f4b64eaf8c1cb3ed7d006ae3": {
          "model_module": "@jupyter-widgets/base",
          "model_name": "LayoutModel",
          "model_module_version": "1.2.0",
          "state": {
            "_model_module": "@jupyter-widgets/base",
            "_model_module_version": "1.2.0",
            "_model_name": "LayoutModel",
            "_view_count": null,
            "_view_module": "@jupyter-widgets/base",
            "_view_module_version": "1.2.0",
            "_view_name": "LayoutView",
            "align_content": null,
            "align_items": null,
            "align_self": null,
            "border": null,
            "bottom": null,
            "display": null,
            "flex": null,
            "flex_flow": null,
            "grid_area": null,
            "grid_auto_columns": null,
            "grid_auto_flow": null,
            "grid_auto_rows": null,
            "grid_column": null,
            "grid_gap": null,
            "grid_row": null,
            "grid_template_areas": null,
            "grid_template_columns": null,
            "grid_template_rows": null,
            "height": null,
            "justify_content": null,
            "justify_items": null,
            "left": null,
            "margin": null,
            "max_height": null,
            "max_width": null,
            "min_height": null,
            "min_width": null,
            "object_fit": null,
            "object_position": null,
            "order": null,
            "overflow": null,
            "overflow_x": null,
            "overflow_y": null,
            "padding": null,
            "right": null,
            "top": null,
            "visibility": null,
            "width": null
          }
        },
        "e98755c202814d87a3e162ff067b4ed3": {
          "model_module": "@jupyter-widgets/controls",
          "model_name": "DescriptionStyleModel",
          "model_module_version": "1.5.0",
          "state": {
            "_model_module": "@jupyter-widgets/controls",
            "_model_module_version": "1.5.0",
            "_model_name": "DescriptionStyleModel",
            "_view_count": null,
            "_view_module": "@jupyter-widgets/base",
            "_view_module_version": "1.2.0",
            "_view_name": "StyleView",
            "description_width": ""
          }
        },
        "f3841caaddfe4e0db6ea6af40f9259b9": {
          "model_module": "@jupyter-widgets/base",
          "model_name": "LayoutModel",
          "model_module_version": "1.2.0",
          "state": {
            "_model_module": "@jupyter-widgets/base",
            "_model_module_version": "1.2.0",
            "_model_name": "LayoutModel",
            "_view_count": null,
            "_view_module": "@jupyter-widgets/base",
            "_view_module_version": "1.2.0",
            "_view_name": "LayoutView",
            "align_content": null,
            "align_items": null,
            "align_self": null,
            "border": null,
            "bottom": null,
            "display": null,
            "flex": null,
            "flex_flow": null,
            "grid_area": null,
            "grid_auto_columns": null,
            "grid_auto_flow": null,
            "grid_auto_rows": null,
            "grid_column": null,
            "grid_gap": null,
            "grid_row": null,
            "grid_template_areas": null,
            "grid_template_columns": null,
            "grid_template_rows": null,
            "height": null,
            "justify_content": null,
            "justify_items": null,
            "left": null,
            "margin": null,
            "max_height": null,
            "max_width": null,
            "min_height": null,
            "min_width": null,
            "object_fit": null,
            "object_position": null,
            "order": null,
            "overflow": null,
            "overflow_x": null,
            "overflow_y": null,
            "padding": null,
            "right": null,
            "top": null,
            "visibility": null,
            "width": null
          }
        },
        "1a95fe4e75fb4f4dadc61c9c76cf192b": {
          "model_module": "@jupyter-widgets/controls",
          "model_name": "ProgressStyleModel",
          "model_module_version": "1.5.0",
          "state": {
            "_model_module": "@jupyter-widgets/controls",
            "_model_module_version": "1.5.0",
            "_model_name": "ProgressStyleModel",
            "_view_count": null,
            "_view_module": "@jupyter-widgets/base",
            "_view_module_version": "1.2.0",
            "_view_name": "StyleView",
            "bar_color": null,
            "description_width": ""
          }
        },
        "922c7ebed3e94c92a15d1d2622a77016": {
          "model_module": "@jupyter-widgets/base",
          "model_name": "LayoutModel",
          "model_module_version": "1.2.0",
          "state": {
            "_model_module": "@jupyter-widgets/base",
            "_model_module_version": "1.2.0",
            "_model_name": "LayoutModel",
            "_view_count": null,
            "_view_module": "@jupyter-widgets/base",
            "_view_module_version": "1.2.0",
            "_view_name": "LayoutView",
            "align_content": null,
            "align_items": null,
            "align_self": null,
            "border": null,
            "bottom": null,
            "display": null,
            "flex": null,
            "flex_flow": null,
            "grid_area": null,
            "grid_auto_columns": null,
            "grid_auto_flow": null,
            "grid_auto_rows": null,
            "grid_column": null,
            "grid_gap": null,
            "grid_row": null,
            "grid_template_areas": null,
            "grid_template_columns": null,
            "grid_template_rows": null,
            "height": null,
            "justify_content": null,
            "justify_items": null,
            "left": null,
            "margin": null,
            "max_height": null,
            "max_width": null,
            "min_height": null,
            "min_width": null,
            "object_fit": null,
            "object_position": null,
            "order": null,
            "overflow": null,
            "overflow_x": null,
            "overflow_y": null,
            "padding": null,
            "right": null,
            "top": null,
            "visibility": null,
            "width": null
          }
        },
        "5115d9deae9c49fa87f0037ea8562182": {
          "model_module": "@jupyter-widgets/controls",
          "model_name": "DescriptionStyleModel",
          "model_module_version": "1.5.0",
          "state": {
            "_model_module": "@jupyter-widgets/controls",
            "_model_module_version": "1.5.0",
            "_model_name": "DescriptionStyleModel",
            "_view_count": null,
            "_view_module": "@jupyter-widgets/base",
            "_view_module_version": "1.2.0",
            "_view_name": "StyleView",
            "description_width": ""
          }
        }
      }
    }
  },
  "nbformat": 4,
  "nbformat_minor": 0
}